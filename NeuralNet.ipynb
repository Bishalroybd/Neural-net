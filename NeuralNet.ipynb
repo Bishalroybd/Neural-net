{
  "nbformat": 4,
  "nbformat_minor": 0,
  "metadata": {
    "colab": {
      "provenance": [],
      "authorship_tag": "ABX9TyPAcacfzwilhXY1FonDhzqH",
      "include_colab_link": true
    },
    "kernelspec": {
      "name": "python3",
      "display_name": "Python 3"
    },
    "language_info": {
      "name": "python"
    }
  },
  "cells": [
    {
      "cell_type": "markdown",
      "metadata": {
        "id": "view-in-github",
        "colab_type": "text"
      },
      "source": [
        "<a href=\"https://colab.research.google.com/github/Bishalroybd/Neural-net/blob/main/NeuralNet.ipynb\" target=\"_parent\"><img src=\"https://colab.research.google.com/assets/colab-badge.svg\" alt=\"Open In Colab\"/></a>"
      ]
    },
    {
      "cell_type": "code",
      "execution_count": 1,
      "metadata": {
        "id": "6tgSH6aR9G2T"
      },
      "outputs": [],
      "source": [
        "import torch\n",
        "import torch.nn as nn\n",
        "import torch.nn.functional as F"
      ]
    },
    {
      "cell_type": "code",
      "source": [
        "class Model(nn.Module):\n",
        "    def __init__(self,in_features=4,h1=8,h2=9,out_features=3):\n",
        "        super().__init__()\n",
        "        self.fc1 = nn.Linear(in_features,h1)\n",
        "        self.fc2 = nn.Linear(h1,h2)\n",
        "        self.out = nn.Linear(h2,out_features)\n",
        "\n",
        "\n",
        "    def forward(self,x):\n",
        "        x = F.relu(self.fc1(x))\n",
        "        x = F.relu(self.fc2(x))\n",
        "        x = self.out(x)\n",
        "        return x\n"
      ],
      "metadata": {
        "id": "CnW9ZYFzEmue"
      },
      "execution_count": 2,
      "outputs": []
    },
    {
      "cell_type": "code",
      "source": [
        "torch.manual_seed(32)\n",
        "model = Model()"
      ],
      "metadata": {
        "id": "DD6tIpqUHnQ3"
      },
      "execution_count": 3,
      "outputs": []
    },
    {
      "cell_type": "code",
      "source": [
        "import pandas as pd\n",
        "import numpy as np\n",
        "import matplotlib.pyplot as plt\n",
        "%matplotlib inline"
      ],
      "metadata": {
        "id": "9tHnFJMRJSvq"
      },
      "execution_count": 4,
      "outputs": []
    },
    {
      "cell_type": "code",
      "source": [
        "url = 'https://gist.githubusercontent.com/curran/a08a1080b88344b0c8a7/raw/0e7a9b0a5d22642a06d3d5b9bcbad9890c8ee534/iris.csv'\n",
        "my_df = pd.read_csv(url)"
      ],
      "metadata": {
        "id": "4cn6MpneJhOg"
      },
      "execution_count": 5,
      "outputs": []
    },
    {
      "cell_type": "code",
      "source": [
        "my_df['species'] = my_df['species'].replace({'setosa':0,'versicolor':1,'virginica':2})\n",
        "\n",
        "\n"
      ],
      "metadata": {
        "id": "O9KdqijtOJQ8"
      },
      "execution_count": 6,
      "outputs": []
    },
    {
      "cell_type": "code",
      "source": [
        "X = my_df.drop('species',axis=1).values\n",
        "y = my_df['species'].values"
      ],
      "metadata": {
        "id": "2A1qW6juIkWs"
      },
      "execution_count": 7,
      "outputs": []
    },
    {
      "cell_type": "code",
      "source": [
        "from sklearn.model_selection import train_test_split"
      ],
      "metadata": {
        "id": "DBQfDAy8zGUI"
      },
      "execution_count": 8,
      "outputs": []
    },
    {
      "cell_type": "code",
      "source": [
        "X_train,X_test,y_train,y_test = train_test_split(X,y,test_size=0.2,random_state=32)"
      ],
      "metadata": {
        "id": "pdBhp-9WIx8x"
      },
      "execution_count": 9,
      "outputs": []
    },
    {
      "cell_type": "code",
      "source": [
        "# convert X,y\n",
        "X_train = torch.FloatTensor(X_train)\n",
        "X_test = torch.FloatTensor(X_test)\n",
        "y_train = torch.LongTensor(y_train)\n",
        "y_test = torch.LongTensor(y_test)"
      ],
      "metadata": {
        "id": "htz6Ct0B04o5"
      },
      "execution_count": 10,
      "outputs": []
    },
    {
      "cell_type": "code",
      "source": [
        "# set the criterion of model to measure the error, how far off the predictions are from the data\n",
        "criterion = nn.CrossEntropyLoss()\n",
        "# Choose adam optimizer,lr = learning rate(if error doesn't go down should decrease lr)\n",
        "optimizer = torch.optim.Adam(model.parameters(),lr=0.0091)"
      ],
      "metadata": {
        "id": "2Zb56KdK26X_"
      },
      "execution_count": 11,
      "outputs": []
    },
    {
      "cell_type": "code",
      "source": [
        "# Train model\n",
        "# Epochs (one run thru all the training data in our network)\n",
        "epochs = 1800\n",
        "losses = []\n",
        "for i in range(epochs):\n",
        "\n",
        "# go forward and get a prediction\n",
        "    y_pred = model.forward(X_train)         # get predicted results\n",
        "\n",
        "# measure the loss/error, high at first\n",
        "    loss = criterion(y_pred,y_train)        #predicted value vs the y_train value\n",
        "\n",
        "# keep track of losses\n",
        "    losses.append(loss.detach().numpy())\n",
        "\n",
        "# print every 10 epochs\n",
        "    if i % 10 == 0 :\n",
        "     print(f'Epoch:{i} and loss:{loss}')\n",
        "\n",
        " # do some back propagation: take the error rate of forward propagation and feed it back words\n",
        " # thru the networks to fine tune the weights\n",
        "     optimizer.zero_grad()\n",
        "     loss.backward()\n",
        "     optimizer.step()\n"
      ],
      "metadata": {
        "id": "1zyqlZS94BIO",
        "colab": {
          "base_uri": "https://localhost:8080/"
        },
        "outputId": "e6b653c2-925d-44b4-a44d-715a6f9cb6ac"
      },
      "execution_count": 12,
      "outputs": [
        {
          "output_type": "stream",
          "name": "stdout",
          "text": [
            "Epoch:0 and loss:1.169895887374878\n",
            "Epoch:10 and loss:1.1339794397354126\n",
            "Epoch:20 and loss:1.1027908325195312\n",
            "Epoch:30 and loss:1.0759919881820679\n",
            "Epoch:40 and loss:1.0537554025650024\n",
            "Epoch:50 and loss:1.034684419631958\n",
            "Epoch:60 and loss:1.019136905670166\n",
            "Epoch:70 and loss:1.0060210227966309\n",
            "Epoch:80 and loss:0.9942285418510437\n",
            "Epoch:90 and loss:0.9831199049949646\n",
            "Epoch:100 and loss:0.9705972075462341\n",
            "Epoch:110 and loss:0.9569019675254822\n",
            "Epoch:120 and loss:0.9421079754829407\n",
            "Epoch:130 and loss:0.9262900948524475\n",
            "Epoch:140 and loss:0.9092826247215271\n",
            "Epoch:150 and loss:0.891714334487915\n",
            "Epoch:160 and loss:0.8747509717941284\n",
            "Epoch:170 and loss:0.8586130738258362\n",
            "Epoch:180 and loss:0.8441287875175476\n",
            "Epoch:190 and loss:0.8324451446533203\n",
            "Epoch:200 and loss:0.8206920027732849\n",
            "Epoch:210 and loss:0.8085577487945557\n",
            "Epoch:220 and loss:0.7960841655731201\n",
            "Epoch:230 and loss:0.7832003831863403\n",
            "Epoch:240 and loss:0.7702319025993347\n",
            "Epoch:250 and loss:0.7571703791618347\n",
            "Epoch:260 and loss:0.7432098984718323\n",
            "Epoch:270 and loss:0.7288352847099304\n",
            "Epoch:280 and loss:0.7147473692893982\n",
            "Epoch:290 and loss:0.7001066207885742\n",
            "Epoch:300 and loss:0.6845106482505798\n",
            "Epoch:310 and loss:0.6679656505584717\n",
            "Epoch:320 and loss:0.6475118398666382\n",
            "Epoch:330 and loss:0.6251680254936218\n",
            "Epoch:340 and loss:0.6071533560752869\n",
            "Epoch:350 and loss:0.5904731154441833\n",
            "Epoch:360 and loss:0.5732036828994751\n",
            "Epoch:370 and loss:0.5542207956314087\n",
            "Epoch:380 and loss:0.5339950919151306\n",
            "Epoch:390 and loss:0.5136594176292419\n",
            "Epoch:400 and loss:0.49420249462127686\n",
            "Epoch:410 and loss:0.47634631395339966\n",
            "Epoch:420 and loss:0.45967578887939453\n",
            "Epoch:430 and loss:0.44326987862586975\n",
            "Epoch:440 and loss:0.427057147026062\n",
            "Epoch:450 and loss:0.4116242229938507\n",
            "Epoch:460 and loss:0.3983188271522522\n",
            "Epoch:470 and loss:0.3856527507305145\n",
            "Epoch:480 and loss:0.37166711688041687\n",
            "Epoch:490 and loss:0.3571808636188507\n",
            "Epoch:500 and loss:0.34392249584198\n",
            "Epoch:510 and loss:0.3313535451889038\n",
            "Epoch:520 and loss:0.3176783621311188\n",
            "Epoch:530 and loss:0.3042270243167877\n",
            "Epoch:540 and loss:0.2923106849193573\n",
            "Epoch:550 and loss:0.28039905428886414\n",
            "Epoch:560 and loss:0.2676723897457123\n",
            "Epoch:570 and loss:0.25593218207359314\n",
            "Epoch:580 and loss:0.24516712129116058\n",
            "Epoch:590 and loss:0.23371274769306183\n",
            "Epoch:600 and loss:0.22282148897647858\n",
            "Epoch:610 and loss:0.21311821043491364\n",
            "Epoch:620 and loss:0.2031133621931076\n",
            "Epoch:630 and loss:0.1935947984457016\n",
            "Epoch:640 and loss:0.18517465889453888\n",
            "Epoch:650 and loss:0.1766696572303772\n",
            "Epoch:660 and loss:0.16875725984573364\n",
            "Epoch:670 and loss:0.1617252379655838\n",
            "Epoch:680 and loss:0.15468169748783112\n",
            "Epoch:690 and loss:0.1483282744884491\n",
            "Epoch:700 and loss:0.14257477223873138\n",
            "Epoch:710 and loss:0.13688397407531738\n",
            "Epoch:720 and loss:0.13191644847393036\n",
            "Epoch:730 and loss:0.1272163987159729\n",
            "Epoch:740 and loss:0.12276872247457504\n",
            "Epoch:750 and loss:0.11889585107564926\n",
            "Epoch:760 and loss:0.11508690565824509\n",
            "Epoch:770 and loss:0.1116948127746582\n",
            "Epoch:780 and loss:0.10858747363090515\n",
            "Epoch:790 and loss:0.1055946797132492\n",
            "Epoch:800 and loss:0.10299443453550339\n",
            "Epoch:810 and loss:0.10047569125890732\n",
            "Epoch:820 and loss:0.09817580133676529\n",
            "Epoch:830 and loss:0.09610365331172943\n",
            "Epoch:840 and loss:0.09408792108297348\n",
            "Epoch:850 and loss:0.09231337159872055\n",
            "Epoch:860 and loss:0.09061898291110992\n",
            "Epoch:870 and loss:0.08903854340314865\n",
            "Epoch:880 and loss:0.08761612325906754\n",
            "Epoch:890 and loss:0.08622683584690094\n",
            "Epoch:900 and loss:0.08498367667198181\n",
            "Epoch:910 and loss:0.08379791676998138\n",
            "Epoch:920 and loss:0.08268050849437714\n",
            "Epoch:930 and loss:0.08166620880365372\n",
            "Epoch:940 and loss:0.08067385107278824\n",
            "Epoch:950 and loss:0.07977849990129471\n",
            "Epoch:960 and loss:0.07891429215669632\n",
            "Epoch:970 and loss:0.07810371369123459\n",
            "Epoch:980 and loss:0.07735037803649902\n",
            "Epoch:990 and loss:0.07661645859479904\n",
            "Epoch:1000 and loss:0.07594535499811172\n",
            "Epoch:1010 and loss:0.07529017329216003\n",
            "Epoch:1020 and loss:0.07467848807573318\n",
            "Epoch:1030 and loss:0.07409647852182388\n",
            "Epoch:1040 and loss:0.07353636622428894\n",
            "Epoch:1050 and loss:0.07301367074251175\n",
            "Epoch:1060 and loss:0.07250294089317322\n",
            "Epoch:1070 and loss:0.0720251277089119\n",
            "Epoch:1080 and loss:0.07156168669462204\n",
            "Epoch:1090 and loss:0.07112237811088562\n",
            "Epoch:1100 and loss:0.07070193439722061\n",
            "Epoch:1110 and loss:0.0702950730919838\n",
            "Epoch:1120 and loss:0.06990931183099747\n",
            "Epoch:1130 and loss:0.06953240185976028\n",
            "Epoch:1140 and loss:0.06917496025562286\n",
            "Epoch:1150 and loss:0.06882639974355698\n",
            "Epoch:1160 and loss:0.06849273294210434\n",
            "Epoch:1170 and loss:0.0681699886918068\n",
            "Epoch:1180 and loss:0.06785774976015091\n",
            "Epoch:1190 and loss:0.06755761057138443\n",
            "Epoch:1200 and loss:0.0672651156783104\n",
            "Epoch:1210 and loss:0.06698445230722427\n",
            "Epoch:1220 and loss:0.0667102113366127\n",
            "Epoch:1230 and loss:0.06644649803638458\n",
            "Epoch:1240 and loss:0.06618911772966385\n",
            "Epoch:1250 and loss:0.06594041734933853\n",
            "Epoch:1260 and loss:0.0656985267996788\n",
            "Epoch:1270 and loss:0.06546348333358765\n",
            "Epoch:1280 and loss:0.0652354285120964\n",
            "Epoch:1290 and loss:0.06501287966966629\n",
            "Epoch:1300 and loss:0.06479720026254654\n",
            "Epoch:1310 and loss:0.06458622217178345\n",
            "Epoch:1320 and loss:0.06438160687685013\n",
            "Epoch:1330 and loss:0.06418132781982422\n",
            "Epoch:1340 and loss:0.06398674845695496\n",
            "Epoch:1350 and loss:0.06379633396863937\n",
            "Epoch:1360 and loss:0.06361088156700134\n",
            "Epoch:1370 and loss:0.0634295642375946\n",
            "Epoch:1380 and loss:0.06325265020132065\n",
            "Epoch:1390 and loss:0.06307975947856903\n",
            "Epoch:1400 and loss:0.06291075795888901\n",
            "Epoch:1410 and loss:0.06274551898241043\n",
            "Epoch:1420 and loss:0.06258370727300644\n",
            "Epoch:1430 and loss:0.062425561249256134\n",
            "Epoch:1440 and loss:0.06227051839232445\n",
            "Epoch:1450 and loss:0.06211886554956436\n",
            "Epoch:1460 and loss:0.061970118433237076\n",
            "Epoch:1470 and loss:0.06182447820901871\n",
            "Epoch:1480 and loss:0.061681509017944336\n",
            "Epoch:1490 and loss:0.06154143437743187\n",
            "Epoch:1500 and loss:0.06140381470322609\n",
            "Epoch:1510 and loss:0.0612688884139061\n",
            "Epoch:1520 and loss:0.061136312782764435\n",
            "Epoch:1530 and loss:0.061006199568510056\n",
            "Epoch:1540 and loss:0.060878265649080276\n",
            "Epoch:1550 and loss:0.06075261905789375\n",
            "Epoch:1560 and loss:0.06062902510166168\n",
            "Epoch:1570 and loss:0.060507576912641525\n",
            "Epoch:1580 and loss:0.06038803979754448\n",
            "Epoch:1590 and loss:0.06027047708630562\n",
            "Epoch:1600 and loss:0.06015469506382942\n",
            "Epoch:1610 and loss:0.06004076078534126\n",
            "Epoch:1620 and loss:0.0599285289645195\n",
            "Epoch:1630 and loss:0.059818003326654434\n",
            "Epoch:1640 and loss:0.0597090870141983\n",
            "Epoch:1650 and loss:0.05960175767540932\n",
            "Epoch:1660 and loss:0.05949592590332031\n",
            "Epoch:1670 and loss:0.05939162150025368\n",
            "Epoch:1680 and loss:0.05928875133395195\n",
            "Epoch:1690 and loss:0.059187281876802444\n",
            "Epoch:1700 and loss:0.05908714607357979\n",
            "Epoch:1710 and loss:0.05898832902312279\n",
            "Epoch:1720 and loss:0.05889074504375458\n",
            "Epoch:1730 and loss:0.05879444628953934\n",
            "Epoch:1740 and loss:0.05869927257299423\n",
            "Epoch:1750 and loss:0.05860532075166702\n",
            "Epoch:1760 and loss:0.05851248651742935\n",
            "Epoch:1770 and loss:0.05842072144150734\n",
            "Epoch:1780 and loss:0.05833005532622337\n",
            "Epoch:1790 and loss:0.05824042111635208\n"
          ]
        }
      ]
    },
    {
      "cell_type": "code",
      "source": [
        "# graph it\n",
        "plt.plot(range(epochs),losses)\n",
        "plt.ylabel('Loss')\n",
        "plt.xlabel('Epoch')"
      ],
      "metadata": {
        "id": "UtbpUm03joxb",
        "colab": {
          "base_uri": "https://localhost:8080/",
          "height": 466
        },
        "outputId": "16344fde-d392-4935-ede4-b795ec6ec9d8"
      },
      "execution_count": 13,
      "outputs": [
        {
          "output_type": "execute_result",
          "data": {
            "text/plain": [
              "Text(0.5, 0, 'Epoch')"
            ]
          },
          "metadata": {},
          "execution_count": 13
        },
        {
          "output_type": "display_data",
          "data": {
            "text/plain": [
              "<Figure size 640x480 with 1 Axes>"
            ],
            "image/png": "[encoded data removed]"
          },
          "metadata": {}
        }
      ]
    },
    {
      "cell_type": "code",
      "source": [
        "# evaluate model on test data set (validate model on test set)\n",
        "with torch.no_grad():\n",
        "    y_eval = model.forward(X_test)\n",
        "    loss = criterion(y_eval,y_test)"
      ],
      "metadata": {
        "id": "EiRik4YMmguO"
      },
      "execution_count": 14,
      "outputs": []
    },
    {
      "cell_type": "code",
      "source": [
        "loss"
      ],
      "metadata": {
        "colab": {
          "base_uri": "https://localhost:8080/"
        },
        "id": "vDvwZnKqLnPO",
        "outputId": "bbb7f51d-113c-4d84-8ce6-26d16062c3e2"
      },
      "execution_count": 15,
      "outputs": [
        {
          "output_type": "execute_result",
          "data": {
            "text/plain": [
              "tensor(0.0338)"
            ]
          },
          "metadata": {},
          "execution_count": 15
        }
      ]
    },
    {
      "cell_type": "code",
      "source": [
        "correct = 0\n",
        "with torch.no_grad():\n",
        "    for i,data in enumerate(X_test):\n",
        "        y_val = model.forward(data)\n",
        "\n",
        "        print(f'{i+1}. {str(y_val)} \\t {y_test[i]} \\t{ y_val.argmax().item()}')\n",
        "\n",
        "        if y_val.argmax().item() == y_test[i]:\n",
        "         correct += 1\n",
        "\n",
        "    print( f'We got {correct} correct!')\n"
      ],
      "metadata": {
        "colab": {
          "base_uri": "https://localhost:8080/"
        },
        "id": "ABE3O2nrL-aq",
        "outputId": "f568cd9f-54a5-4acc-9312-662e20487d43"
      },
      "execution_count": 16,
      "outputs": [
        {
          "output_type": "stream",
          "name": "stdout",
          "text": [
            "1. tensor([-4.2813,  5.2053,  0.5356]) \t 1 \t1\n",
            "2. tensor([  9.3254,   2.0241, -13.8749]) \t 0 \t0\n",
            "3. tensor([  8.3834,   2.2267, -12.8325]) \t 0 \t0\n",
            "4. tensor([-4.4388,  5.5185,  0.4109]) \t 1 \t1\n",
            "5. tensor([-9.1986,  3.5698,  6.5678]) \t 2 \t2\n",
            "6. tensor([-9.6582,  4.7440,  6.0870]) \t 2 \t2\n",
            "7. tensor([  7.8916,   2.4075, -12.3495]) \t 0 \t0\n",
            "8. tensor([  8.7827,   2.0809, -13.2222]) \t 0 \t0\n",
            "9. tensor([-3.7295,  5.5501, -0.3361]) \t 1 \t1\n",
            "10. tensor([  9.0860,   2.0904, -13.6227]) \t 0 \t0\n",
            "11. tensor([-4.6371,  5.9323,  0.4156]) \t 1 \t1\n",
            "12. tensor([-10.9649,   2.3893,   8.9744]) \t 2 \t2\n",
            "13. tensor([-2.2031,  5.0504, -1.3873]) \t 1 \t1\n",
            "14. tensor([-1.3652,  5.7020, -2.8081]) \t 1 \t1\n",
            "15. tensor([-9.3639,  3.3305,  6.7969]) \t 2 \t2\n",
            "16. tensor([-10.6447,   1.9716,   8.9481]) \t 2 \t2\n",
            "17. tensor([-4.9232,  4.7284,  1.4531]) \t 1 \t1\n",
            "18. tensor([-8.2679,  3.6736,  5.5194]) \t 2 \t2\n",
            "19. tensor([-2.0049,  5.4914, -1.9652]) \t 1 \t1\n",
            "20. tensor([  9.8155,   2.1478, -14.6164]) \t 0 \t0\n",
            "21. tensor([  8.6105,   2.3598, -13.2420]) \t 0 \t0\n",
            "22. tensor([-11.7338,   3.3556,   9.1972]) \t 2 \t2\n",
            "23. tensor([-7.3034,  3.8705,  4.3852]) \t 2 \t2\n",
            "24. tensor([  8.6993,   2.0081, -13.0510]) \t 0 \t0\n",
            "25. tensor([  8.5557,   1.8298, -12.7102]) \t 0 \t0\n",
            "26. tensor([-2.0140,  5.6232, -2.1086]) \t 1 \t1\n",
            "27. tensor([  9.7988,   2.1436, -14.5912]) \t 0 \t0\n",
            "28. tensor([-12.2749,   2.0221,  10.4855]) \t 2 \t2\n",
            "29. tensor([  9.3939,   2.0893, -14.0202]) \t 0 \t0\n",
            "30. tensor([  9.1535,   2.0913, -13.7109]) \t 0 \t0\n",
            "We got 30 correct!\n"
          ]
        }
      ]
    },
    {
      "cell_type": "code",
      "source": [
        "new_iris = torch.tensor([[4.7,3.2,1.3,0.2]])"
      ],
      "metadata": {
        "id": "72P1ewFiPZ3l"
      },
      "execution_count": 17,
      "outputs": []
    },
    {
      "cell_type": "code",
      "source": [
        "with torch.no_grad():\n",
        "    print(model(new_iris))\n"
      ],
      "metadata": {
        "colab": {
          "base_uri": "https://localhost:8080/"
        },
        "id": "olTZGMuZPzVL",
        "outputId": "c003a688-5c53-486a-9724-6495df58a779"
      },
      "execution_count": 18,
      "outputs": [
        {
          "output_type": "stream",
          "name": "stdout",
          "text": [
            "tensor([[  8.8079,   1.8935, -13.0917]])\n"
          ]
        }
      ]
    },
    {
      "cell_type": "code",
      "source": [
        "# save and load nn model\n",
        "torch.save(model.state_dict(),'iris_model.pt')"
      ],
      "metadata": {
        "id": "-5y-XLRaR3IF"
      },
      "execution_count": 19,
      "outputs": []
    },
    {
      "cell_type": "code",
      "source": [
        "# load the saved model\n",
        "new_model = Model()\n",
        "new_model.load_state_dict(torch.load('iris_model.pt'))"
      ],
      "metadata": {
        "colab": {
          "base_uri": "https://localhost:8080/"
        },
        "id": "dL0ghfQvSZ8d",
        "outputId": "ace37994-4f07-4679-ccdb-a28940fcf32a"
      },
      "execution_count": 20,
      "outputs": [
        {
          "output_type": "stream",
          "name": "stderr",
          "text": [
            "<ipython-input-20-759ffd7e7e10>:3: FutureWarning: You are using `torch.load` with `weights_only=False` (the current default value), which uses the default pickle module implicitly. It is possible to construct malicious pickle data which will execute arbitrary code during unpickling (See https://github.com/pytorch/pytorch/blob/main/SECURITY.md#untrusted-models for more details). In a future release, the default value for `weights_only` will be flipped to `True`. This limits the functions that could be executed during unpickling. Arbitrary objects will no longer be allowed to be loaded via this mode unless they are explicitly allowlisted by the user via `torch.serialization.add_safe_globals`. We recommend you start setting `weights_only=True` for any use case where you don't have full control of the loaded file. Please open an issue on GitHub for any issues related to this experimental feature.\n",
            "  new_model.load_state_dict(torch.load('iris_model.pt'))\n"
          ]
        },
        {
          "output_type": "execute_result",
          "data": {
            "text/plain": [
              "<All keys matched successfully>"
            ]
          },
          "metadata": {},
          "execution_count": 20
        }
      ]
    },
    {
      "cell_type": "code",
      "source": [
        "# make sure it loaded correctly\n",
        "new_model.eval()"
      ],
      "metadata": {
        "colab": {
          "base_uri": "https://localhost:8080/"
        },
        "id": "c9z6rzRnSxgB",
        "outputId": "b8468948-cd60-468a-a457-60b9cbfeb2d0"
      },
      "execution_count": 21,
      "outputs": [
        {
          "output_type": "execute_result",
          "data": {
            "text/plain": [
              "Model(\n",
              "  (fc1): Linear(in_features=4, out_features=8, bias=True)\n",
              "  (fc2): Linear(in_features=8, out_features=9, bias=True)\n",
              "  (out): Linear(in_features=9, out_features=3, bias=True)\n",
              ")"
            ]
          },
          "metadata": {},
          "execution_count": 21
        }
      ]
    },
    {
      "cell_type": "code",
      "source": [],
      "metadata": {
        "id": "t1R14ouENmGr"
      },
      "execution_count": 21,
      "outputs": []
    }
  ]
}