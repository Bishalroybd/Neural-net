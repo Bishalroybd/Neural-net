{
  "nbformat": 4,
  "nbformat_minor": 0,
  "metadata": {
    "colab": {
      "provenance": [],
      "authorship_tag": "ABX9TyNue9++qjVxVvHRJHTI5UXw",
      "include_colab_link": true
    },
    "kernelspec": {
      "name": "python3",
      "display_name": "Python 3"
    },
    "language_info": {
      "name": "python"
    }
  },
  "cells": [
    {
      "cell_type": "markdown",
      "metadata": {
        "id": "view-in-github",
        "colab_type": "text"
      },
      "source": [
        "<a href=\"https://colab.research.google.com/github/Bishalroybd/Neural-net/blob/main/Brain_Tumor_Classification.ipynb\" target=\"_parent\"><img src=\"https://colab.research.google.com/assets/colab-badge.svg\" alt=\"Open In Colab\"/></a>"
      ]
    },
    {
      "cell_type": "code",
      "execution_count": 12,
      "metadata": {
        "id": "YJJ3dwL5nmqd"
      },
      "outputs": [],
      "source": [
        "import pandas as pd\n",
        "import numpy as np\n",
        "import matplotlib.pyplot as plt\n",
        "import os, shutil\n",
        "import cv2\n",
        "import matplotlib.image as mpimg\n",
        "import seaborn as sns\n",
        "%matplotlib inline\n",
        "plt.style.use('ggplot')"
      ]
    },
    {
      "cell_type": "code",
      "source": [
        "# Dataset\n",
        "import zipfile\n",
        "\n",
        "z = zipfile.ZipFile('archive.zip')\n",
        "\n",
        "z.extractall()"
      ],
      "metadata": {
        "id": "34ts_0NJw4lG"
      },
      "execution_count": 13,
      "outputs": []
    },
    {
      "cell_type": "code",
      "source": [
        "folder = 'brain_tumor_dataset/yes/'\n",
        "count = 1\n",
        "\n",
        "for filename in os.listdir(folder):\n",
        "    source = folder + filename\n",
        "    destination = folder + \"Y_\" +str(count)+\".jpg\"\n",
        "    os.rename(source, destination)\n",
        "    count+=1\n",
        "print(\"All files are renamed in the yes dir.\")\n"
      ],
      "metadata": {
        "colab": {
          "base_uri": "https://localhost:8080/"
        },
        "id": "1Vr-uisd8n9B",
        "outputId": "84939f59-5228-48d2-9875-b0bf54eab12d"
      },
      "execution_count": 14,
      "outputs": [
        {
          "output_type": "stream",
          "name": "stdout",
          "text": [
            "All files are renamed in the yes dir.\n"
          ]
        }
      ]
    },
    {
      "cell_type": "code",
      "source": [
        "folder = 'brain_tumor_dataset/no/'\n",
        "count = 1\n",
        "\n",
        "for filename in os.listdir(folder):\n",
        "    source = folder + filename\n",
        "    destination = folder + \"N_\" +str(count)+\".jpg\"\n",
        "    os.rename(source, destination)\n",
        "    count+=1\n",
        "print(\"All files are renamed in the no dir.\")"
      ],
      "metadata": {
        "colab": {
          "base_uri": "https://localhost:8080/"
        },
        "id": "poYU8YeW85od",
        "outputId": "489336f4-bf1c-469b-9e1a-a8188e8a1237"
      },
      "execution_count": 15,
      "outputs": [
        {
          "output_type": "stream",
          "name": "stdout",
          "text": [
            "All files are renamed in the no dir.\n"
          ]
        }
      ]
    },
    {
      "cell_type": "code",
      "source": [
        "# EDA(Exploratory Data Analysis)"
      ],
      "metadata": {
        "id": "TM6uq8KBAWNU"
      },
      "execution_count": 16,
      "outputs": []
    },
    {
      "cell_type": "code",
      "source": [
        "listyes = os.listdir(\"brain_tumor_dataset/yes/\")\n",
        "number_files_yes = len(listyes)\n",
        "print(number_files_yes)\n",
        "\n",
        "listno = os.listdir(\"brain_tumor_dataset/no/\")\n",
        "number_files_no = len(listno)\n",
        "print(number_files_no)"
      ],
      "metadata": {
        "colab": {
          "base_uri": "https://localhost:8080/"
        },
        "id": "dGnQcYmHBPsc",
        "outputId": "5fb5bc3a-e1f0-4f95-ab79-cc3614b4693d"
      },
      "execution_count": 17,
      "outputs": [
        {
          "output_type": "stream",
          "name": "stdout",
          "text": [
            "192\n",
            "125\n"
          ]
        }
      ]
    },
    {
      "cell_type": "code",
      "source": [
        "data = {'tumorous': number_files_yes, 'non-tumorous': number_files_no}\n",
        "\n",
        "typex = data.keys()\n",
        "values = data.values()\n",
        "\n",
        "fig = plt.figure(figsize=(7,7))\n",
        "\n",
        "plt.bar(typex, values, color=\"blue\")\n",
        "\n",
        "plt.xlabel(\"Data\")\n",
        "plt.ylabel(\"No of Brain Tumor Images\")\n",
        "plt.title(\"Count of Brain Tumor Images\")\n",
        "plt.show()"
      ],
      "metadata": {
        "colab": {
          "base_uri": "https://localhost:8080/",
          "height": 646
        },
        "id": "8jLbYxFqWsNz",
        "outputId": "f8fc249c-b1bc-43e5-cfda-eecfa5b4ca05"
      },
      "execution_count": 18,
      "outputs": [
        {
          "output_type": "display_data",
          "data": {
            "text/plain": [
              "<Figure size 700x700 with 1 Axes>"
            ],
            "image/png": "[encoded data removed]"
          },
          "metadata": {}
        }
      ]
    },
    {
      "cell_type": "code",
      "source": [
        "# Data Augmentation\n",
        "import tensorflow as tf\n",
        "from tensorflow.keras.preprocessing.image import ImageDataGenerator\n",
        "from tensorflow.keras.models import Model\n",
        "from tensorflow.keras.layers import Flatten, Dense, Dropout\n",
        "from tensorflow.keras.applications.vgg19 import VGG19\n",
        "from tensorflow.keras.optimizers import SGD,Adam\n",
        "from tensorflow.keras.callbacks import ModelCheckpoint, EarlyStopping, ReduceLROnPlateau"
      ],
      "metadata": {
        "id": "_8D0Jn3FzuUa"
      },
      "execution_count": 19,
      "outputs": []
    },
    {
      "cell_type": "code",
      "source": [
        "def timing(sec_elapsed):\n",
        "    h = int(sec_elapsed / (60*60))\n",
        "    m = int(sec_elapsed % (60*60) / 60)\n",
        "    s = sec_elapsed % 60\n",
        "    return f\"{h}:{m}:{s}\""
      ],
      "metadata": {
        "id": "E3t7VUHU1oIB"
      },
      "execution_count": 20,
      "outputs": []
    },
    {
      "cell_type": "code",
      "source": [
        "def augmented_data(file_dir, n_generated_samples, save_to_dir):\n",
        "    data_gen = ImageDataGenerator(rotation_range=10,\n",
        "                      width_shift_range=0.1,\n",
        "                      height_shift_range=0.1,\n",
        "                      shear_range=0.1,\n",
        "                      brightness_range=(0.3, 1.0),\n",
        "                      horizontal_flip=True,\n",
        "                      vertical_flip=True,\n",
        "                      fill_mode='nearest')\n",
        "    for filename in os.listdir(file_dir):\n",
        "        image = cv2.imread(file_dir + '/' + filename)\n",
        "        image = image.reshape((1,) + image.shape)\n",
        "        save_prefix = 'aug_' + filename[:-4]\n",
        "        i=0\n",
        "        for batch in data_gen.flow(x = image, batch_size = 1, save_to_dir = save_to_dir, save_prefix = save_prefix, save_format = \"jpg\"):\n",
        "            i+=1\n",
        "            if i>n_generated_samples:\n",
        "                break"
      ],
      "metadata": {
        "id": "6ALQyRBs1wd2"
      },
      "execution_count": 21,
      "outputs": []
    },
    {
      "cell_type": "code",
      "source": [
        "import time\n",
        "import os  # Import os for joining paths\n",
        "\n",
        "def clear_directory(directory):\n",
        "    \"\"\"Remove all files in the directory.\"\"\"\n",
        "    if os.path.exists(directory):\n",
        "        shutil.rmtree(directory)  # Remove the directory and all its contents\n",
        "    os.makedirs(directory)  # Recreate an empty directory\n",
        "start_time = time.time()\n",
        "\n",
        "yes_path = '/content/yes'\n",
        "no_path = '/content/no'\n",
        "\n",
        "augmented_data_path = '/content/Augmented_data/'\n",
        "\n",
        "# Ensure the 'yes' and 'no' directories inside Augmented_data exist\n",
        "os.makedirs(os.path.join(augmented_data_path, 'yes'), exist_ok=True)\n",
        "os.makedirs(os.path.join(augmented_data_path, 'no'), exist_ok=True)\n",
        "\n",
        "# Call the augmented_data function\n",
        "augmented_data(file_dir=yes_path, n_generated_samples=6, save_to_dir=os.path.join(augmented_data_path, 'yes'))\n",
        "augmented_data(file_dir=no_path, n_generated_samples=9, save_to_dir=os.path.join(augmented_data_path, 'no'))\n",
        "\n",
        "end_time = time.time()\n",
        "execution_time = end_time - start_time\n",
        "print(f\"Execution time: {execution_time} seconds\")\n"
      ],
      "metadata": {
        "colab": {
          "base_uri": "https://localhost:8080/"
        },
        "id": "jHyse55g4V0b",
        "outputId": "3c4f4b68-7bef-4cf8-e6bd-76fdc299c83b"
      },
      "execution_count": 22,
      "outputs": [
        {
          "output_type": "stream",
          "name": "stdout",
          "text": [
            "Execution time: 109.25978422164917 seconds\n"
          ]
        }
      ]
    },
    {
      "cell_type": "code",
      "source": [
        "def data_summary(main_path):\n",
        "    yes_path = \"/content/Augmented_data/yes\"\n",
        "    no_path = \"/content/Augmented_data/no\"\n",
        "\n",
        "    n_pos = len(os.listdir(yes_path))\n",
        "    n_neg = len(os.listdir(no_path))\n",
        "\n",
        "    n = (n_pos + n_neg)\n",
        "\n",
        "    pos_per = (n_pos*100)/n\n",
        "    neg_per = (n_neg*100)/n\n",
        "\n",
        "    print(f\"Number of sample: {n}\")\n",
        "    print(f\"{n_pos} Number of positive sample in percentage: {pos_per}%\")\n",
        "    print(f\"{n_neg} Number of negative sample in percentage: {neg_per}%\")"
      ],
      "metadata": {
        "id": "XGXGt1qV_HmE"
      },
      "execution_count": 23,
      "outputs": []
    },
    {
      "cell_type": "code",
      "source": [
        "data_summary(augmented_data_path)"
      ],
      "metadata": {
        "colab": {
          "base_uri": "https://localhost:8080/"
        },
        "id": "RfZtNeIjXJ3M",
        "outputId": "31ee8364-4a79-44e4-f259-09916cff7995"
      },
      "execution_count": 24,
      "outputs": [
        {
          "output_type": "stream",
          "name": "stdout",
          "text": [
            "Number of sample: 3013\n",
            "2033 Number of positive sample in percentage: 67.47427812811152%\n",
            "980 Number of negative sample in percentage: 32.525721871888486%\n"
          ]
        }
      ]
    }
  ]
}