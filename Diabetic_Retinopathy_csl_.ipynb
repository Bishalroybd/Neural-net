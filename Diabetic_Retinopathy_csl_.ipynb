{
  "nbformat": 4,
  "nbformat_minor": 0,
  "metadata": {
    "colab": {
      "provenance": [],
      "mount_file_id": "1ra6pFbNRRoZKStZ4dxbfVo_EVGVZlQXx",
      "authorship_tag": "ABX9TyM/2Mfm6/J8gN6GiykCSRDS",
      "include_colab_link": true
    },
    "kernelspec": {
      "name": "python3",
      "display_name": "Python 3"
    },
    "language_info": {
      "name": "python"
    }
  },
  "cells": [
    {
      "cell_type": "markdown",
      "metadata": {
        "id": "view-in-github",
        "colab_type": "text"
      },
      "source": [
        "<a href=\"https://colab.research.google.com/github/Bishalroybd/Neural-net/blob/main/Diabetic_Retinopathy_csl_.ipynb\" target=\"_parent\"><img src=\"https://colab.research.google.com/assets/colab-badge.svg\" alt=\"Open In Colab\"/></a>"
      ]
    },
    {
      "cell_type": "code",
      "execution_count": 1,
      "metadata": {
        "id": "B09D44dFpAgH"
      },
      "outputs": [],
      "source": [
        "import pandas as pd\n",
        "import numpy as np\n",
        "import matplotlib.pyplot as plt\n",
        "import os, shutil\n",
        "import cv2\n",
        "import matplotlib.image as mpimg\n",
        "import seaborn as sns\n",
        "%matplotlib inline\n",
        "plt.style.use('ggplot')"
      ]
    },
    {
      "cell_type": "code",
      "source": [
        "! pip install kaggle"
      ],
      "metadata": {
        "colab": {
          "base_uri": "https://localhost:8080/"
        },
        "id": "q_ih_afyp8IQ",
        "outputId": "6a880375-9bc8-4370-edf0-7517ee43a49c"
      },
      "execution_count": 2,
      "outputs": [
        {
          "output_type": "stream",
          "name": "stdout",
          "text": [
            "Requirement already satisfied: kaggle in /usr/local/lib/python3.11/dist-packages (1.7.4.2)\n",
            "Requirement already satisfied: bleach in /usr/local/lib/python3.11/dist-packages (from kaggle) (6.2.0)\n",
            "Requirement already satisfied: certifi>=14.05.14 in /usr/local/lib/python3.11/dist-packages (from kaggle) (2025.1.31)\n",
            "Requirement already satisfied: charset-normalizer in /usr/local/lib/python3.11/dist-packages (from kaggle) (3.4.1)\n",
            "Requirement already satisfied: idna in /usr/local/lib/python3.11/dist-packages (from kaggle) (3.10)\n",
            "Requirement already satisfied: protobuf in /usr/local/lib/python3.11/dist-packages (from kaggle) (5.29.4)\n",
            "Requirement already satisfied: python-dateutil>=2.5.3 in /usr/local/lib/python3.11/dist-packages (from kaggle) (2.8.2)\n",
            "Requirement already satisfied: python-slugify in /usr/local/lib/python3.11/dist-packages (from kaggle) (8.0.4)\n",
            "Requirement already satisfied: requests in /usr/local/lib/python3.11/dist-packages (from kaggle) (2.32.3)\n",
            "Requirement already satisfied: setuptools>=21.0.0 in /usr/local/lib/python3.11/dist-packages (from kaggle) (75.1.0)\n",
            "Requirement already satisfied: six>=1.10 in /usr/local/lib/python3.11/dist-packages (from kaggle) (1.17.0)\n",
            "Requirement already satisfied: text-unidecode in /usr/local/lib/python3.11/dist-packages (from kaggle) (1.3)\n",
            "Requirement already satisfied: tqdm in /usr/local/lib/python3.11/dist-packages (from kaggle) (4.67.1)\n",
            "Requirement already satisfied: urllib3>=1.15.1 in /usr/local/lib/python3.11/dist-packages (from kaggle) (2.3.0)\n",
            "Requirement already satisfied: webencodings in /usr/local/lib/python3.11/dist-packages (from kaggle) (0.5.1)\n"
          ]
        }
      ]
    },
    {
      "cell_type": "code",
      "source": [
        "from google.colab import drive\n",
        "drive.mount('/content/drive')"
      ],
      "metadata": {
        "colab": {
          "base_uri": "https://localhost:8080/"
        },
        "id": "hMfo4f9jqAgZ",
        "outputId": "2f03d111-f3cd-4f02-d1d8-9c02c223a237"
      },
      "execution_count": 3,
      "outputs": [
        {
          "output_type": "stream",
          "name": "stdout",
          "text": [
            "Drive already mounted at /content/drive; to attempt to forcibly remount, call drive.mount(\"/content/drive\", force_remount=True).\n"
          ]
        }
      ]
    },
    {
      "cell_type": "code",
      "source": [
        "! mkdir ~/.kaggle"
      ],
      "metadata": {
        "id": "G4SwgbbjqIrB"
      },
      "execution_count": 4,
      "outputs": []
    },
    {
      "cell_type": "code",
      "source": [
        "! cp /content/drive/MyDrive/kaggle.json ~/.kaggle/kaggle.json"
      ],
      "metadata": {
        "id": "voEiS07oqxbp"
      },
      "execution_count": 5,
      "outputs": []
    },
    {
      "cell_type": "code",
      "source": [
        "! chmod 600 ~/.kaggle/kaggle.json"
      ],
      "metadata": {
        "id": "NlVAfD1rq1eR"
      },
      "execution_count": 6,
      "outputs": []
    },
    {
      "cell_type": "markdown",
      "source": [
        "# APTOS DOWNLOAD\n"
      ],
      "metadata": {
        "id": "Cr5GvcLQgUd7"
      }
    },
    {
      "cell_type": "code",
      "source": [
        "! kaggle datasets download sovitrath/diabetic-retinopathy-224x224-gaussian-filtered"
      ],
      "metadata": {
        "colab": {
          "base_uri": "https://localhost:8080/"
        },
        "id": "6PvHhQ-cq6Lt",
        "outputId": "44ec84b8-13ed-4582-82a4-cd62e7500c63"
      },
      "execution_count": 7,
      "outputs": [
        {
          "output_type": "stream",
          "name": "stdout",
          "text": [
            "Dataset URL: https://www.kaggle.com/datasets/sovitrath/diabetic-retinopathy-224x224-gaussian-filtered\n",
            "License(s): CC0-1.0\n"
          ]
        }
      ]
    },
    {
      "cell_type": "code",
      "source": [
        "import zipfile\n",
        "import os\n",
        "\n",
        "# 1. Create the 'APTOS' folder if it doesn't exist\n",
        "aptos_folder = '/content/APTOS'  # Define the path for the new folder\n",
        "os.makedirs(aptos_folder, exist_ok=True)  # Create the folder\n",
        "\n",
        "# 2. Define the path to the zip file\n",
        "zip_file_path = '/content/diabetic-retinopathy-224x224-gaussian-filtered.zip'\n",
        "\n",
        "# 3. Create a ZipFile object\n",
        "with zipfile.ZipFile(zip_file_path, 'r') as zip_ref:\n",
        "    # 4. Extract all contents to the 'APTOS' folder\n",
        "    zip_ref.extractall(aptos_folder)\n",
        "\n",
        "print(f\"Files extracted to: {aptos_folder}\")"
      ],
      "metadata": {
        "colab": {
          "base_uri": "https://localhost:8080/"
        },
        "id": "xzWm93jiOFyN",
        "outputId": "847068f5-b2ce-47cc-b030-dd82825b8476"
      },
      "execution_count": 8,
      "outputs": [
        {
          "output_type": "stream",
          "name": "stdout",
          "text": [
            "Files extracted to: /content/APTOS\n"
          ]
        }
      ]
    },
    {
      "cell_type": "code",
      "source": [
        "import os\n",
        "\n",
        "def list_folders(path):\n",
        "  for root, dirs, files in os.walk(path):\n",
        "    for dir_name in dirs:\n",
        "      if not any(dir_name.lower().endswith(ext) for ext in ['.png', '.jpg']):\n",
        "        print(os.path.join(root, dir_name))\n",
        "\n",
        "list_folders('/content/APTOS')\n"
      ],
      "metadata": {
        "colab": {
          "base_uri": "https://localhost:8080/"
        },
        "id": "zskOVY5MWaf7",
        "outputId": "b1b48fbc-716d-4b1d-9164-044e126f9e59"
      },
      "execution_count": 9,
      "outputs": [
        {
          "output_type": "stream",
          "name": "stdout",
          "text": [
            "/content/APTOS/gaussian_filtered_images\n",
            "/content/APTOS/gaussian_filtered_images/gaussian_filtered_images\n",
            "/content/APTOS/gaussian_filtered_images/gaussian_filtered_images/Proliferate_DR\n",
            "/content/APTOS/gaussian_filtered_images/gaussian_filtered_images/Severe\n",
            "/content/APTOS/gaussian_filtered_images/gaussian_filtered_images/Mild\n",
            "/content/APTOS/gaussian_filtered_images/gaussian_filtered_images/No_DR\n",
            "/content/APTOS/gaussian_filtered_images/gaussian_filtered_images/Moderate\n"
          ]
        }
      ]
    },
    {
      "cell_type": "code",
      "source": [
        "import os\n",
        "\n",
        "def count_images(directory):\n",
        "  \"\"\"Counts the number of image files in a given directory and its subdirectories.\n",
        "\n",
        "  Args:\n",
        "    directory: The path to the directory to search.\n",
        "\n",
        "  Returns:\n",
        "    The total number of image files found.\n",
        "  \"\"\"\n",
        "  image_extensions = ('.jpg', '.jpeg', '.png', '.gif', '.bmp')  # Add more if needed\n",
        "  image_count = 0\n",
        "  for root, _, files in os.walk(directory):\n",
        "    for file in files:\n",
        "      if file.lower().endswith(image_extensions):\n",
        "        image_count += 1\n",
        "  return image_count\n",
        "\n",
        "# Example usage (assuming your images are in /content/APTOS):\n",
        "aptos_image_count = count_images('/content/APTOS')\n",
        "print(f\"Total number of images found in /content/APTOS: {aptos_image_count}\")\n"
      ],
      "metadata": {
        "colab": {
          "base_uri": "https://localhost:8080/"
        },
        "id": "eTGICGWqH5ug",
        "outputId": "402c22ed-6465-4240-f711-8b33ae134dcd"
      },
      "execution_count": 10,
      "outputs": [
        {
          "output_type": "stream",
          "name": "stdout",
          "text": [
            "Total number of images found in /content/APTOS: 3662\n"
          ]
        }
      ]
    },
    {
      "cell_type": "markdown",
      "source": [
        "# IDRID DOWNLOAD"
      ],
      "metadata": {
        "id": "vFdyMT0bgfMs"
      }
    },
    {
      "cell_type": "code",
      "source": [
        "! kaggle datasets download aaryapatel98/indian-diabetic-retinopathy-image-dataset"
      ],
      "metadata": {
        "colab": {
          "base_uri": "https://localhost:8080/"
        },
        "id": "3aLTbQj9uWJS",
        "outputId": "63099f9d-fd47-4553-b05e-49b810f4428b"
      },
      "execution_count": 11,
      "outputs": [
        {
          "output_type": "stream",
          "name": "stdout",
          "text": [
            "Dataset URL: https://www.kaggle.com/datasets/aaryapatel98/indian-diabetic-retinopathy-image-dataset\n",
            "License(s): Attribution 4.0 International (CC BY 4.0)\n"
          ]
        }
      ]
    },
    {
      "cell_type": "code",
      "source": [
        "import zipfile\n",
        "import os\n",
        "\n",
        "# 1. Create the IDRID folder if it doesn't exist\n",
        "idrid_folder = '/content/IDRID'\n",
        "os.makedirs(idrid_folder, exist_ok=True)\n",
        "\n",
        "# 2. Define the path to the zip file\n",
        "zip_file_path = '/content/indian-diabetic-retinopathy-image-dataset.zip'\n",
        "\n",
        "# 3. Create a ZipFile object\n",
        "with zipfile.ZipFile(zip_file_path, 'r') as zip_ref:\n",
        "    # 4. Extract all contents to the IDRID folder\n",
        "    zip_ref.extractall(idrid_folder)\n",
        "\n",
        "print(f\"Files extracted to: {idrid_folder}\")"
      ],
      "metadata": {
        "colab": {
          "base_uri": "https://localhost:8080/"
        },
        "id": "cW2yFZcdTkU7",
        "outputId": "04c0a014-d17c-4587-be88-e7151d416505"
      },
      "execution_count": 12,
      "outputs": [
        {
          "output_type": "stream",
          "name": "stdout",
          "text": [
            "Files extracted to: /content/IDRID\n"
          ]
        }
      ]
    },
    {
      "cell_type": "code",
      "source": [
        "# IDRID\n",
        "import os\n",
        "\n",
        "IDRID_dir = \"/content/IDRID\"\n",
        "\n",
        "print(\"Files in IDRID directory:\", os.listdir(IDRID_dir))\n"
      ],
      "metadata": {
        "colab": {
          "base_uri": "https://localhost:8080/"
        },
        "id": "UIMjKTNBM7Sz",
        "outputId": "fa7901ae-c126-4499-aade-3afdc8a19dae"
      },
      "execution_count": 13,
      "outputs": [
        {
          "output_type": "stream",
          "name": "stdout",
          "text": [
            "Files in IDRID directory: ['A.%20Segmentation', 'B.%20Disease%20Grading', 'C.%20Localization']\n"
          ]
        }
      ]
    },
    {
      "cell_type": "code",
      "source": [
        "def list_folders(path):\n",
        "  for root, dirs, files in os.walk(path):\n",
        "    for dir_name in dirs:\n",
        "      if not any(dir_name.lower().endswith(ext) for ext in ['.png', '.jpg']):\n",
        "        print(os.path.join(root, dir_name))\n",
        "\n",
        "list_folders('/content/IDRID')\n"
      ],
      "metadata": {
        "colab": {
          "base_uri": "https://localhost:8080/"
        },
        "id": "ZNYX_MqrXiBD",
        "outputId": "aae5500c-f880-4853-ec54-94247c255ac0"
      },
      "execution_count": 14,
      "outputs": [
        {
          "output_type": "stream",
          "name": "stdout",
          "text": [
            "/content/IDRID/A.%20Segmentation\n",
            "/content/IDRID/B.%20Disease%20Grading\n",
            "/content/IDRID/C.%20Localization\n",
            "/content/IDRID/A.%20Segmentation/A. Segmentation\n",
            "/content/IDRID/A.%20Segmentation/A. Segmentation/2. All Segmentation Groundtruths\n",
            "/content/IDRID/A.%20Segmentation/A. Segmentation/1. Original Images\n",
            "/content/IDRID/A.%20Segmentation/A. Segmentation/2. All Segmentation Groundtruths/a. Training Set\n",
            "/content/IDRID/A.%20Segmentation/A. Segmentation/2. All Segmentation Groundtruths/b. Testing Set\n",
            "/content/IDRID/A.%20Segmentation/A. Segmentation/2. All Segmentation Groundtruths/a. Training Set/2. Haemorrhages\n",
            "/content/IDRID/A.%20Segmentation/A. Segmentation/2. All Segmentation Groundtruths/a. Training Set/1. Microaneurysms\n",
            "/content/IDRID/A.%20Segmentation/A. Segmentation/2. All Segmentation Groundtruths/a. Training Set/3. Hard Exudates\n",
            "/content/IDRID/A.%20Segmentation/A. Segmentation/2. All Segmentation Groundtruths/a. Training Set/4. Soft Exudates\n",
            "/content/IDRID/A.%20Segmentation/A. Segmentation/2. All Segmentation Groundtruths/a. Training Set/5. Optic Disc\n",
            "/content/IDRID/A.%20Segmentation/A. Segmentation/2. All Segmentation Groundtruths/b. Testing Set/2. Haemorrhages\n",
            "/content/IDRID/A.%20Segmentation/A. Segmentation/2. All Segmentation Groundtruths/b. Testing Set/1. Microaneurysms\n",
            "/content/IDRID/A.%20Segmentation/A. Segmentation/2. All Segmentation Groundtruths/b. Testing Set/3. Hard Exudates\n",
            "/content/IDRID/A.%20Segmentation/A. Segmentation/2. All Segmentation Groundtruths/b. Testing Set/4. Soft Exudates\n",
            "/content/IDRID/A.%20Segmentation/A. Segmentation/2. All Segmentation Groundtruths/b. Testing Set/5. Optic Disc\n",
            "/content/IDRID/A.%20Segmentation/A. Segmentation/1. Original Images/a. Training Set\n",
            "/content/IDRID/A.%20Segmentation/A. Segmentation/1. Original Images/b. Testing Set\n",
            "/content/IDRID/B.%20Disease%20Grading/B. Disease Grading\n",
            "/content/IDRID/B.%20Disease%20Grading/B. Disease Grading/2. Groundtruths\n",
            "/content/IDRID/B.%20Disease%20Grading/B. Disease Grading/1. Original Images\n",
            "/content/IDRID/B.%20Disease%20Grading/B. Disease Grading/1. Original Images/a. Training Set\n",
            "/content/IDRID/B.%20Disease%20Grading/B. Disease Grading/1. Original Images/b. Testing Set\n",
            "/content/IDRID/C.%20Localization/C. Localization\n",
            "/content/IDRID/C.%20Localization/C. Localization/2. Groundtruths\n",
            "/content/IDRID/C.%20Localization/C. Localization/1. Original Images\n",
            "/content/IDRID/C.%20Localization/C. Localization/2. Groundtruths/1. Optic Disc Center Location\n",
            "/content/IDRID/C.%20Localization/C. Localization/2. Groundtruths/2. Fovea Center Location\n",
            "/content/IDRID/C.%20Localization/C. Localization/1. Original Images/a. Training Set\n",
            "/content/IDRID/C.%20Localization/C. Localization/1. Original Images/b. Testing Set\n"
          ]
        }
      ]
    },
    {
      "cell_type": "code",
      "source": [
        "import os\n",
        "\n",
        "def count_images_per_folder(root_dir):\n",
        "  \"\"\"Counts images in each subfolder and provides a total count.\n",
        "  \"\"\"\n",
        "  total_images = 0\n",
        "  for dirpath, dirnames, filenames in os.walk(root_dir):\n",
        "    image_count = sum(1 for f in filenames if f.lower().endswith(('.png', '.jpg', '.jpeg', '.gif', '.bmp')))\n",
        "    if image_count > 0:\n",
        "      print(f\"Folder: {dirpath}, Image Count: {image_count}\")\n",
        "      total_images += image_count\n",
        "  print(f\"\\nTotal images in {root_dir}: {total_images}\")\n",
        "\n",
        "# Example usage for APTOS dataset\n",
        "count_images_per_folder('/content/APTOS')\n",
        "\n",
        "# Example usage for IDRID dataset\n",
        "count_images_per_folder('/content/IDRID')\n"
      ],
      "metadata": {
        "colab": {
          "base_uri": "https://localhost:8080/"
        },
        "id": "FkybuFxqIBQy",
        "outputId": "902f0c61-3eb8-4069-d0de-ef47c4ac8471"
      },
      "execution_count": 15,
      "outputs": [
        {
          "output_type": "stream",
          "name": "stdout",
          "text": [
            "Folder: /content/APTOS/gaussian_filtered_images/gaussian_filtered_images/Proliferate_DR, Image Count: 295\n",
            "Folder: /content/APTOS/gaussian_filtered_images/gaussian_filtered_images/Severe, Image Count: 193\n",
            "Folder: /content/APTOS/gaussian_filtered_images/gaussian_filtered_images/Mild, Image Count: 370\n",
            "Folder: /content/APTOS/gaussian_filtered_images/gaussian_filtered_images/No_DR, Image Count: 1805\n",
            "Folder: /content/APTOS/gaussian_filtered_images/gaussian_filtered_images/Moderate, Image Count: 999\n",
            "\n",
            "Total images in /content/APTOS: 3662\n",
            "Folder: /content/IDRID/A.%20Segmentation/A. Segmentation/1. Original Images/a. Training Set, Image Count: 54\n",
            "Folder: /content/IDRID/A.%20Segmentation/A. Segmentation/1. Original Images/b. Testing Set, Image Count: 27\n",
            "Folder: /content/IDRID/B.%20Disease%20Grading/B. Disease Grading/1. Original Images/a. Training Set, Image Count: 413\n",
            "Folder: /content/IDRID/B.%20Disease%20Grading/B. Disease Grading/1. Original Images/b. Testing Set, Image Count: 103\n",
            "Folder: /content/IDRID/C.%20Localization/C. Localization/1. Original Images/a. Training Set, Image Count: 413\n",
            "Folder: /content/IDRID/C.%20Localization/C. Localization/1. Original Images/b. Testing Set, Image Count: 103\n",
            "\n",
            "Total images in /content/IDRID: 1113\n"
          ]
        }
      ]
    },
    {
      "cell_type": "markdown",
      "source": [
        "# DRIVE DOWNLOAD"
      ],
      "metadata": {
        "id": "hU9--gFFguh4"
      }
    },
    {
      "cell_type": "code",
      "source": [
        "! kaggle datasets download andrewmvd/drive-digital-retinal-images-for-vessel-extraction"
      ],
      "metadata": {
        "colab": {
          "base_uri": "https://localhost:8080/"
        },
        "id": "NJHZfgDgsx7C",
        "outputId": "fd6b3a51-dc22-4998-aaab-2879bdf60e6e"
      },
      "execution_count": 16,
      "outputs": [
        {
          "output_type": "stream",
          "name": "stdout",
          "text": [
            "Dataset URL: https://www.kaggle.com/datasets/andrewmvd/drive-digital-retinal-images-for-vessel-extraction\n",
            "License(s): other\n"
          ]
        }
      ]
    },
    {
      "cell_type": "code",
      "source": [
        "# Dataset\n",
        "import zipfile\n",
        "\n",
        "z = zipfile.ZipFile('/content/drive-digital-retinal-images-for-vessel-extraction.zip')\n",
        "\n",
        "z.extractall()"
      ],
      "metadata": {
        "id": "9SekZdPbtPdR"
      },
      "execution_count": 17,
      "outputs": []
    },
    {
      "cell_type": "code",
      "source": [
        "# DRIVE\n",
        "import os\n",
        "\n",
        "DRIVE_dir = \"/content/DRIVE\"\n",
        "\n",
        "print(\"Files in DRIVE:\", os.listdir(DRIVE_dir))"
      ],
      "metadata": {
        "colab": {
          "base_uri": "https://localhost:8080/"
        },
        "id": "RnP2vKDeO8kl",
        "outputId": "2305ac31-543e-49eb-f717-66c884fad9ed"
      },
      "execution_count": 18,
      "outputs": [
        {
          "output_type": "stream",
          "name": "stdout",
          "text": [
            "Files in DRIVE: ['training', 'test']\n"
          ]
        }
      ]
    },
    {
      "cell_type": "code",
      "source": [
        "def list_folders(path):\n",
        "  for root, dirs, files in os.walk(path):\n",
        "    for dir_name in dirs:\n",
        "      if not any(dir_name.lower().endswith(ext) for ext in ['.png', '.jpg']):\n",
        "        print(os.path.join(root, dir_name))\n",
        "\n",
        "list_folders('/content/DRIVE')\n"
      ],
      "metadata": {
        "colab": {
          "base_uri": "https://localhost:8080/"
        },
        "id": "xAdIR-C1XLnz",
        "outputId": "a60dc664-bacf-48c3-ea62-6284b02b33c0"
      },
      "execution_count": 19,
      "outputs": [
        {
          "output_type": "stream",
          "name": "stdout",
          "text": [
            "/content/DRIVE/training\n",
            "/content/DRIVE/test\n",
            "/content/DRIVE/training/1st_manual\n",
            "/content/DRIVE/training/mask\n",
            "/content/DRIVE/training/images\n",
            "/content/DRIVE/test/mask\n",
            "/content/DRIVE/test/images\n"
          ]
        }
      ]
    },
    {
      "cell_type": "markdown",
      "source": [
        "# STARE DOWNLOAD"
      ],
      "metadata": {
        "id": "JE3TEbXigzWp"
      }
    },
    {
      "cell_type": "code",
      "source": [
        "!mkdir -p /content/STARE\n"
      ],
      "metadata": {
        "id": "AIEGHvwHpwq5"
      },
      "execution_count": 20,
      "outputs": []
    },
    {
      "cell_type": "code",
      "source": [
        "import os\n",
        "\n",
        "# Create subfolders\n",
        "os.makedirs(\"/content/STARE/images\", exist_ok=True)\n",
        "os.makedirs(\"/content/STARE/labels_ah\", exist_ok=True)\n",
        "os.makedirs(\"/content/STARE/labels_vk\", exist_ok=True)\n",
        "\n",
        "# Extract files into subfolders\n",
        "!tar -xvf \"/content/drive/MyDrive/Stare /stare-images.tar\" -C \"/content/STARE/images\"\n",
        "!tar -xvf \"/content/drive/MyDrive/Stare /labels-ah.tar\" -C \"/content/STARE/labels_ah\"\n",
        "!tar -xvf \"/content/drive/MyDrive/Stare /labels-vk.tar\" -C \"/content/STARE/labels_vk\""
      ],
      "metadata": {
        "colab": {
          "base_uri": "https://localhost:8080/"
        },
        "id": "JONDAK4CaXbb",
        "outputId": "0277fd9f-0be7-411d-ab98-de801fc95359"
      },
      "execution_count": 21,
      "outputs": [
        {
          "output_type": "stream",
          "name": "stdout",
          "text": [
            "im0001.ppm.gz\n",
            "im0002.ppm.gz\n",
            "im0003.ppm.gz\n",
            "im0004.ppm.gz\n",
            "im0005.ppm.gz\n",
            "im0044.ppm.gz\n",
            "im0077.ppm.gz\n",
            "im0081.ppm.gz\n",
            "im0082.ppm.gz\n",
            "im0139.ppm.gz\n",
            "im0162.ppm.gz\n",
            "im0163.ppm.gz\n",
            "im0235.ppm.gz\n",
            "im0236.ppm.gz\n",
            "im0239.ppm.gz\n",
            "im0240.ppm.gz\n",
            "im0255.ppm.gz\n",
            "im0291.ppm.gz\n",
            "im0319.ppm.gz\n",
            "im0324.ppm.gz\n",
            "im0001.ah.ppm.gz\n",
            "im0002.ah.ppm.gz\n",
            "im0003.ah.ppm.gz\n",
            "im0004.ah.ppm.gz\n",
            "im0005.ah.ppm.gz\n",
            "im0044.ah.ppm.gz\n",
            "im0077.ah.ppm.gz\n",
            "im0081.ah.ppm.gz\n",
            "im0082.ah.ppm.gz\n",
            "im0139.ah.ppm.gz\n",
            "im0162.ah.ppm.gz\n",
            "im0163.ah.ppm.gz\n",
            "im0235.ah.ppm.gz\n",
            "im0236.ah.ppm.gz\n",
            "im0239.ah.ppm.gz\n",
            "im0240.ah.ppm.gz\n",
            "im0255.ah.ppm.gz\n",
            "im0291.ah.ppm.gz\n",
            "im0319.ah.ppm.gz\n",
            "im0324.ah.ppm.gz\n",
            "im0001.vk.ppm.gz\n",
            "im0002.vk.ppm.gz\n",
            "im0003.vk.ppm.gz\n",
            "im0004.vk.ppm.gz\n",
            "im0005.vk.ppm.gz\n",
            "im0044.vk.ppm.gz\n",
            "im0077.vk.ppm.gz\n",
            "im0081.vk.ppm.gz\n",
            "im0082.vk.ppm.gz\n",
            "im0139.vk.ppm.gz\n",
            "im0162.vk.ppm.gz\n",
            "im0163.vk.ppm.gz\n",
            "im0235.vk.ppm.gz\n",
            "im0236.vk.ppm.gz\n",
            "im0239.vk.ppm.gz\n",
            "im0240.vk.ppm.gz\n",
            "im0255.vk.ppm.gz\n",
            "im0291.vk.ppm.gz\n",
            "im0319.vk.ppm.gz\n",
            "im0324.vk.ppm.gz\n"
          ]
        }
      ]
    },
    {
      "cell_type": "code",
      "source": [
        "import os\n",
        "print(\"Extracted Files in STARE Directory:\", os.listdir(\"/content/STARE\"))\n"
      ],
      "metadata": {
        "colab": {
          "base_uri": "https://localhost:8080/"
        },
        "id": "HbTpAOK0qN6H",
        "outputId": "9a0f91ef-7dde-4f2f-a3ee-6037516e8c08"
      },
      "execution_count": 22,
      "outputs": [
        {
          "output_type": "stream",
          "name": "stdout",
          "text": [
            "Extracted Files in STARE Directory: ['labels_vk', 'labels_ah', 'images']\n"
          ]
        }
      ]
    },
    {
      "cell_type": "code",
      "source": [
        "import os\n",
        "import gzip\n",
        "import shutil\n",
        "from glob import glob\n",
        "\n",
        "STARE_RAW_PATH = \"/content/STARE\"\n",
        "\n",
        "def extract_gz_files(input_dir):\n",
        "    \"\"\"Extracts all .ppm.gz files in a directory.\"\"\"\n",
        "    for file_path in glob(os.path.join(input_dir, \"*.gz\")):\n",
        "        output_path = file_path.replace(\".gz\", \"\")\n",
        "        with gzip.open(file_path, 'rb') as f_in, open(output_path, 'wb') as f_out:\n",
        "            shutil.copyfileobj(f_in, f_out)\n",
        "    print(f\"✅ Extracted all .ppm.gz files in {input_dir}\")\n",
        "\n",
        "# Extract for images & masks\n",
        "extract_gz_files(f\"{STARE_RAW_PATH}/images\")\n",
        "extract_gz_files(f\"{STARE_RAW_PATH}/labels_ah\")\n",
        "extract_gz_files(f\"{STARE_RAW_PATH}/labels_vk\")\n"
      ],
      "metadata": {
        "colab": {
          "base_uri": "https://localhost:8080/"
        },
        "id": "OQeu_5HiUefm",
        "outputId": "f2e484e1-0633-489c-dd93-31bc0cb90ceb"
      },
      "execution_count": 23,
      "outputs": [
        {
          "output_type": "stream",
          "name": "stdout",
          "text": [
            "✅ Extracted all .ppm.gz files in /content/STARE/images\n",
            "✅ Extracted all .ppm.gz files in /content/STARE/labels_ah\n",
            "✅ Extracted all .ppm.gz files in /content/STARE/labels_vk\n"
          ]
        }
      ]
    },
    {
      "cell_type": "code",
      "source": [
        "import cv2\n",
        "import numpy as np\n",
        "from tqdm import tqdm\n",
        "\n",
        "# Define target directories for preprocessed data\n",
        "SAVE_PATH = \"/content/preprocessed_stare\"\n",
        "os.makedirs(f\"{SAVE_PATH}/images\", exist_ok=True)\n",
        "os.makedirs(f\"{SAVE_PATH}/labels-ah\", exist_ok=True)\n",
        "os.makedirs(f\"{SAVE_PATH}/labels-vk\", exist_ok=True)\n",
        "\n",
        "IMG_SIZE = (256, 256)  # Resize all images\n",
        "\n",
        "def convert_and_save_ppm_to_npy(input_dir, output_dir, is_mask=False):\n",
        "    \"\"\"Converts .ppm files to NumPy array, resizes, normalizes, and saves them.\"\"\"\n",
        "    for ppm_file in tqdm(glob(os.path.join(input_dir, \"*.ppm\")), desc=f\"Processing {input_dir}\"):\n",
        "        img = cv2.imread(ppm_file, cv2.IMREAD_UNCHANGED)\n",
        "        if img is None:\n",
        "            print(f\"⚠️ Skipping corrupt file: {ppm_file}\")\n",
        "            continue\n",
        "\n",
        "        img = cv2.resize(img, IMG_SIZE, interpolation=cv2.INTER_AREA)\n",
        "\n",
        "        # Convert masks to grayscale if they are not single-channel\n",
        "        if is_mask and len(img.shape) == 3:\n",
        "            img = cv2.cvtColor(img, cv2.COLOR_BGR2GRAY)\n",
        "\n",
        "        img = img.astype(np.float32) / 255.0  # Normalize\n",
        "\n",
        "        filename = os.path.basename(ppm_file).replace(\".ppm\", \".npy\")\n",
        "        np.save(os.path.join(output_dir, filename), img)\n",
        "\n",
        "# Convert and save images & masks\n",
        "convert_and_save_ppm_to_npy(f\"{STARE_RAW_PATH}/images\", f\"{SAVE_PATH}/images\", is_mask=False)\n",
        "convert_and_save_ppm_to_npy(f\"{STARE_RAW_PATH}/labels_ah\", f\"{SAVE_PATH}/labels-ah\", is_mask=True)\n",
        "convert_and_save_ppm_to_npy(f\"{STARE_RAW_PATH}/labels_vk\", f\"{SAVE_PATH}/labels-vk\", is_mask=True)\n",
        "\n",
        "print(f\"✅ STARE Preprocessing Complete! NumPy arrays saved in {SAVE_PATH}\")\n"
      ],
      "metadata": {
        "colab": {
          "base_uri": "https://localhost:8080/"
        },
        "id": "ELITmBjgUaDt",
        "outputId": "1cf39655-1856-4436-cf9e-b8e0a21ffd0e"
      },
      "execution_count": 24,
      "outputs": [
        {
          "output_type": "stream",
          "name": "stderr",
          "text": [
            "Processing /content/STARE/images: 100%|██████████| 20/20 [00:00<00:00, 99.44it/s]\n",
            "Processing /content/STARE/labels_ah: 100%|██████████| 20/20 [00:00<00:00, 435.22it/s]\n",
            "Processing /content/STARE/labels_vk: 100%|██████████| 20/20 [00:00<00:00, 438.60it/s]"
          ]
        },
        {
          "output_type": "stream",
          "name": "stdout",
          "text": [
            "✅ STARE Preprocessing Complete! NumPy arrays saved in /content/preprocessed_stare\n"
          ]
        },
        {
          "output_type": "stream",
          "name": "stderr",
          "text": [
            "\n"
          ]
        }
      ]
    },
    {
      "cell_type": "markdown",
      "source": [
        "# APTOS PRE_PROCESSING"
      ],
      "metadata": {
        "id": "mfQ3r8Nqal8J"
      }
    },
    {
      "cell_type": "code",
      "source": [
        "import os\n",
        "import cv2\n",
        "import numpy as np\n",
        "from tqdm import tqdm\n",
        "\n",
        "# Define image size\n",
        "IMG_SIZE = (256, 256)\n",
        "\n",
        "def preprocess_image(image_path):\n",
        "    \"\"\"Reads an image, resizes it, normalizes pixel values, and applies CLAHE.\"\"\"\n",
        "    img = cv2.imread(image_path)\n",
        "    if img is None:\n",
        "        print(f\"⚠️ Skipping corrupt image: {image_path}\")\n",
        "        return None\n",
        "\n",
        "    img = cv2.cvtColor(img, cv2.COLOR_BGR2RGB)  # Convert to RGB\n",
        "    img = cv2.resize(img, IMG_SIZE)  # Resize to fixed dimensions\n",
        "    img = img / 255.0  # Normalize to [0,1]\n",
        "\n",
        "    # Apply CLAHE for contrast enhancement\n",
        "    lab = cv2.cvtColor((img * 255).astype(np.uint8), cv2.COLOR_RGB2LAB)\n",
        "    l, a, b = cv2.split(lab)\n",
        "    clahe = cv2.createCLAHE(clipLimit=2.0, tileGridSize=(8, 8))\n",
        "    l = clahe.apply(l)\n",
        "    lab = cv2.merge((l, a, b))\n",
        "    img = cv2.cvtColor(lab, cv2.COLOR_LAB2RGB) / 255.0  # Normalize again\n",
        "\n",
        "    return img\n"
      ],
      "metadata": {
        "id": "Scbe7m2fXRU_"
      },
      "execution_count": 25,
      "outputs": []
    },
    {
      "cell_type": "code",
      "source": [
        "# Define APTOS dataset path\n",
        "APTOS_PATH = \"/content/APTOS/gaussian_filtered_images/gaussian_filtered_images\"\n",
        "SAVE_DIR = \"/content/preprocessed_aptos\"\n",
        "\n",
        "# Create save directory\n",
        "os.makedirs(SAVE_DIR, exist_ok=True)\n",
        "\n",
        "# Process images\n",
        "for category in os.listdir(APTOS_PATH):  # Categories: No_DR, Mild, etc.\n",
        "    category_path = os.path.join(APTOS_PATH, category)\n",
        "    if not os.path.isdir(category_path):\n",
        "        continue\n",
        "\n",
        "    save_category_path = os.path.join(SAVE_DIR, category)\n",
        "    os.makedirs(save_category_path, exist_ok=True)\n",
        "\n",
        "    for img_name in tqdm(os.listdir(category_path), desc=f\"Processing {category}\"):\n",
        "        img_path = os.path.join(category_path, img_name)\n",
        "        img = preprocess_image(img_path)\n",
        "        if img is not None:\n",
        "            np.save(os.path.join(save_category_path, img_name.replace('.jpg', '.npy')), img)\n",
        "\n",
        "print(f\"✅ Preprocessed APTOS images saved in {SAVE_DIR}\")\n"
      ],
      "metadata": {
        "colab": {
          "base_uri": "https://localhost:8080/"
        },
        "id": "Z0psRd4LXXre",
        "outputId": "52c61aac-8d15-46f3-cb9d-d75ebf1ce402"
      },
      "execution_count": 26,
      "outputs": [
        {
          "output_type": "stream",
          "name": "stderr",
          "text": [
            "Processing Proliferate_DR: 100%|██████████| 295/295 [00:02<00:00, 100.65it/s]\n",
            "Processing Severe: 100%|██████████| 193/193 [00:02<00:00, 81.50it/s]\n",
            "Processing Mild: 100%|██████████| 370/370 [00:05<00:00, 66.31it/s] \n",
            "Processing No_DR: 100%|██████████| 1805/1805 [00:29<00:00, 61.61it/s]\n",
            "Processing Moderate: 100%|██████████| 999/999 [00:15<00:00, 63.37it/s]"
          ]
        },
        {
          "output_type": "stream",
          "name": "stdout",
          "text": [
            "✅ Preprocessed APTOS images saved in /content/preprocessed_aptos\n"
          ]
        },
        {
          "output_type": "stream",
          "name": "stderr",
          "text": [
            "\n"
          ]
        }
      ]
    },
    {
      "cell_type": "code",
      "source": [
        "import os\n",
        "\n",
        "# Count number of preprocessed images\n",
        "preprocessed_count = sum([len(files) for _, _, files in os.walk(SAVE_DIR)])\n",
        "print(f\"📂 Total Preprocessed APTOS Images: {preprocessed_count}\")\n",
        "\n",
        "# List a few sample files\n",
        "print(\"📌 Sample Files:\", os.listdir(SAVE_DIR + \"/No_DR\")[:5])\n"
      ],
      "metadata": {
        "colab": {
          "base_uri": "https://localhost:8080/"
        },
        "id": "FpkRKE9WXka4",
        "outputId": "7ab8c793-08d3-4b00-ac76-a91555c6f821"
      },
      "execution_count": 27,
      "outputs": [
        {
          "output_type": "stream",
          "name": "stdout",
          "text": [
            "📂 Total Preprocessed APTOS Images: 3662\n",
            "📌 Sample Files: ['b5204c0decc7.png.npy', '87a9f4d20f07.png.npy', '51a078d6d43a.png.npy', 'a8aed92940fb.png.npy', '894a37fc3738.png.npy']\n"
          ]
        }
      ]
    },
    {
      "cell_type": "code",
      "source": [
        "import os\n",
        "import matplotlib.pyplot as plt\n",
        "\n",
        "# Define preprocessed dataset path\n",
        "PREPROCESSED_APTOS_PATH = \"/content/preprocessed_aptos\"\n",
        "\n",
        "# Count the number of images in each category\n",
        "category_counts = {}\n",
        "for category in os.listdir(PREPROCESSED_APTOS_PATH):\n",
        "    category_path = os.path.join(PREPROCESSED_APTOS_PATH, category)\n",
        "    if os.path.isdir(category_path):\n",
        "        category_counts[category] = len(os.listdir(category_path))\n",
        "\n",
        "# Print counts\n",
        "for category, count in category_counts.items():\n",
        "    print(f\"📂 {category}: {count} images\")\n"
      ],
      "metadata": {
        "colab": {
          "base_uri": "https://localhost:8080/"
        },
        "id": "xbPMwcpJZ7xy",
        "outputId": "ae19eb10-584b-400f-a0d7-9295e86bb48c"
      },
      "execution_count": 28,
      "outputs": [
        {
          "output_type": "stream",
          "name": "stdout",
          "text": [
            "📂 Proliferate_DR: 295 images\n",
            "📂 Severe: 193 images\n",
            "📂 Mild: 370 images\n",
            "📂 No_DR: 1805 images\n",
            "📂 Moderate: 999 images\n"
          ]
        }
      ]
    },
    {
      "cell_type": "code",
      "source": [
        "# Plot bar chart\n",
        "plt.figure(figsize=(8, 5))\n",
        "plt.bar(category_counts.keys(), category_counts.values(), color=['blue', 'orange', 'green', 'red', 'purple'])\n",
        "plt.xlabel(\"DR Severity Categories\")\n",
        "plt.ylabel(\"Number of Images\")\n",
        "plt.title(\"APTOS Dataset Image Distribution\")\n",
        "plt.xticks(rotation=25)\n",
        "plt.grid(axis=\"y\", linestyle=\"--\", alpha=0.7)\n",
        "plt.show()\n"
      ],
      "metadata": {
        "colab": {
          "base_uri": "https://localhost:8080/",
          "height": 533
        },
        "id": "wVIi9AMsZ_Gn",
        "outputId": "b2c6e5ff-e05b-46fc-e674-3834d80e1389"
      },
      "execution_count": 29,
      "outputs": [
        {
          "output_type": "display_data",
          "data": {
            "text/plain": [
              "<Figure size 800x500 with 1 Axes>"
            ],
            "image/png": "[encoded data removed]"
          },
          "metadata": {}
        }
      ]
    },
    {
      "cell_type": "markdown",
      "source": [
        "# IDRID PRE_PROCESSING"
      ],
      "metadata": {
        "id": "esd6HInCayb5"
      }
    },
    {
      "cell_type": "code",
      "source": [
        "# Preprocess IDRiD Fundus Images"
      ],
      "metadata": {
        "id": "NfWjXBwsdIJ8"
      },
      "execution_count": 30,
      "outputs": []
    },
    {
      "cell_type": "code",
      "source": [
        "import os\n",
        "import cv2\n",
        "import numpy as np\n",
        "from tqdm import tqdm\n",
        "\n",
        "# Define image size\n",
        "IMG_SIZE = (256, 256)\n",
        "\n",
        "def preprocess_image(image_path):\n",
        "    \"\"\"Reads an image, resizes it, normalizes pixel values, and applies CLAHE.\"\"\"\n",
        "    img = cv2.imread(image_path)\n",
        "    if img is None:\n",
        "        print(f\"⚠️ Skipping corrupt image: {image_path}\")\n",
        "        return None\n",
        "\n",
        "    img = cv2.cvtColor(img, cv2.COLOR_BGR2RGB)\n",
        "    img = cv2.resize(img, IMG_SIZE)\n",
        "    img = img / 255.0\n",
        "\n",
        "    # Apply CLAHE for contrast enhancement\n",
        "    lab = cv2.cvtColor((img * 255).astype(np.uint8), cv2.COLOR_RGB2LAB)\n",
        "    l, a, b = cv2.split(lab)\n",
        "    clahe = cv2.createCLAHE(clipLimit=2.0, tileGridSize=(8, 8))\n",
        "    l = clahe.apply(l)\n",
        "    lab = cv2.merge((l, a, b))\n",
        "    img = cv2.cvtColor(lab, cv2.COLOR_LAB2RGB) / 255.0\n",
        "\n",
        "    return img\n"
      ],
      "metadata": {
        "id": "eiCY-HU4awlS"
      },
      "execution_count": 31,
      "outputs": []
    },
    {
      "cell_type": "code",
      "source": [
        "# Define IDRiD dataset path\n",
        "IDRID_PATH = \"/content/IDRID/A.%20Segmentation/A. Segmentation/1. Original Images\"\n",
        "SAVE_DIR = \"/content/preprocessed_idrid\"\n",
        "\n",
        "# Create save directory\n",
        "os.makedirs(SAVE_DIR, exist_ok=True)\n",
        "\n",
        "# Process images\n",
        "for category in os.listdir(IDRID_PATH):  # Training & Testing folders\n",
        "    category_path = os.path.join(IDRID_PATH, category)\n",
        "    if not os.path.isdir(category_path):\n",
        "        continue\n",
        "\n",
        "    save_category_path = os.path.join(SAVE_DIR, category)\n",
        "    os.makedirs(save_category_path, exist_ok=True)\n",
        "\n",
        "    for img_name in tqdm(os.listdir(category_path), desc=f\"Processing {category}\"):\n",
        "        img_path = os.path.join(category_path, img_name)\n",
        "        img = preprocess_image(img_path)\n",
        "        if img is not None:\n",
        "            np.save(os.path.join(save_category_path, img_name.replace('.jpg', '.npy')), img)\n",
        "\n",
        "print(f\"✅ Preprocessed IDRiD images saved in {SAVE_DIR}\")\n"
      ],
      "metadata": {
        "colab": {
          "base_uri": "https://localhost:8080/"
        },
        "id": "2LqPOuKDblW_",
        "outputId": "37410b60-611e-41bc-a94d-b7023273ad4f"
      },
      "execution_count": 32,
      "outputs": [
        {
          "output_type": "stream",
          "name": "stderr",
          "text": [
            "Processing a. Training Set: 100%|██████████| 54/54 [00:06<00:00,  8.98it/s]\n",
            "Processing b. Testing Set: 100%|██████████| 27/27 [00:02<00:00,  9.04it/s]"
          ]
        },
        {
          "output_type": "stream",
          "name": "stdout",
          "text": [
            "✅ Preprocessed IDRiD images saved in /content/preprocessed_idrid\n"
          ]
        },
        {
          "output_type": "stream",
          "name": "stderr",
          "text": [
            "\n"
          ]
        }
      ]
    },
    {
      "cell_type": "code",
      "source": [
        "# Preprocess IDRiD Lesion Segmentation Masks"
      ],
      "metadata": {
        "id": "RFRNnBXPdDG0"
      },
      "execution_count": 33,
      "outputs": []
    },
    {
      "cell_type": "code",
      "source": [
        "def preprocess_mask(mask_path):\n",
        "    \"\"\"Reads a mask, resizes, converts to grayscale, and normalizes.\"\"\"\n",
        "    mask = cv2.imread(mask_path, cv2.IMREAD_UNCHANGED)\n",
        "    if mask is None:\n",
        "        print(f\"⚠️ Skipping corrupt mask: {mask_path}\")\n",
        "        return None\n",
        "\n",
        "    mask = cv2.resize(mask, IMG_SIZE)\n",
        "\n",
        "    # Convert to grayscale if not already\n",
        "    if len(mask.shape) == 3:\n",
        "        mask = cv2.cvtColor(mask, cv2.COLOR_BGR2GRAY)\n",
        "\n",
        "    mask = mask / 255.0\n",
        "    return mask\n"
      ],
      "metadata": {
        "id": "nXccrGogc1SU"
      },
      "execution_count": 34,
      "outputs": []
    },
    {
      "cell_type": "code",
      "source": [
        "# Define IDRiD mask dataset path\n",
        "IDRID_MASK_PATH = \"/content/IDRID/A.%20Segmentation/A. Segmentation/2. All Segmentation Groundtruths/a. Training Set\"\n",
        "SAVE_MASK_DIR = \"/content/preprocessed_idrid_masks\"\n",
        "\n",
        "# Create save directory\n",
        "os.makedirs(SAVE_MASK_DIR, exist_ok=True)\n",
        "\n",
        "# Process masks\n",
        "for lesion_type in os.listdir(IDRID_MASK_PATH):  # Lesion folders (Microaneurysms, etc.)\n",
        "    lesion_path = os.path.join(IDRID_MASK_PATH, lesion_type)\n",
        "    if not os.path.isdir(lesion_path):\n",
        "        continue\n",
        "\n",
        "    save_lesion_path = os.path.join(SAVE_MASK_DIR, lesion_type)\n",
        "    os.makedirs(save_lesion_path, exist_ok=True)\n",
        "\n",
        "    for mask_name in tqdm(os.listdir(lesion_path), desc=f\"Processing {lesion_type}\"):\n",
        "        mask_path = os.path.join(lesion_path, mask_name)\n",
        "        mask = preprocess_mask(mask_path)\n",
        "        if mask is not None:\n",
        "            np.save(os.path.join(save_lesion_path, mask_name.replace('.tif', '.npy')), mask)\n",
        "\n",
        "print(f\"✅ Preprocessed IDRiD lesion masks saved in {SAVE_MASK_DIR}\")\n"
      ],
      "metadata": {
        "colab": {
          "base_uri": "https://localhost:8080/"
        },
        "id": "EJk7LNojdOPM",
        "outputId": "bc72fdb5-da00-4a4e-8dff-c0ab129dc6d1"
      },
      "execution_count": 35,
      "outputs": [
        {
          "output_type": "stream",
          "name": "stderr",
          "text": [
            "Processing 2. Haemorrhages: 100%|██████████| 53/53 [00:02<00:00, 26.23it/s]\n",
            "Processing 1. Microaneurysms: 100%|██████████| 54/54 [00:02<00:00, 24.92it/s]\n",
            "Processing 3. Hard Exudates: 100%|██████████| 54/54 [00:02<00:00, 26.00it/s]\n",
            "Processing 4. Soft Exudates: 100%|██████████| 26/26 [00:01<00:00, 25.57it/s]\n",
            "Processing 5. Optic Disc: 100%|██████████| 54/54 [00:02<00:00, 20.58it/s]"
          ]
        },
        {
          "output_type": "stream",
          "name": "stdout",
          "text": [
            "✅ Preprocessed IDRiD lesion masks saved in /content/preprocessed_idrid_masks\n"
          ]
        },
        {
          "output_type": "stream",
          "name": "stderr",
          "text": [
            "\n"
          ]
        }
      ]
    },
    {
      "cell_type": "code",
      "source": [
        "import os\n",
        "\n",
        "# Count number of preprocessed images\n",
        "idrid_img_count = sum([len(files) for _, _, files in os.walk(SAVE_DIR)])\n",
        "idrid_mask_count = sum([len(files) for _, _, files in os.walk(SAVE_MASK_DIR)])\n",
        "\n",
        "print(f\"📂 Total Preprocessed IDRiD Fundus Images: {idrid_img_count}\")\n",
        "print(f\"📂 Total Preprocessed IDRiD Lesion Masks: {idrid_mask_count}\")\n"
      ],
      "metadata": {
        "colab": {
          "base_uri": "https://localhost:8080/"
        },
        "id": "nIvZ4o8YelpA",
        "outputId": "c6149a61-e651-4332-c2f4-e08c7571c598"
      },
      "execution_count": 36,
      "outputs": [
        {
          "output_type": "stream",
          "name": "stdout",
          "text": [
            "📂 Total Preprocessed IDRiD Fundus Images: 81\n",
            "📂 Total Preprocessed IDRiD Lesion Masks: 241\n"
          ]
        }
      ]
    },
    {
      "cell_type": "markdown",
      "source": [
        "# STARE PRE_PROCESSING"
      ],
      "metadata": {
        "id": "jJcLKpYVfx3_"
      }
    },
    {
      "cell_type": "code",
      "source": [
        "import os\n",
        "import gzip\n",
        "import shutil\n",
        "from glob import glob\n",
        "\n",
        "STARE_RAW_PATH = \"/content/STARE\"\n",
        "\n",
        "def extract_gz_files(input_dir):\n",
        "    \"\"\"Extracts all .ppm.gz files in a directory.\"\"\"\n",
        "    for file_path in glob(os.path.join(input_dir, \"*.gz\")):\n",
        "        output_path = file_path.replace(\".gz\", \"\")\n",
        "        with gzip.open(file_path, 'rb') as f_in, open(output_path, 'wb') as f_out:\n",
        "            shutil.copyfileobj(f_in, f_out)\n",
        "    print(f\"✅ Extracted all .ppm.gz files in {input_dir}\")\n",
        "\n",
        "# Extract for images & masks\n",
        "extract_gz_files(f\"{STARE_RAW_PATH}/images\")\n",
        "extract_gz_files(f\"{STARE_RAW_PATH}/labels_ah\")\n",
        "extract_gz_files(f\"{STARE_RAW_PATH}/labels_vk\")\n"
      ],
      "metadata": {
        "colab": {
          "base_uri": "https://localhost:8080/"
        },
        "id": "ixD0yEURfxli",
        "outputId": "d606ae87-e64c-4e8d-86fb-c7df7538e23c"
      },
      "execution_count": 37,
      "outputs": [
        {
          "output_type": "stream",
          "name": "stdout",
          "text": [
            "✅ Extracted all .ppm.gz files in /content/STARE/images\n",
            "✅ Extracted all .ppm.gz files in /content/STARE/labels_ah\n",
            "✅ Extracted all .ppm.gz files in /content/STARE/labels_vk\n"
          ]
        }
      ]
    },
    {
      "cell_type": "code",
      "source": [
        "import cv2\n",
        "import numpy as np\n",
        "from tqdm import tqdm\n",
        "\n",
        "# Define save paths\n",
        "SAVE_PATH = \"/content/preprocessed_stare\"\n",
        "os.makedirs(f\"{SAVE_PATH}/images\", exist_ok=True)\n",
        "os.makedirs(f\"{SAVE_PATH}/labels-ah\", exist_ok=True)\n",
        "os.makedirs(f\"{SAVE_PATH}/labels-vk\", exist_ok=True)\n",
        "\n",
        "IMG_SIZE = (256, 256)  # Resize all images\n",
        "\n",
        "def convert_and_save_ppm_to_npy(input_dir, output_dir, is_mask=False):\n",
        "    \"\"\"Converts .ppm files to NumPy array, resizes, normalizes, and saves them.\"\"\"\n",
        "    for ppm_file in tqdm(glob(os.path.join(input_dir, \"*.ppm\")), desc=f\"Processing {input_dir}\"):\n",
        "        img = cv2.imread(ppm_file, cv2.IMREAD_UNCHANGED)\n",
        "        if img is None:\n",
        "            print(f\"⚠️ Skipping corrupt file: {ppm_file}\")\n",
        "            continue\n",
        "\n",
        "        img = cv2.resize(img, IMG_SIZE, interpolation=cv2.INTER_AREA)\n",
        "\n",
        "        # Convert masks to grayscale if they are not single-channel\n",
        "        if is_mask and len(img.shape) == 3:\n",
        "            img = cv2.cvtColor(img, cv2.COLOR_BGR2GRAY)\n",
        "\n",
        "        img = img.astype(np.float32) / 255.0  # Normalize\n",
        "\n",
        "        filename = os.path.basename(ppm_file).replace(\".ppm\", \".npy\")\n",
        "        np.save(os.path.join(output_dir, filename), img)\n",
        "\n",
        "# Convert and save fundus images & masks\n",
        "convert_and_save_ppm_to_npy(f\"{STARE_RAW_PATH}/images\", f\"{SAVE_PATH}/images\", is_mask=False)\n",
        "convert_and_save_ppm_to_npy(f\"{STARE_RAW_PATH}/labels_ah\", f\"{SAVE_PATH}/labels-ah\", is_mask=True)\n",
        "convert_and_save_ppm_to_npy(f\"{STARE_RAW_PATH}/labels_vk\", f\"{SAVE_PATH}/labels-vk\", is_mask=True)\n",
        "\n",
        "print(f\"✅ STARE Preprocessing Complete! NumPy arrays saved in {SAVE_PATH}\")\n"
      ],
      "metadata": {
        "colab": {
          "base_uri": "https://localhost:8080/"
        },
        "id": "5zrSY0yQf_wR",
        "outputId": "cc25223b-b01e-405f-894e-ba4401e4f98e"
      },
      "execution_count": 38,
      "outputs": [
        {
          "output_type": "stream",
          "name": "stderr",
          "text": [
            "Processing /content/STARE/images: 100%|██████████| 20/20 [00:00<00:00, 92.63it/s]\n",
            "Processing /content/STARE/labels_ah: 100%|██████████| 20/20 [00:00<00:00, 232.03it/s]\n",
            "Processing /content/STARE/labels_vk: 100%|██████████| 20/20 [00:00<00:00, 247.44it/s]"
          ]
        },
        {
          "output_type": "stream",
          "name": "stdout",
          "text": [
            "✅ STARE Preprocessing Complete! NumPy arrays saved in /content/preprocessed_stare\n"
          ]
        },
        {
          "output_type": "stream",
          "name": "stderr",
          "text": [
            "\n"
          ]
        }
      ]
    },
    {
      "cell_type": "code",
      "source": [
        "import os\n",
        "\n",
        "# Check the number of processed images & masks\n",
        "stare_image_count = len(os.listdir(f\"{SAVE_PATH}/images\"))\n",
        "stare_ah_mask_count = len(os.listdir(f\"{SAVE_PATH}/labels-ah\"))\n",
        "stare_vk_mask_count = len(os.listdir(f\"{SAVE_PATH}/labels-vk\"))\n",
        "\n",
        "print(f\"📂 STARE Preprocessed Images: {stare_image_count}\")\n",
        "print(f\"📂 STARE Preprocessed AH Masks: {stare_ah_mask_count}\")\n",
        "print(f\"📂 STARE Preprocessed VK Masks: {stare_vk_mask_count}\")\n"
      ],
      "metadata": {
        "colab": {
          "base_uri": "https://localhost:8080/"
        },
        "id": "YIs-CZC0gLp8",
        "outputId": "cce1cd6a-0481-4a9d-979c-c3e13376e736"
      },
      "execution_count": 39,
      "outputs": [
        {
          "output_type": "stream",
          "name": "stdout",
          "text": [
            "📂 STARE Preprocessed Images: 20\n",
            "📂 STARE Preprocessed AH Masks: 20\n",
            "📂 STARE Preprocessed VK Masks: 20\n"
          ]
        }
      ]
    },
    {
      "cell_type": "markdown",
      "source": [
        "# DRIVE PRE_PROCESSING\n"
      ],
      "metadata": {
        "id": "4BMPkUrG5Xq8"
      }
    },
    {
      "cell_type": "code",
      "source": [
        "import os\n",
        "import cv2\n",
        "import numpy as np\n",
        "from tqdm import tqdm\n",
        "from glob import glob\n",
        "from imageio import imread\n",
        "\n",
        "# Define image size\n",
        "IMG_SIZE = (256, 256)\n",
        "\n",
        "def preprocess_fundus_image(image_path):\n",
        "    \"\"\"Reads, resizes, normalizes, and enhances fundus images.\"\"\"\n",
        "    img = cv2.imread(image_path, cv2.IMREAD_UNCHANGED)\n",
        "    if img is None:\n",
        "        print(f\"⚠️ Skipping corrupt image: {image_path}\")\n",
        "        return None\n",
        "\n",
        "    img = cv2.cvtColor(img, cv2.COLOR_BGR2RGB)\n",
        "    img = cv2.resize(img, IMG_SIZE)\n",
        "    img = img / 255.0  # Normalize to [0,1]\n",
        "\n",
        "    return img\n",
        "\n",
        "def preprocess_vessel_mask(mask_path):\n",
        "    \"\"\"Reads, resizes, converts to grayscale, and normalizes vessel masks.\"\"\"\n",
        "    mask = imread(mask_path)  # Reads .gif files\n",
        "    if mask is None:\n",
        "        print(f\"⚠️ Skipping corrupt mask: {mask_path}\")\n",
        "        return None\n",
        "\n",
        "    mask = cv2.resize(mask, IMG_SIZE, interpolation=cv2.INTER_NEAREST)\n",
        "    if len(mask.shape) == 3:  # Ensure grayscale\n",
        "        mask = cv2.cvtColor(mask, cv2.COLOR_RGB2GRAY)\n",
        "\n",
        "    mask = mask.astype(np.float32) / 255.0  # Normalize to [0,1]\n",
        "    return mask\n"
      ],
      "metadata": {
        "id": "uJkosDdX7-9_"
      },
      "execution_count": 40,
      "outputs": []
    },
    {
      "cell_type": "code",
      "source": [
        "# Define dataset paths\n",
        "DRIVE_PATH = \"/content/DRIVE\"\n",
        "SAVE_DIR = \"/content/preprocessed_drive\"\n",
        "\n",
        "# Create directories for preprocessed data\n",
        "os.makedirs(f\"{SAVE_DIR}/training/images\", exist_ok=True)\n",
        "os.makedirs(f\"{SAVE_DIR}/training/1st_manual\", exist_ok=True)\n",
        "os.makedirs(f\"{SAVE_DIR}/training/mask\", exist_ok=True)\n",
        "os.makedirs(f\"{SAVE_DIR}/test/images\", exist_ok=True)\n",
        "os.makedirs(f\"{SAVE_DIR}/test/mask\", exist_ok=True)\n",
        "\n",
        "# Preprocess fundus images\n",
        "for dataset_type in [\"training\", \"test\"]:\n",
        "    img_dir = os.path.join(DRIVE_PATH, dataset_type, \"images\")\n",
        "    save_img_dir = os.path.join(SAVE_DIR, dataset_type, \"images\")\n",
        "\n",
        "    for img_name in tqdm(os.listdir(img_dir), desc=f\"Processing {dataset_type} fundus images\"):\n",
        "        img_path = os.path.join(img_dir, img_name)\n",
        "        img = preprocess_fundus_image(img_path)\n",
        "        if img is not None:\n",
        "            np.save(os.path.join(save_img_dir, img_name.replace('.tif', '.npy')), img)\n",
        "\n",
        "# Preprocess vessel masks\n",
        "for dataset_type in [\"training\", \"test\"]:\n",
        "    mask_dir = os.path.join(DRIVE_PATH, dataset_type, \"mask\")\n",
        "    save_mask_dir = os.path.join(SAVE_DIR, dataset_type, \"mask\")\n",
        "\n",
        "    for mask_name in tqdm(os.listdir(mask_dir), desc=f\"Processing {dataset_type} masks\"):\n",
        "        mask_path = os.path.join(mask_dir, mask_name)\n",
        "        mask = preprocess_vessel_mask(mask_path)\n",
        "        if mask is not None:\n",
        "            np.save(os.path.join(save_mask_dir, mask_name.replace('.gif', '.npy')), mask)\n",
        "\n",
        "# Preprocess training manual segmentation masks\n",
        "train_manual_dir = os.path.join(DRIVE_PATH, \"training\", \"1st_manual\")\n",
        "save_train_manual_dir = os.path.join(SAVE_DIR, \"training\", \"1st_manual\")\n",
        "\n",
        "for mask_name in tqdm(os.listdir(train_manual_dir), desc=\"Processing training manual segmentation masks\"):\n",
        "    mask_path = os.path.join(train_manual_dir, mask_name)\n",
        "    mask = preprocess_vessel_mask(mask_path)\n",
        "    if mask is not None:\n",
        "        np.save(os.path.join(save_train_manual_dir, mask_name.replace('.gif', '.npy')), mask)\n",
        "\n",
        "print(f\"✅ Preprocessed DRIVE dataset saved in {SAVE_DIR}\")\n"
      ],
      "metadata": {
        "colab": {
          "base_uri": "https://localhost:8080/"
        },
        "id": "wGCZCZZj8AzB",
        "outputId": "2d0e78a7-c183-4e05-b525-2450bea8992c"
      },
      "execution_count": 41,
      "outputs": [
        {
          "output_type": "stream",
          "name": "stderr",
          "text": [
            "Processing training fundus images: 100%|██████████| 20/20 [00:00<00:00, 43.88it/s]\n",
            "Processing test fundus images: 100%|██████████| 20/20 [00:00<00:00, 38.14it/s]\n",
            "Processing training masks:   0%|          | 0/20 [00:00<?, ?it/s]<ipython-input-40-e6295577626c>:26: DeprecationWarning: Starting with ImageIO v3 the behavior of this function will switch to that of iio.v3.imread. To keep the current behavior (and make this warning disappear) use `import imageio.v2 as imageio` or call `imageio.v2.imread` directly.\n",
            "  mask = imread(mask_path)  # Reads .gif files\n",
            "Processing training masks: 100%|██████████| 20/20 [00:00<00:00, 184.12it/s]\n",
            "Processing test masks: 100%|██████████| 20/20 [00:00<00:00, 233.12it/s]\n",
            "Processing training manual segmentation masks: 100%|██████████| 20/20 [00:00<00:00, 257.79it/s]"
          ]
        },
        {
          "output_type": "stream",
          "name": "stdout",
          "text": [
            "✅ Preprocessed DRIVE dataset saved in /content/preprocessed_drive\n"
          ]
        },
        {
          "output_type": "stream",
          "name": "stderr",
          "text": [
            "\n"
          ]
        }
      ]
    },
    {
      "cell_type": "code",
      "source": [
        "# Count the number of preprocessed images & masks\n",
        "train_img_count = len(os.listdir(f\"{SAVE_DIR}/training/images\"))\n",
        "train_mask_count = len(os.listdir(f\"{SAVE_DIR}/training/mask\"))\n",
        "train_manual_count = len(os.listdir(f\"{SAVE_DIR}/training/1st_manual\"))\n",
        "test_img_count = len(os.listdir(f\"{SAVE_DIR}/test/images\"))\n",
        "test_mask_count = len(os.listdir(f\"{SAVE_DIR}/test/mask\"))\n",
        "\n",
        "print(f\"📂 Preprocessed Training Fundus Images: {train_img_count}\")\n",
        "print(f\"📂 Preprocessed Training Vessel Masks: {train_mask_count}\")\n",
        "print(f\"📂 Preprocessed Training Manual Segmentation: {train_manual_count}\")\n",
        "print(f\"📂 Preprocessed Test Fundus Images: {test_img_count}\")\n",
        "print(f\"📂 Preprocessed Test Vessel Masks: {test_mask_count}\")\n"
      ],
      "metadata": {
        "colab": {
          "base_uri": "https://localhost:8080/"
        },
        "id": "NOhhPOqf8Idd",
        "outputId": "f2b51f9d-6b56-4e1f-d37e-cc0de437ab59"
      },
      "execution_count": 42,
      "outputs": [
        {
          "output_type": "stream",
          "name": "stdout",
          "text": [
            "📂 Preprocessed Training Fundus Images: 20\n",
            "📂 Preprocessed Training Vessel Masks: 20\n",
            "📂 Preprocessed Training Manual Segmentation: 20\n",
            "📂 Preprocessed Test Fundus Images: 20\n",
            "📂 Preprocessed Test Vessel Masks: 20\n"
          ]
        }
      ]
    },
    {
      "cell_type": "markdown",
      "source": [],
      "metadata": {
        "id": "zh1jRKJC9Xlz"
      }
    },
    {
      "cell_type": "markdown",
      "source": [
        "# APTOS Augmentation"
      ],
      "metadata": {
        "id": "qsbv4CuX9bGS"
      }
    },
    {
      "cell_type": "code",
      "source": [
        "import albumentations as A\n",
        "import cv2\n",
        "import numpy as np\n",
        "import os\n",
        "from tqdm import tqdm\n",
        "\n",
        "# APTOS Augmentation Pipeline\n",
        "aptos_augment = A.Compose([\n",
        "    A.HorizontalFlip(p=0.5),\n",
        "    A.Rotate(limit=30, p=0.5),\n",
        "    A.RandomBrightnessContrast(p=0.3),\n",
        "    A.GaussianBlur(p=0.2),\n",
        "])\n",
        "\n",
        "# Define paths\n",
        "APTOS_PATH = \"/content/preprocessed_aptos\"\n",
        "AUGMENTED_APTOS_PATH = \"/content/augmented_aptos\"\n",
        "\n",
        "# Create augmented save directory if it doesn't exist\n",
        "os.makedirs(AUGMENTED_APTOS_PATH, exist_ok=True)\n",
        "\n",
        "def augment_fundus_images_with_original(input_dir, save_dir, augmentations_per_image=3):\n",
        "    \"\"\"For each category, saves the original image (converted to jpg) plus 3 augmented copies.\"\"\"\n",
        "    for category in os.listdir(input_dir):\n",
        "        category_path = os.path.join(input_dir, category)\n",
        "        save_category_path = os.path.join(save_dir, category)\n",
        "        os.makedirs(save_category_path, exist_ok=True)\n",
        "\n",
        "        for img_name in tqdm(os.listdir(category_path), desc=f\"Augmenting {category}\"):\n",
        "            if not img_name.endswith('.npy'):\n",
        "                continue\n",
        "            img_path = os.path.join(category_path, img_name)\n",
        "            img = np.load(img_path)\n",
        "            img_uint8 = (img * 255).astype(np.uint8)\n",
        "\n",
        "            # Save the original image\n",
        "            original_save_path = os.path.join(save_category_path, img_name.replace('.npy', '.jpg'))\n",
        "            cv2.imwrite(original_save_path, img_uint8)\n",
        "\n",
        "            # Create augmented versions\n",
        "            for i in range(augmentations_per_image):\n",
        "                augmented = aptos_augment(image=img_uint8)[\"image\"]\n",
        "                aug_save_path = os.path.join(save_category_path, f\"aug_{i}_{img_name.replace('.npy', '.jpg')}\")\n",
        "                cv2.imwrite(aug_save_path, augmented)\n",
        "\n",
        "augment_fundus_images_with_original(APTOS_PATH, AUGMENTED_APTOS_PATH, augmentations_per_image=3)\n",
        "print(\"✅ APTOS Augmentation Complete!\")\n"
      ],
      "metadata": {
        "colab": {
          "base_uri": "https://localhost:8080/"
        },
        "id": "38uEdhrK9gP8",
        "outputId": "3539512d-7c51-43ab-a92c-84fea27432ce"
      },
      "execution_count": 62,
      "outputs": [
        {
          "output_type": "stream",
          "name": "stderr",
          "text": [
            "Augmenting Proliferate_DR: 100%|██████████| 295/295 [00:07<00:00, 40.49it/s]\n",
            "Augmenting Severe: 100%|██████████| 193/193 [00:03<00:00, 49.83it/s]\n",
            "Augmenting Mild: 100%|██████████| 370/370 [00:07<00:00, 46.94it/s]\n",
            "Augmenting No_DR: 100%|██████████| 1805/1805 [00:35<00:00, 51.35it/s]\n",
            "Augmenting Moderate: 100%|██████████| 999/999 [00:17<00:00, 57.24it/s]"
          ]
        },
        {
          "output_type": "stream",
          "name": "stdout",
          "text": [
            "✅ APTOS Augmentation Complete!\n"
          ]
        },
        {
          "output_type": "stream",
          "name": "stderr",
          "text": [
            "\n"
          ]
        }
      ]
    },
    {
      "cell_type": "markdown",
      "source": [
        "# IDRiD Augmentation"
      ],
      "metadata": {
        "id": "RiIJmDoh-f2w"
      }
    },
    {
      "cell_type": "code",
      "source": [
        "import albumentations as A\n",
        "import cv2\n",
        "import numpy as np\n",
        "import os\n",
        "from tqdm import tqdm\n",
        "\n",
        "idrid_augment = A.Compose([\n",
        "    A.HorizontalFlip(p=0.5),\n",
        "    A.Rotate(limit=20, p=0.5),\n",
        "    A.ElasticTransform(p=0.2),\n",
        "])\n",
        "\n",
        "IDRID_PATH = \"/content/preprocessed_idrid\"  # Fundus images\n",
        "AUGMENTED_IDRID_PATH = \"/content/augmented_idrid\"\n",
        "\n",
        "os.makedirs(AUGMENTED_IDRID_PATH, exist_ok=True)\n",
        "\n",
        "def augment_idrid_images_with_original(input_dir, save_dir, augmentations_per_image=3):\n",
        "    \"\"\"Saves original IDRiD fundus images (as jpg) plus 3 augmented versions.\"\"\"\n",
        "    for category in os.listdir(input_dir):\n",
        "        category_path = os.path.join(input_dir, category)\n",
        "        save_category_path = os.path.join(save_dir, category)\n",
        "        os.makedirs(save_category_path, exist_ok=True)\n",
        "\n",
        "        for img_name in tqdm(os.listdir(category_path), desc=f\"Augmenting {category} Images\"):\n",
        "            if not img_name.endswith('.npy'):\n",
        "                continue\n",
        "            img_path = os.path.join(category_path, img_name)\n",
        "            img = np.load(img_path)\n",
        "            img_uint8 = (img * 255).astype(np.uint8)\n",
        "\n",
        "            # Save original\n",
        "            original_save_path = os.path.join(save_category_path, img_name.replace('.npy', '.jpg'))\n",
        "            cv2.imwrite(original_save_path, img_uint8)\n",
        "\n",
        "            for i in range(augmentations_per_image):\n",
        "                augmented = idrid_augment(image=img_uint8)[\"image\"]\n",
        "                aug_save_path = os.path.join(save_category_path, f\"aug_{i}_{img_name.replace('.npy', '.jpg')}\")\n",
        "                cv2.imwrite(aug_save_path, augmented)\n",
        "\n",
        "augment_idrid_images_with_original(IDRID_PATH, AUGMENTED_IDRID_PATH, augmentations_per_image=3)\n",
        "print(\"✅ IDRiD Fundus Images Augmentation Complete!\")\n"
      ],
      "metadata": {
        "colab": {
          "base_uri": "https://localhost:8080/"
        },
        "id": "vf8VJ89U-kCd",
        "outputId": "45ec99e4-02fc-454f-dcd4-a1aca45f304a"
      },
      "execution_count": 63,
      "outputs": [
        {
          "output_type": "stream",
          "name": "stderr",
          "text": [
            "Augmenting a. Training Set Images: 100%|██████████| 54/54 [00:01<00:00, 37.73it/s]\n",
            "Augmenting b. Testing Set Images: 100%|██████████| 27/27 [00:00<00:00, 50.20it/s]"
          ]
        },
        {
          "output_type": "stream",
          "name": "stdout",
          "text": [
            "✅ IDRiD Fundus Images Augmentation Complete!\n"
          ]
        },
        {
          "output_type": "stream",
          "name": "stderr",
          "text": [
            "\n"
          ]
        }
      ]
    },
    {
      "cell_type": "code",
      "source": [
        "IDRID_MASK_PATH = \"/content/preprocessed_idrid_masks\"  # Lesion masks (subfolders for each lesion type)\n",
        "AUGMENTED_IDRID_MASKS = \"/content/augmented_idrid_masks\"\n",
        "\n",
        "os.makedirs(AUGMENTED_IDRID_MASKS, exist_ok=True)\n",
        "\n",
        "def augment_idrid_masks_with_original(mask_dir, save_dir, augmentations_per_image=3):\n",
        "    \"\"\"Saves original lesion masks plus 3 augmented versions, for each lesion type.\"\"\"\n",
        "    for lesion_type in os.listdir(mask_dir):\n",
        "        lesion_path = os.path.join(mask_dir, lesion_type)\n",
        "        save_lesion_path = os.path.join(save_dir, lesion_type)\n",
        "        os.makedirs(save_lesion_path, exist_ok=True)\n",
        "\n",
        "        for mask_name in tqdm(os.listdir(lesion_path), desc=f\"Augmenting {lesion_type} Masks\"):\n",
        "            if not mask_name.endswith('.npy'):\n",
        "                continue\n",
        "            mask_path = os.path.join(lesion_path, mask_name)\n",
        "            mask = np.load(mask_path)\n",
        "            mask_uint8 = (mask * 255).astype(np.uint8)\n",
        "\n",
        "            # Save original mask\n",
        "            original_save_path = os.path.join(save_lesion_path, mask_name.replace('.npy', '.jpg'))\n",
        "            cv2.imwrite(original_save_path, mask_uint8)\n",
        "\n",
        "            for i in range(augmentations_per_image):\n",
        "                augmented_mask = idrid_augment(image=mask_uint8)[\"image\"]\n",
        "                aug_save_path = os.path.join(save_lesion_path, f\"aug_{i}_{mask_name.replace('.npy', '.jpg')}\")\n",
        "                cv2.imwrite(aug_save_path, augmented_mask)\n",
        "\n",
        "augment_idrid_masks_with_original(IDRID_MASK_PATH, AUGMENTED_IDRID_MASKS, augmentations_per_image=3)\n",
        "print(\"✅ IDRiD Lesion Masks Augmentation Complete!\")\n"
      ],
      "metadata": {
        "colab": {
          "base_uri": "https://localhost:8080/"
        },
        "id": "oO9fKseM-r4N",
        "outputId": "65b64fdc-4420-4d74-cb5e-91efcdb701cf"
      },
      "execution_count": 64,
      "outputs": [
        {
          "output_type": "stream",
          "name": "stderr",
          "text": [
            "Augmenting 2. Haemorrhages Masks: 100%|██████████| 53/53 [00:00<00:00, 101.05it/s]\n",
            "Augmenting 1. Microaneurysms Masks: 100%|██████████| 54/54 [00:00<00:00, 106.94it/s]\n",
            "Augmenting 3. Hard Exudates Masks: 100%|██████████| 54/54 [00:00<00:00, 89.84it/s]\n",
            "Augmenting 4. Soft Exudates Masks: 100%|██████████| 26/26 [00:00<00:00, 72.46it/s]\n",
            "Augmenting 5. Optic Disc Masks: 100%|██████████| 54/54 [00:00<00:00, 99.60it/s]"
          ]
        },
        {
          "output_type": "stream",
          "name": "stdout",
          "text": [
            "✅ IDRiD Lesion Masks Augmentation Complete!\n"
          ]
        },
        {
          "output_type": "stream",
          "name": "stderr",
          "text": [
            "\n"
          ]
        }
      ]
    },
    {
      "cell_type": "markdown",
      "source": [
        "# STARE Augmentation"
      ],
      "metadata": {
        "id": "FMmnTWlO_RXK"
      }
    },
    {
      "cell_type": "code",
      "source": [
        "import albumentations as A\n",
        "import cv2\n",
        "import numpy as np\n",
        "import os\n",
        "from tqdm import tqdm\n",
        "\n",
        "stare_augment = A.Compose([\n",
        "    A.HorizontalFlip(p=0.5),\n",
        "    A.Rotate(limit=30, p=0.5),\n",
        "    A.GaussianBlur(p=0.3),\n",
        "    A.ElasticTransform(p=0.2),\n",
        "], additional_targets={\"mask_ah\": \"image\", \"mask_vk\": \"image\"})\n",
        "\n",
        "STARE_IMAGE_PATH = \"/content/preprocessed_stare/images\"\n",
        "STARE_AH_MASK_PATH = \"/content/preprocessed_stare/labels-ah\"\n",
        "STARE_VK_MASK_PATH = \"/content/preprocessed_stare/labels-vk\"\n",
        "\n",
        "AUG_STARE_IMAGE_PATH = \"/content/augmented_stare/images\"\n",
        "AUG_STARE_AH_PATH = \"/content/augmented_stare/labels-ah\"\n",
        "AUG_STARE_VK_PATH = \"/content/augmented_stare/labels-vk\"\n",
        "\n",
        "os.makedirs(AUG_STARE_IMAGE_PATH, exist_ok=True)\n",
        "os.makedirs(AUG_STARE_AH_PATH, exist_ok=True)\n",
        "os.makedirs(AUG_STARE_VK_PATH, exist_ok=True)\n",
        "\n",
        "def augment_stare_images_and_masks_with_original(image_dir, ah_mask_dir, vk_mask_dir, save_image_dir, save_ah_dir, save_vk_dir, augmentations_per_image=3):\n",
        "    \"\"\"Augments STARE fundus images & corresponding masks, saving original + augmentations.\"\"\"\n",
        "    for img_name in tqdm(os.listdir(image_dir), desc=\"Augmenting STARE Images & Masks\"):\n",
        "        if not img_name.endswith('.npy'):\n",
        "            continue\n",
        "        img_path = os.path.join(image_dir, img_name)\n",
        "        ah_mask_name = img_name.replace('.npy', '.ah.npy')\n",
        "        vk_mask_name = img_name.replace('.npy', '.vk.npy')\n",
        "\n",
        "        ah_mask_path = os.path.join(ah_mask_dir, ah_mask_name)\n",
        "        vk_mask_path = os.path.join(vk_mask_dir, vk_mask_name)\n",
        "\n",
        "        if not (os.path.exists(ah_mask_path) and os.path.exists(vk_mask_path)):\n",
        "            print(f\"⚠️ Skipping {img_name} (Missing Mask)\")\n",
        "            continue\n",
        "\n",
        "        img = np.load(img_path)\n",
        "        ah_mask = np.load(ah_mask_path)\n",
        "        vk_mask = np.load(vk_mask_path)\n",
        "\n",
        "        img_uint8 = (img * 255).astype(np.uint8)\n",
        "        ah_mask_uint8 = (ah_mask * 255).astype(np.uint8)\n",
        "        vk_mask_uint8 = (vk_mask * 255).astype(np.uint8)\n",
        "\n",
        "        # Save original image & masks\n",
        "        orig_img_save = os.path.join(save_image_dir, img_name.replace('.npy', '.jpg'))\n",
        "        orig_ah_save = os.path.join(save_ah_dir, ah_mask_name.replace('.npy', '.jpg'))\n",
        "        orig_vk_save = os.path.join(save_vk_dir, vk_mask_name.replace('.npy', '.jpg'))\n",
        "        cv2.imwrite(orig_img_save, img_uint8)\n",
        "        cv2.imwrite(orig_ah_save, ah_mask_uint8)\n",
        "        cv2.imwrite(orig_vk_save, vk_mask_uint8)\n",
        "\n",
        "        for i in range(augmentations_per_image):\n",
        "            augmented = stare_augment(image=img_uint8, mask_ah=ah_mask_uint8, mask_vk=vk_mask_uint8)\n",
        "            aug_img_save = os.path.join(save_image_dir, f\"aug_{i}_{img_name.replace('.npy', '.jpg')}\")\n",
        "            aug_ah_save = os.path.join(save_ah_dir, f\"aug_{i}_{ah_mask_name.replace('.npy', '.jpg')}\")\n",
        "            aug_vk_save = os.path.join(save_vk_dir, f\"aug_{i}_{vk_mask_name.replace('.npy', '.jpg')}\")\n",
        "\n",
        "            cv2.imwrite(aug_img_save, augmented[\"image\"])\n",
        "            cv2.imwrite(aug_ah_save, augmented[\"mask_ah\"])\n",
        "            cv2.imwrite(aug_vk_save, augmented[\"mask_vk\"])\n",
        "\n",
        "augment_stare_images_and_masks_with_original(STARE_IMAGE_PATH, STARE_AH_MASK_PATH, STARE_VK_MASK_PATH, AUG_STARE_IMAGE_PATH, AUG_STARE_AH_PATH, AUG_STARE_VK_PATH, augmentations_per_image=3)\n",
        "print(\"✅ STARE Augmentation Complete!\")\n"
      ],
      "metadata": {
        "colab": {
          "base_uri": "https://localhost:8080/"
        },
        "id": "lthJQbd2_XyQ",
        "outputId": "53bd1d71-9918-4abf-b1ab-379c840339ab"
      },
      "execution_count": 65,
      "outputs": [
        {
          "output_type": "stream",
          "name": "stderr",
          "text": [
            "Augmenting STARE Images & Masks: 100%|██████████| 20/20 [00:00<00:00, 27.39it/s]"
          ]
        },
        {
          "output_type": "stream",
          "name": "stdout",
          "text": [
            "✅ STARE Augmentation Complete!\n"
          ]
        },
        {
          "output_type": "stream",
          "name": "stderr",
          "text": [
            "\n"
          ]
        }
      ]
    },
    {
      "cell_type": "markdown",
      "source": [
        "# DRIVE Augmentation"
      ],
      "metadata": {
        "id": "4QLu-62I_fYj"
      }
    },
    {
      "cell_type": "code",
      "source": [
        "import albumentations as A\n",
        "import cv2\n",
        "import numpy as np\n",
        "import os\n",
        "from tqdm import tqdm\n",
        "\n",
        "drive_augment = A.Compose([\n",
        "    A.HorizontalFlip(p=0.5),\n",
        "    A.Rotate(limit=30, p=0.5),\n",
        "    A.GaussianBlur(p=0.3),\n",
        "    A.ElasticTransform(p=0.2),\n",
        "], additional_targets={\"mask_vessel\": \"image\", \"mask_manual\": \"image\"})\n",
        "\n",
        "DRIVE_IMAGE_TRAIN_PATH = \"/content/preprocessed_drive/training/images\"\n",
        "DRIVE_MASK_TRAIN_PATH = \"/content/preprocessed_drive/training/mask\"\n",
        "DRIVE_MANUAL_TRAIN_PATH = \"/content/preprocessed_drive/training/1st_manual\"\n",
        "\n",
        "AUG_IMAGE_TRAIN_PATH = \"/content/augmented_drive/training/images\"\n",
        "AUG_MASK_TRAIN_PATH = \"/content/augmented_drive/training/mask\"\n",
        "AUG_MANUAL_TRAIN_PATH = \"/content/augmented_drive/training/1st_manual\"\n",
        "\n",
        "os.makedirs(AUG_IMAGE_TRAIN_PATH, exist_ok=True)\n",
        "os.makedirs(AUG_MASK_TRAIN_PATH, exist_ok=True)\n",
        "os.makedirs(AUG_MANUAL_TRAIN_PATH, exist_ok=True)\n",
        "\n",
        "def augment_drive_train_set_with_original(image_dir, mask_dir, manual_dir, save_image_dir, save_mask_dir, save_manual_dir, augmentations_per_image=3):\n",
        "    \"\"\"Augments DRIVE training images & corresponding vessel and manual masks, saving original + augmentations.\"\"\"\n",
        "    for img_name in tqdm(os.listdir(image_dir), desc=\"Augmenting DRIVE Training Set\"):\n",
        "        if not img_name.endswith('.npy'):\n",
        "            continue\n",
        "        img_path = os.path.join(image_dir, img_name)\n",
        "        # Generate correct mask filenames based on given example:\n",
        "        # For an image named \"21_training.npy\", the vessel mask is \"21_training_mask.npy\" and manual mask is \"21_manual1.npy\"\n",
        "        mask_name = img_name.replace(\"_training.npy\", \"_training_mask.npy\")\n",
        "        manual_name = img_name.replace(\"_training.npy\", \"_manual1.npy\")\n",
        "\n",
        "        mask_path = os.path.join(mask_dir, mask_name)\n",
        "        manual_path = os.path.join(manual_dir, manual_name)\n",
        "\n",
        "        if not (os.path.exists(mask_path) and os.path.exists(manual_path)):\n",
        "            print(f\"⚠️ Skipping {img_name} (Missing Mask)\")\n",
        "            continue\n",
        "\n",
        "        img = np.load(img_path)\n",
        "        mask = np.load(mask_path)\n",
        "        manual = np.load(manual_path)\n",
        "\n",
        "        img_uint8 = (img * 255).astype(np.uint8)\n",
        "        mask_uint8 = (mask * 255).astype(np.uint8)\n",
        "        manual_uint8 = (manual * 255).astype(np.uint8)\n",
        "\n",
        "        # Save original files (as .jpg)\n",
        "        orig_img_save = os.path.join(save_image_dir, img_name.replace('.npy', '.jpg'))\n",
        "        orig_mask_save = os.path.join(save_mask_dir, mask_name.replace('.npy', '.jpg'))\n",
        "        orig_manual_save = os.path.join(save_manual_dir, manual_name.replace('.npy', '.jpg'))\n",
        "        cv2.imwrite(orig_img_save, img_uint8)\n",
        "        cv2.imwrite(orig_mask_save, mask_uint8)\n",
        "        cv2.imwrite(orig_manual_save, manual_uint8)\n",
        "\n",
        "        for i in range(augmentations_per_image):\n",
        "            augmented = drive_augment(image=img_uint8, mask_vessel=mask_uint8, mask_manual=manual_uint8)\n",
        "\n",
        "            aug_img_save = os.path.join(save_image_dir, f\"aug_{i}_{img_name.replace('.npy', '.jpg')}\")\n",
        "            aug_mask_save = os.path.join(save_mask_dir, f\"aug_{i}_{mask_name.replace('.npy', '.jpg')}\")\n",
        "            aug_manual_save = os.path.join(save_manual_dir, f\"aug_{i}_{manual_name.replace('.npy', '.jpg')}\")\n",
        "\n",
        "            cv2.imwrite(aug_img_save, augmented[\"image\"])\n",
        "            cv2.imwrite(aug_mask_save, augmented[\"mask_vessel\"])\n",
        "            cv2.imwrite(aug_manual_save, augmented[\"mask_manual\"])\n",
        "\n",
        "augment_drive_train_set_with_original(DRIVE_IMAGE_TRAIN_PATH, DRIVE_MASK_TRAIN_PATH, DRIVE_MANUAL_TRAIN_PATH,\n",
        "                                        AUG_IMAGE_TRAIN_PATH, AUG_MASK_TRAIN_PATH, AUG_MANUAL_TRAIN_PATH, augmentations_per_image=3)\n",
        "print(\"✅ DRIVE Training Set Augmentation Complete!\")\n"
      ],
      "metadata": {
        "colab": {
          "base_uri": "https://localhost:8080/"
        },
        "id": "GUfgq7wW_i3T",
        "outputId": "5888f0b9-66d4-4fff-d88c-e6ef4944808c"
      },
      "execution_count": 66,
      "outputs": [
        {
          "output_type": "stream",
          "name": "stderr",
          "text": [
            "Augmenting DRIVE Training Set: 100%|██████████| 20/20 [00:00<00:00, 26.66it/s]"
          ]
        },
        {
          "output_type": "stream",
          "name": "stdout",
          "text": [
            "✅ DRIVE Training Set Augmentation Complete!\n"
          ]
        },
        {
          "output_type": "stream",
          "name": "stderr",
          "text": [
            "\n"
          ]
        }
      ]
    },
    {
      "cell_type": "code",
      "source": [
        "DRIVE_IMAGE_TEST_PATH = \"/content/preprocessed_drive/test/images\"\n",
        "DRIVE_MASK_TEST_PATH = \"/content/preprocessed_drive/test/mask\"\n",
        "\n",
        "AUG_IMAGE_TEST_PATH = \"/content/augmented_drive/test/images\"\n",
        "AUG_MASK_TEST_PATH = \"/content/augmented_drive/test/mask\"\n",
        "\n",
        "os.makedirs(AUG_IMAGE_TEST_PATH, exist_ok=True)\n",
        "os.makedirs(AUG_MASK_TEST_PATH, exist_ok=True)\n",
        "\n",
        "def augment_drive_test_set_with_original(image_dir, mask_dir, save_image_dir, save_mask_dir, augmentations_per_image=3):\n",
        "    \"\"\"Augments DRIVE test images & corresponding vessel masks, saving original + augmentations.\"\"\"\n",
        "    for img_name in tqdm(os.listdir(image_dir), desc=\"Augmenting DRIVE Test Set\"):\n",
        "        if not img_name.endswith('.npy'):\n",
        "            continue\n",
        "        img_path = os.path.join(image_dir, img_name)\n",
        "        mask_name = img_name.replace(\"_test.npy\", \"_test_mask.npy\")\n",
        "        mask_path = os.path.join(mask_dir, mask_name)\n",
        "\n",
        "        if not os.path.exists(mask_path):\n",
        "            print(f\"⚠️ Skipping {img_name} (Missing Test Mask)\")\n",
        "            continue\n",
        "\n",
        "        img = np.load(img_path)\n",
        "        mask = np.load(mask_path)\n",
        "\n",
        "        img_uint8 = (img * 255).astype(np.uint8)\n",
        "        mask_uint8 = (mask * 255).astype(np.uint8)\n",
        "\n",
        "        # Save original files\n",
        "        orig_img_save = os.path.join(save_image_dir, img_name.replace('.npy', '.jpg'))\n",
        "        orig_mask_save = os.path.join(save_mask_dir, mask_name.replace('.npy', '.jpg'))\n",
        "        cv2.imwrite(orig_img_save, img_uint8)\n",
        "        cv2.imwrite(orig_mask_save, mask_uint8)\n",
        "\n",
        "        for i in range(augmentations_per_image):\n",
        "            augmented = drive_augment(image=img_uint8, mask_vessel=mask_uint8)\n",
        "\n",
        "            aug_img_save = os.path.join(save_image_dir, f\"aug_{i}_{img_name.replace('.npy', '.jpg')}\")\n",
        "            aug_mask_save = os.path.join(save_mask_dir, f\"aug_{i}_{mask_name.replace('.npy', '.jpg')}\")\n",
        "\n",
        "            cv2.imwrite(aug_img_save, augmented[\"image\"])\n",
        "            cv2.imwrite(aug_mask_save, augmented[\"mask_vessel\"])\n",
        "\n",
        "augment_drive_test_set_with_original(DRIVE_IMAGE_TEST_PATH, DRIVE_MASK_TEST_PATH, AUG_IMAGE_TEST_PATH, AUG_MASK_TEST_PATH, augmentations_per_image=3)\n",
        "print(\"✅ DRIVE Test Set Augmentation Complete!\")\n"
      ],
      "metadata": {
        "colab": {
          "base_uri": "https://localhost:8080/"
        },
        "id": "GlCGvbWq_1Qt",
        "outputId": "3488ccf1-bf4d-4df4-c3f6-5bbdeacd960c"
      },
      "execution_count": 67,
      "outputs": [
        {
          "output_type": "stream",
          "name": "stderr",
          "text": [
            "Augmenting DRIVE Test Set: 100%|██████████| 20/20 [00:00<00:00, 20.56it/s]"
          ]
        },
        {
          "output_type": "stream",
          "name": "stdout",
          "text": [
            "✅ DRIVE Test Set Augmentation Complete!\n"
          ]
        },
        {
          "output_type": "stream",
          "name": "stderr",
          "text": [
            "\n"
          ]
        }
      ]
    },
    {
      "cell_type": "code",
      "source": [
        "def count_files_recursive(directory):\n",
        "    total = 0\n",
        "    for root, _, files in os.walk(directory):\n",
        "        total += len([f for f in files if f.endswith('.jpg')])\n",
        "    return total\n",
        "\n",
        "print(\"APTOS Augmented Total Files:\", count_files_recursive(\"/content/augmented_aptos\"))\n",
        "print(\"IDRiD Fundus Augmented Total Files:\", count_files_recursive(\"/content/augmented_idrid\"))\n",
        "print(\"IDRiD Masks Augmented Total Files:\", count_files_recursive(\"/content/augmented_idrid_masks\"))\n",
        "print(\"STARE Augmented Fundus Images:\", count_files_recursive(\"/content/augmented_stare/images\"))\n",
        "print(\"STARE AH Masks:\", count_files_recursive(\"/content/augmented_stare/labels-ah\"))\n",
        "print(\"STARE VK Masks:\", count_files_recursive(\"/content/augmented_stare/labels-vk\"))\n",
        "print(\"DRIVE Train Augmented Fundus Images:\", count_files_recursive(\"/content/augmented_drive/training/images\"))\n",
        "print(\"DRIVE Train Augmented Vessel Masks:\", count_files_recursive(\"/content/augmented_drive/training/mask\"))\n",
        "print(\"DRIVE Train Augmented Manual Masks:\", count_files_recursive(\"/content/augmented_drive/training/1st_manual\"))\n",
        "print(\"DRIVE Test Augmented Fundus Images:\", count_files_recursive(\"/content/augmented_drive/test/images\"))\n",
        "print(\"DRIVE Test Augmented Vessel Masks:\", count_files_recursive(\"/content/augmented_drive/test/mask\"))\n"
      ],
      "metadata": {
        "colab": {
          "base_uri": "https://localhost:8080/"
        },
        "id": "IUTm3g5u_7rE",
        "outputId": "1b9e3447-c9ea-4f3d-a0a3-cd30d9a58db8"
      },
      "execution_count": 68,
      "outputs": [
        {
          "output_type": "stream",
          "name": "stdout",
          "text": [
            "APTOS Augmented Total Files: 14648\n",
            "IDRiD Fundus Augmented Total Files: 324\n",
            "IDRiD Masks Augmented Total Files: 964\n",
            "STARE Augmented Fundus Images: 80\n",
            "STARE AH Masks: 80\n",
            "STARE VK Masks: 80\n",
            "DRIVE Train Augmented Fundus Images: 80\n",
            "DRIVE Train Augmented Vessel Masks: 80\n",
            "DRIVE Train Augmented Manual Masks: 80\n",
            "DRIVE Test Augmented Fundus Images: 80\n",
            "DRIVE Test Augmented Vessel Masks: 80\n"
          ]
        }
      ]
    },
    {
      "cell_type": "markdown",
      "source": [
        "# U_NET"
      ],
      "metadata": {
        "id": "QL_hfU3hezXO"
      }
    },
    {
      "cell_type": "code",
      "source": [
        "import os\n",
        "import numpy as np\n",
        "import cv2\n",
        "import tensorflow as tf\n",
        "from tensorflow.keras import layers, models\n",
        "from tqdm import tqdm\n",
        "from sklearn.model_selection import train_test_split\n",
        "import matplotlib.pyplot as plt\n",
        "\n",
        "# Define Image Size & Paths\n",
        "IMG_SIZE = (256, 256)\n",
        "BATCH_SIZE = 8\n",
        "\n",
        "# Function to load images & masks from folders\n",
        "def load_images_and_masks(img_dir, mask_dir):\n",
        "    img_paths = sorted([os.path.join(img_dir, f) for f in os.listdir(img_dir) if f.endswith('.jpg')])\n",
        "    mask_paths = sorted([os.path.join(mask_dir, f) for f in os.listdir(mask_dir) if f.endswith('.jpg')])\n",
        "\n",
        "    images, masks = [], []\n",
        "    for img_path, mask_path in tqdm(zip(img_paths, mask_paths), total=len(img_paths), desc=\"Loading Data\"):\n",
        "        img = cv2.imread(img_path, cv2.IMREAD_COLOR)\n",
        "        img = cv2.resize(img, IMG_SIZE) / 255.0  # Normalize\n",
        "        mask = cv2.imread(mask_path, cv2.IMREAD_GRAYSCALE)\n",
        "        mask = cv2.resize(mask, IMG_SIZE) / 255.0  # Normalize\n",
        "        mask = np.expand_dims(mask, axis=-1)  # Add channel dimension\n",
        "\n",
        "        images.append(img)\n",
        "        masks.append(mask)\n",
        "\n",
        "    return np.array(images), np.array(masks)\n",
        "\n",
        "# Load IDRiD Data (Lesion Segmentation)\n",
        "IDRID_IMG_DIR = \"/content/augmented_idrid/a. Training Set\"\n",
        "IDRID_MASK_DIR = \"/content/augmented_idrid_masks/1. Microaneurysms\"  # Change lesion type if needed\n",
        "\n",
        "X_idrid, Y_idrid = load_images_and_masks(IDRID_IMG_DIR, IDRID_MASK_DIR)\n",
        "\n",
        "# Load DRIVE Data (Vessel Segmentation)\n",
        "DRIVE_IMG_DIR = \"/content/augmented_drive/training/images\"\n",
        "DRIVE_MASK_DIR = \"/content/augmented_drive/training/mask\"\n",
        "\n",
        "X_drive, Y_drive = load_images_and_masks(DRIVE_IMG_DIR, DRIVE_MASK_DIR)\n",
        "\n",
        "# Load STARE Data (Vessel Segmentation)\n",
        "STARE_IMG_DIR = \"/content/augmented_stare/images\"\n",
        "STARE_MASK_DIR = \"/content/augmented_stare/labels-ah\"\n",
        "\n",
        "X_stare, Y_stare = load_images_and_masks(STARE_IMG_DIR, STARE_MASK_DIR)\n",
        "\n",
        "# Print dataset sizes\n",
        "print(f\"✅ IDRiD: {X_idrid.shape}, {Y_idrid.shape}\")\n",
        "print(f\"✅ DRIVE: {X_drive.shape}, {Y_drive.shape}\")\n",
        "print(f\"✅ STARE: {X_stare.shape}, {Y_stare.shape}\")\n"
      ],
      "metadata": {
        "colab": {
          "base_uri": "https://localhost:8080/"
        },
        "id": "3slGbxOxEyFS",
        "outputId": "42e31ba2-983f-421e-d0b8-c15464769d60"
      },
      "execution_count": 69,
      "outputs": [
        {
          "output_type": "stream",
          "name": "stderr",
          "text": [
            "Loading Data: 100%|██████████| 216/216 [00:01<00:00, 136.94it/s]\n",
            "Loading Data: 100%|██████████| 80/80 [00:00<00:00, 391.92it/s]\n",
            "Loading Data: 100%|██████████| 80/80 [00:00<00:00, 294.26it/s]\n"
          ]
        },
        {
          "output_type": "stream",
          "name": "stdout",
          "text": [
            "✅ IDRiD: (216, 256, 256, 3), (216, 256, 256, 1)\n",
            "✅ DRIVE: (80, 256, 256, 3), (80, 256, 256, 1)\n",
            "✅ STARE: (80, 256, 256, 3), (80, 256, 256, 1)\n"
          ]
        }
      ]
    },
    {
      "cell_type": "code",
      "source": [
        "# Split data into train and validation (80-20 split)\n",
        "X_train_idrid, X_val_idrid, Y_train_idrid, Y_val_idrid = train_test_split(X_idrid, Y_idrid, test_size=0.2, random_state=42)\n",
        "X_train_drive, X_val_drive, Y_train_drive, Y_val_drive = train_test_split(X_drive, Y_drive, test_size=0.2, random_state=42)\n",
        "X_train_stare, X_val_stare, Y_train_stare, Y_val_stare = train_test_split(X_stare, Y_stare, test_size=0.2, random_state=42)\n",
        "\n",
        "print(f\"✅ Training Set (IDRiD): {X_train_idrid.shape}, {Y_train_idrid.shape}\")\n",
        "print(f\"✅ Validation Set (IDRiD): {X_val_idrid.shape}, {Y_val_idrid.shape}\")\n",
        "\n",
        "print(f\"✅ Training Set (DRIVE): {X_train_drive.shape}, {Y_train_drive.shape}\")\n",
        "print(f\"✅ Validation Set (DRIVE): {X_val_drive.shape}, {Y_val_drive.shape}\")\n",
        "\n",
        "print(f\"✅ Training Set (STARE): {X_train_stare.shape}, {Y_train_stare.shape}\")\n",
        "print(f\"✅ Validation Set (STARE): {X_val_stare.shape}, {Y_val_stare.shape}\")\n"
      ],
      "metadata": {
        "colab": {
          "base_uri": "https://localhost:8080/"
        },
        "id": "oTYqu6c4FBqv",
        "outputId": "c41a8bb2-15d1-430b-99b6-1cdadc06dccb"
      },
      "execution_count": 70,
      "outputs": [
        {
          "output_type": "stream",
          "name": "stdout",
          "text": [
            "✅ Training Set (IDRiD): (172, 256, 256, 3), (172, 256, 256, 1)\n",
            "✅ Validation Set (IDRiD): (44, 256, 256, 3), (44, 256, 256, 1)\n",
            "✅ Training Set (DRIVE): (64, 256, 256, 3), (64, 256, 256, 1)\n",
            "✅ Validation Set (DRIVE): (16, 256, 256, 3), (16, 256, 256, 1)\n",
            "✅ Training Set (STARE): (64, 256, 256, 3), (64, 256, 256, 1)\n",
            "✅ Validation Set (STARE): (16, 256, 256, 3), (16, 256, 256, 1)\n"
          ]
        }
      ]
    },
    {
      "cell_type": "code",
      "source": [
        "def build_unet(input_size=(256, 256, 3)):\n",
        "    inputs = layers.Input(input_size)\n",
        "\n",
        "    # Encoder\n",
        "    c1 = layers.Conv2D(64, (3, 3), activation=\"relu\", padding=\"same\")(inputs)\n",
        "    c1 = layers.Conv2D(64, (3, 3), activation=\"relu\", padding=\"same\")(c1)\n",
        "    p1 = layers.MaxPooling2D((2, 2))(c1)\n",
        "\n",
        "    c2 = layers.Conv2D(128, (3, 3), activation=\"relu\", padding=\"same\")(p1)\n",
        "    c2 = layers.Conv2D(128, (3, 3), activation=\"relu\", padding=\"same\")(c2)\n",
        "    p2 = layers.MaxPooling2D((2, 2))(c2)\n",
        "\n",
        "    c3 = layers.Conv2D(256, (3, 3), activation=\"relu\", padding=\"same\")(p2)\n",
        "    c3 = layers.Conv2D(256, (3, 3), activation=\"relu\", padding=\"same\")(c3)\n",
        "    p3 = layers.MaxPooling2D((2, 2))(c3)\n",
        "\n",
        "    # Bottleneck\n",
        "    c4 = layers.Conv2D(512, (3, 3), activation=\"relu\", padding=\"same\")(p3)\n",
        "    c4 = layers.Conv2D(512, (3, 3), activation=\"relu\", padding=\"same\")(c4)\n",
        "\n",
        "    # Decoder\n",
        "    u5 = layers.Conv2DTranspose(256, (2, 2), strides=(2, 2), padding=\"same\")(c4)\n",
        "    u5 = layers.concatenate([u5, c3])\n",
        "    c5 = layers.Conv2D(256, (3, 3), activation=\"relu\", padding=\"same\")(u5)\n",
        "\n",
        "    u6 = layers.Conv2DTranspose(128, (2, 2), strides=(2, 2), padding=\"same\")(c5)\n",
        "    u6 = layers.concatenate([u6, c2])\n",
        "    c6 = layers.Conv2D(128, (3, 3), activation=\"relu\", padding=\"same\")(u6)\n",
        "\n",
        "    u7 = layers.Conv2DTranspose(64, (2, 2), strides=(2, 2), padding=\"same\")(c6)\n",
        "    u7 = layers.concatenate([u7, c1])\n",
        "    c7 = layers.Conv2D(64, (3, 3), activation=\"relu\", padding=\"same\")(u7)\n",
        "\n",
        "    outputs = layers.Conv2D(1, (1, 1), activation=\"sigmoid\")(c7)\n",
        "\n",
        "    model = models.Model(inputs=[inputs], outputs=[outputs])\n",
        "    return model\n"
      ],
      "metadata": {
        "id": "De5QkeUIFEi6"
      },
      "execution_count": 71,
      "outputs": []
    },
    {
      "cell_type": "code",
      "source": [
        "# Compile and Train U-Net\n",
        "model = build_unet()\n",
        "model.compile(optimizer=\"adam\", loss=\"binary_crossentropy\", metrics=[\"accuracy\"])\n",
        "\n",
        "EPOCHS = 25\n",
        "history = model.fit(X_train_drive, Y_train_drive, validation_data=(X_val_drive, Y_val_drive), epochs=EPOCHS, batch_size=8)\n",
        "\n",
        "# Save Model\n",
        "model.save(\"/content/unet_drive.h5\")\n",
        "print(\"✅ U-Net Model Saved!\")\n"
      ],
      "metadata": {
        "colab": {
          "base_uri": "https://localhost:8080/"
        },
        "id": "2lem03YnFJHo",
        "outputId": "56373992-b7e4-4d04-f0dd-f1e88f3ff590"
      },
      "execution_count": 72,
      "outputs": [
        {
          "output_type": "stream",
          "name": "stdout",
          "text": [
            "Epoch 1/25\n"
          ]
        },
        {
          "output_type": "stream",
          "name": "stderr",
          "text": [
            "/usr/local/lib/python3.11/dist-packages/keras/src/models/functional.py:237: UserWarning: The structure of `inputs` doesn't match the expected structure.\n",
            "Expected: ['keras_tensor']\n",
            "Received: inputs=Tensor(shape=(8, 256, 256, 3))\n",
            "  warnings.warn(msg)\n"
          ]
        },
        {
          "output_type": "stream",
          "name": "stdout",
          "text": [
            "\u001b[1m8/8\u001b[0m \u001b[32m━━━━━━━━━━━━━━━━━━━━\u001b[0m\u001b[37m\u001b[0m \u001b[1m303s\u001b[0m 37s/step - accuracy: 0.6619 - loss: 0.5255 - val_accuracy: 0.7236 - val_loss: 0.2665\n",
            "Epoch 2/25\n",
            "\u001b[1m8/8\u001b[0m \u001b[32m━━━━━━━━━━━━━━━━━━━━\u001b[0m\u001b[37m\u001b[0m \u001b[1m275s\u001b[0m 34s/step - accuracy: 0.8079 - loss: 0.2387 - val_accuracy: 0.9397 - val_loss: 0.0330\n",
            "Epoch 3/25\n",
            "\u001b[1m8/8\u001b[0m \u001b[32m━━━━━━━━━━━━━━━━━━━━\u001b[0m\u001b[37m\u001b[0m \u001b[1m321s\u001b[0m 35s/step - accuracy: 0.8237 - loss: 0.4388 - val_accuracy: 0.9181 - val_loss: 0.2125\n",
            "Epoch 4/25\n",
            "\u001b[1m8/8\u001b[0m \u001b[32m━━━━━━━━━━━━━━━━━━━━\u001b[0m\u001b[37m\u001b[0m \u001b[1m321s\u001b[0m 34s/step - accuracy: 0.9239 - loss: 0.1983 - val_accuracy: 0.9374 - val_loss: 0.1411\n",
            "Epoch 5/25\n",
            "\u001b[1m8/8\u001b[0m \u001b[32m━━━━━━━━━━━━━━━━━━━━\u001b[0m\u001b[37m\u001b[0m \u001b[1m325s\u001b[0m 35s/step - accuracy: 0.9360 - loss: 0.1162 - val_accuracy: 0.9390 - val_loss: 0.0339\n",
            "Epoch 6/25\n",
            "\u001b[1m8/8\u001b[0m \u001b[32m━━━━━━━━━━━━━━━━━━━━\u001b[0m\u001b[37m\u001b[0m \u001b[1m317s\u001b[0m 34s/step - accuracy: 0.9430 - loss: 0.0292 - val_accuracy: 0.9393 - val_loss: 0.0272\n",
            "Epoch 7/25\n",
            "\u001b[1m8/8\u001b[0m \u001b[32m━━━━━━━━━━━━━━━━━━━━\u001b[0m\u001b[37m\u001b[0m \u001b[1m290s\u001b[0m 37s/step - accuracy: 0.9380 - loss: 0.0282 - val_accuracy: 0.9401 - val_loss: 0.0228\n",
            "Epoch 8/25\n",
            "\u001b[1m8/8\u001b[0m \u001b[32m━━━━━━━━━━━━━━━━━━━━\u001b[0m\u001b[37m\u001b[0m \u001b[1m302s\u001b[0m 34s/step - accuracy: 0.9382 - loss: 0.0249 - val_accuracy: 0.9398 - val_loss: 0.0232\n",
            "Epoch 9/25\n",
            "\u001b[1m8/8\u001b[0m \u001b[32m━━━━━━━━━━━━━━━━━━━━\u001b[0m\u001b[37m\u001b[0m \u001b[1m327s\u001b[0m 35s/step - accuracy: 0.9405 - loss: 0.0233 - val_accuracy: 0.9400 - val_loss: 0.0215\n",
            "Epoch 10/25\n",
            "\u001b[1m8/8\u001b[0m \u001b[32m━━━━━━━━━━━━━━━━━━━━\u001b[0m\u001b[37m\u001b[0m \u001b[1m319s\u001b[0m 34s/step - accuracy: 0.9369 - loss: 0.0232 - val_accuracy: 0.9406 - val_loss: 0.0209\n",
            "Epoch 11/25\n",
            "\u001b[1m8/8\u001b[0m \u001b[32m━━━━━━━━━━━━━━━━━━━━\u001b[0m\u001b[37m\u001b[0m \u001b[1m279s\u001b[0m 35s/step - accuracy: 0.9412 - loss: 0.0215 - val_accuracy: 0.9404 - val_loss: 0.0203\n",
            "Epoch 12/25\n",
            "\u001b[1m8/8\u001b[0m \u001b[32m━━━━━━━━━━━━━━━━━━━━\u001b[0m\u001b[37m\u001b[0m \u001b[1m313s\u001b[0m 34s/step - accuracy: 0.9400 - loss: 0.0215 - val_accuracy: 0.9404 - val_loss: 0.0199\n",
            "Epoch 13/25\n",
            "\u001b[1m8/8\u001b[0m \u001b[32m━━━━━━━━━━━━━━━━━━━━\u001b[0m\u001b[37m\u001b[0m \u001b[1m326s\u001b[0m 35s/step - accuracy: 0.9394 - loss: 0.0216 - val_accuracy: 0.9406 - val_loss: 0.0193\n",
            "Epoch 14/25\n",
            "\u001b[1m8/8\u001b[0m \u001b[32m━━━━━━━━━━━━━━━━━━━━\u001b[0m\u001b[37m\u001b[0m \u001b[1m317s\u001b[0m 34s/step - accuracy: 0.9334 - loss: 0.0232 - val_accuracy: 0.9407 - val_loss: 0.0190\n",
            "Epoch 15/25\n",
            "\u001b[1m8/8\u001b[0m \u001b[32m━━━━━━━━━━━━━━━━━━━━\u001b[0m\u001b[37m\u001b[0m \u001b[1m323s\u001b[0m 34s/step - accuracy: 0.9339 - loss: 0.0228 - val_accuracy: 0.9404 - val_loss: 0.0221\n",
            "Epoch 16/25\n",
            "\u001b[1m8/8\u001b[0m \u001b[32m━━━━━━━━━━━━━━━━━━━━\u001b[0m\u001b[37m\u001b[0m \u001b[1m321s\u001b[0m 34s/step - accuracy: 0.9369 - loss: 0.0238 - val_accuracy: 0.9405 - val_loss: 0.0188\n",
            "Epoch 17/25\n",
            "\u001b[1m8/8\u001b[0m \u001b[32m━━━━━━━━━━━━━━━━━━━━\u001b[0m\u001b[37m\u001b[0m \u001b[1m321s\u001b[0m 34s/step - accuracy: 0.9371 - loss: 0.0208 - val_accuracy: 0.9405 - val_loss: 0.0187\n",
            "Epoch 18/25\n",
            "\u001b[1m8/8\u001b[0m \u001b[32m━━━━━━━━━━━━━━━━━━━━\u001b[0m\u001b[37m\u001b[0m \u001b[1m321s\u001b[0m 34s/step - accuracy: 0.9383 - loss: 0.0202 - val_accuracy: 0.9409 - val_loss: 0.0187\n",
            "Epoch 19/25\n",
            "\u001b[1m8/8\u001b[0m \u001b[32m━━━━━━━━━━━━━━━━━━━━\u001b[0m\u001b[37m\u001b[0m \u001b[1m323s\u001b[0m 34s/step - accuracy: 0.9380 - loss: 0.0204 - val_accuracy: 0.9404 - val_loss: 0.0186\n",
            "Epoch 20/25\n",
            "\u001b[1m8/8\u001b[0m \u001b[32m━━━━━━━━━━━━━━━━━━━━\u001b[0m\u001b[37m\u001b[0m \u001b[1m321s\u001b[0m 34s/step - accuracy: 0.9374 - loss: 0.0196 - val_accuracy: 0.9400 - val_loss: 0.0194\n",
            "Epoch 21/25\n",
            "\u001b[1m8/8\u001b[0m \u001b[32m━━━━━━━━━━━━━━━━━━━━\u001b[0m\u001b[37m\u001b[0m \u001b[1m326s\u001b[0m 34s/step - accuracy: 0.9347 - loss: 0.0208 - val_accuracy: 0.9404 - val_loss: 0.0180\n",
            "Epoch 22/25\n",
            "\u001b[1m8/8\u001b[0m \u001b[32m━━━━━━━━━━━━━━━━━━━━\u001b[0m\u001b[37m\u001b[0m \u001b[1m320s\u001b[0m 34s/step - accuracy: 0.9431 - loss: 0.0174 - val_accuracy: 0.9409 - val_loss: 0.0175\n",
            "Epoch 23/25\n",
            "\u001b[1m8/8\u001b[0m \u001b[32m━━━━━━━━━━━━━━━━━━━━\u001b[0m\u001b[37m\u001b[0m \u001b[1m321s\u001b[0m 34s/step - accuracy: 0.9331 - loss: 0.0212 - val_accuracy: 0.9408 - val_loss: 0.0176\n",
            "Epoch 24/25\n",
            "\u001b[1m8/8\u001b[0m \u001b[32m━━━━━━━━━━━━━━━━━━━━\u001b[0m\u001b[37m\u001b[0m \u001b[1m322s\u001b[0m 34s/step - accuracy: 0.9354 - loss: 0.0203 - val_accuracy: 0.9406 - val_loss: 0.0178\n",
            "Epoch 25/25\n",
            "\u001b[1m8/8\u001b[0m \u001b[32m━━━━━━━━━━━━━━━━━━━━\u001b[0m\u001b[37m\u001b[0m \u001b[1m321s\u001b[0m 34s/step - accuracy: 0.9372 - loss: 0.0186 - val_accuracy: 0.9408 - val_loss: 0.0168\n"
          ]
        },
        {
          "output_type": "stream",
          "name": "stderr",
          "text": [
            "WARNING:absl:You are saving your model as an HDF5 file via `model.save()` or `keras.saving.save_model(model)`. This file format is considered legacy. We recommend using instead the native Keras format, e.g. `model.save('my_model.keras')` or `keras.saving.save_model(model, 'my_model.keras')`. \n"
          ]
        },
        {
          "output_type": "stream",
          "name": "stdout",
          "text": [
            "✅ U-Net Model Saved!\n"
          ]
        }
      ]
    },
    {
      "cell_type": "code",
      "source": [
        "import matplotlib.pyplot as plt\n",
        "import numpy as np\n",
        "\n",
        "# Load your saved model\n",
        "model = tf.keras.models.load_model('/content/unet_drive.h5')\n",
        "\n",
        "# Select a validation image\n",
        "sample_image = X_val_drive[0]  # Shape: (256,256,3)\n",
        "sample_mask = Y_val_drive[0]   # Ground truth\n",
        "\n",
        "# Predict\n",
        "pred = model.predict(np.expand_dims(sample_image, axis=0))[0]  # Shape: (256,256,1)\n",
        "\n",
        "# Plot\n",
        "plt.figure(figsize=(15,5))\n",
        "plt.subplot(1,3,1)\n",
        "plt.imshow(sample_image)\n",
        "plt.title(\"Original Image\")\n",
        "\n",
        "plt.subplot(1,3,2)\n",
        "plt.imshow(np.squeeze(sample_mask), cmap='gray')\n",
        "plt.title(\"Ground Truth Vessels\")\n",
        "\n",
        "plt.subplot(1,3,3)\n",
        "plt.imshow(np.squeeze(pred), cmap='gray', vmin=0, vmax=1)\n",
        "plt.title(\"Predicted Vessels\")\n",
        "plt.colorbar()\n",
        "plt.show()"
      ],
      "metadata": {
        "colab": {
          "base_uri": "https://localhost:8080/",
          "height": 470
        },
        "id": "ANYfAMfnodku",
        "outputId": "88445cf0-570f-4437-8010-7c394fe883dc"
      },
      "execution_count": 74,
      "outputs": [
        {
          "output_type": "stream",
          "name": "stderr",
          "text": [
            "WARNING:absl:Compiled the loaded model, but the compiled metrics have yet to be built. `model.compile_metrics` will be empty until you train or evaluate the model.\n"
          ]
        },
        {
          "output_type": "stream",
          "name": "stdout",
          "text": [
            "\u001b[1m1/1\u001b[0m \u001b[32m━━━━━━━━━━━━━━━━━━━━\u001b[0m\u001b[37m\u001b[0m \u001b[1m1s\u001b[0m 1s/step\n"
          ]
        },
        {
          "output_type": "display_data",
          "data": {
            "text/plain": [
              "<Figure size 1500x500 with 4 Axes>"
            ],
            "image/png": "[encoded data removed]"
          },
          "metadata": {}
        }
      ]
    },
    {
      "cell_type": "code",
      "source": [
        "# Compile and Train U-Net\n",
        "model = build_unet()\n",
        "model.compile(optimizer=\"adam\", loss=\"binary_crossentropy\", metrics=[\"accuracy\"])\n",
        "\n",
        "EPOCHS = 25\n",
        "history = model.fit(X_train_stare, Y_train_stare, validation_data=(X_val_stare, Y_val_stare), epochs=EPOCHS, batch_size=8)\n",
        "\n",
        "# Save Model\n",
        "model.save(\"/content/unet_stare.h5\")\n",
        "print(\"✅ U-Net Model Saved!\")\n"
      ],
      "metadata": {
        "colab": {
          "base_uri": "https://localhost:8080/"
        },
        "id": "sjNPkuBPmlzm",
        "outputId": "c828b825-bd5e-4106-8a0d-eb142a59abdb"
      },
      "execution_count": null,
      "outputs": [
        {
          "output_type": "stream",
          "name": "stdout",
          "text": [
            "Epoch 1/25\n"
          ]
        },
        {
          "output_type": "stream",
          "name": "stderr",
          "text": [
            "/usr/local/lib/python3.11/dist-packages/keras/src/models/functional.py:237: UserWarning: The structure of `inputs` doesn't match the expected structure.\n",
            "Expected: ['keras_tensor_112']\n",
            "Received: inputs=Tensor(shape=(8, 256, 256, 3))\n",
            "  warnings.warn(msg)\n"
          ]
        },
        {
          "output_type": "stream",
          "name": "stdout",
          "text": [
            "\u001b[1m8/8\u001b[0m \u001b[32m━━━━━━━━━━━━━━━━━━━━\u001b[0m\u001b[37m\u001b[0m \u001b[1m277s\u001b[0m 34s/step - accuracy: 0.4758 - loss: 0.5700 - val_accuracy: 0.6723 - val_loss: 0.3453\n",
            "Epoch 2/25\n",
            "\u001b[1m8/8\u001b[0m \u001b[32m━━━━━━━━━━━━━━━━━━━━\u001b[0m\u001b[37m\u001b[0m \u001b[1m267s\u001b[0m 34s/step - accuracy: 0.7012 - loss: 0.3151 - val_accuracy: 0.6723 - val_loss: 0.2584\n",
            "Epoch 3/25\n",
            "\u001b[1m8/8\u001b[0m \u001b[32m━━━━━━━━━━━━━━━━━━━━\u001b[0m\u001b[37m\u001b[0m \u001b[1m323s\u001b[0m 34s/step - accuracy: 0.6993 - loss: 0.2550 - val_accuracy: 0.6723 - val_loss: 0.2493\n",
            "Epoch 4/25\n",
            "\u001b[1m8/8\u001b[0m \u001b[32m━━━━━━━━━━━━━━━━━━━━\u001b[0m\u001b[37m\u001b[0m \u001b[1m322s\u001b[0m 34s/step - accuracy: 0.6897 - loss: 0.2467 - val_accuracy: 0.6723 - val_loss: 0.2478\n",
            "Epoch 5/25\n",
            "\u001b[1m8/8\u001b[0m \u001b[32m━━━━━━━━━━━━━━━━━━━━\u001b[0m\u001b[37m\u001b[0m \u001b[1m322s\u001b[0m 34s/step - accuracy: 0.6880 - loss: 0.2408 - val_accuracy: 0.6723 - val_loss: 0.2476\n",
            "Epoch 6/25\n",
            "\u001b[1m8/8\u001b[0m \u001b[32m━━━━━━━━━━━━━━━━━━━━\u001b[0m\u001b[37m\u001b[0m \u001b[1m325s\u001b[0m 34s/step - accuracy: 0.6773 - loss: 0.2451 - val_accuracy: 0.6723 - val_loss: 0.2437\n",
            "Epoch 7/25\n",
            "\u001b[1m8/8\u001b[0m \u001b[32m━━━━━━━━━━━━━━━━━━━━\u001b[0m\u001b[37m\u001b[0m \u001b[1m321s\u001b[0m 34s/step - accuracy: 0.6948 - loss: 0.2383 - val_accuracy: 0.6723 - val_loss: 0.2431\n",
            "Epoch 8/25\n",
            "\u001b[1m8/8\u001b[0m \u001b[32m━━━━━━━━━━━━━━━━━━━━\u001b[0m\u001b[37m\u001b[0m \u001b[1m341s\u001b[0m 36s/step - accuracy: 0.6718 - loss: 0.2403 - val_accuracy: 0.6723 - val_loss: 0.2422\n",
            "Epoch 9/25\n",
            "\u001b[1m8/8\u001b[0m \u001b[32m━━━━━━━━━━━━━━━━━━━━\u001b[0m\u001b[37m\u001b[0m \u001b[1m275s\u001b[0m 35s/step - accuracy: 0.6771 - loss: 0.2392 - val_accuracy: 0.6723 - val_loss: 0.2432\n",
            "Epoch 10/25\n",
            "\u001b[1m8/8\u001b[0m \u001b[32m━━━━━━━━━━━━━━━━━━━━\u001b[0m\u001b[37m\u001b[0m \u001b[1m314s\u001b[0m 34s/step - accuracy: 0.6906 - loss: 0.2427 - val_accuracy: 0.6723 - val_loss: 0.2406\n",
            "Epoch 11/25\n",
            "\u001b[1m8/8\u001b[0m \u001b[32m━━━━━━━━━━━━━━━━━━━━\u001b[0m\u001b[37m\u001b[0m \u001b[1m323s\u001b[0m 34s/step - accuracy: 0.7008 - loss: 0.2387 - val_accuracy: 0.6723 - val_loss: 0.2405\n",
            "Epoch 12/25\n",
            "\u001b[1m8/8\u001b[0m \u001b[32m━━━━━━━━━━━━━━━━━━━━\u001b[0m\u001b[37m\u001b[0m \u001b[1m321s\u001b[0m 34s/step - accuracy: 0.6712 - loss: 0.2385 - val_accuracy: 0.6723 - val_loss: 0.2397\n",
            "Epoch 13/25\n",
            "\u001b[1m8/8\u001b[0m \u001b[32m━━━━━━━━━━━━━━━━━━━━\u001b[0m\u001b[37m\u001b[0m \u001b[1m323s\u001b[0m 34s/step - accuracy: 0.6940 - loss: 0.2359 - val_accuracy: 0.6723 - val_loss: 0.2402\n",
            "Epoch 14/25\n",
            "\u001b[1m8/8\u001b[0m \u001b[32m━━━━━━━━━━━━━━━━━━━━\u001b[0m\u001b[37m\u001b[0m \u001b[1m265s\u001b[0m 33s/step - accuracy: 0.6799 - loss: 0.2364 - val_accuracy: 0.6723 - val_loss: 0.2380\n",
            "Epoch 15/25\n",
            "\u001b[1m8/8\u001b[0m \u001b[32m━━━━━━━━━━━━━━━━━━━━\u001b[0m\u001b[37m\u001b[0m \u001b[1m325s\u001b[0m 34s/step - accuracy: 0.6889 - loss: 0.2344 - val_accuracy: 0.6723 - val_loss: 0.2356\n",
            "Epoch 16/25\n",
            "\u001b[1m8/8\u001b[0m \u001b[32m━━━━━━━━━━━━━━━━━━━━\u001b[0m\u001b[37m\u001b[0m \u001b[1m322s\u001b[0m 34s/step - accuracy: 0.6935 - loss: 0.2321 - val_accuracy: 0.6723 - val_loss: 0.2304\n",
            "Epoch 17/25\n",
            "\u001b[1m8/8\u001b[0m \u001b[32m━━━━━━━━━━━━━━━━━━━━\u001b[0m\u001b[37m\u001b[0m \u001b[1m321s\u001b[0m 34s/step - accuracy: 0.6952 - loss: 0.2265 - val_accuracy: 0.6723 - val_loss: 0.2259\n",
            "Epoch 18/25\n",
            "\u001b[1m8/8\u001b[0m \u001b[32m━━━━━━━━━━━━━━━━━━━━\u001b[0m\u001b[37m\u001b[0m \u001b[1m268s\u001b[0m 34s/step - accuracy: 0.7091 - loss: 0.2237 - val_accuracy: 0.6723 - val_loss: 0.2244\n",
            "Epoch 19/25\n",
            "\u001b[1m8/8\u001b[0m \u001b[32m━━━━━━━━━━━━━━━━━━━━\u001b[0m\u001b[37m\u001b[0m \u001b[1m321s\u001b[0m 34s/step - accuracy: 0.6891 - loss: 0.2167 - val_accuracy: 0.6734 - val_loss: 0.2085\n",
            "Epoch 20/25\n",
            "\u001b[1m8/8\u001b[0m \u001b[32m━━━━━━━━━━━━━━━━━━━━\u001b[0m\u001b[37m\u001b[0m \u001b[1m266s\u001b[0m 34s/step - accuracy: 0.6853 - loss: 0.2152 - val_accuracy: 0.6736 - val_loss: 0.2026\n",
            "Epoch 21/25\n",
            "\u001b[1m8/8\u001b[0m \u001b[32m━━━━━━━━━━━━━━━━━━━━\u001b[0m\u001b[37m\u001b[0m \u001b[1m266s\u001b[0m 34s/step - accuracy: 0.6784 - loss: 0.2022 - val_accuracy: 0.6732 - val_loss: 0.1904\n",
            "Epoch 22/25\n",
            "\u001b[1m8/8\u001b[0m \u001b[32m━━━━━━━━━━━━━━━━━━━━\u001b[0m\u001b[37m\u001b[0m \u001b[1m325s\u001b[0m 34s/step - accuracy: 0.6906 - loss: 0.2003 - val_accuracy: 0.6751 - val_loss: 0.1896\n",
            "Epoch 23/25\n",
            "\u001b[1m8/8\u001b[0m \u001b[32m━━━━━━━━━━━━━━━━━━━━\u001b[0m\u001b[37m\u001b[0m \u001b[1m324s\u001b[0m 34s/step - accuracy: 0.6783 - loss: 0.1962 - val_accuracy: 0.6724 - val_loss: 0.1907\n",
            "Epoch 24/25\n",
            "\u001b[1m4/8\u001b[0m \u001b[32m━━━━━━━━━━\u001b[0m\u001b[37m━━━━━━━━━━\u001b[0m \u001b[1m2:02\u001b[0m 31s/step - accuracy: 0.6776 - loss: 0.1892"
          ]
        }
      ]
    }
  ]
}