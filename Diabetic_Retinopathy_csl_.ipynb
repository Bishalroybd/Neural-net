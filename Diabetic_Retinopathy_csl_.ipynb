{
  "nbformat": 4,
  "nbformat_minor": 0,
  "metadata": {
    "colab": {
      "provenance": [],
      "collapsed_sections": [
        "Cr5GvcLQgUd7",
        "vFdyMT0bgfMs",
        "hU9--gFFguh4",
        "JE3TEbXigzWp",
        "mfQ3r8Nqal8J",
        "esd6HInCayb5",
        "jJcLKpYVfx3_",
        "4BMPkUrG5Xq8",
        "qsbv4CuX9bGS",
        "RiIJmDoh-f2w",
        "FMmnTWlO_RXK",
        "4QLu-62I_fYj"
      ],
      "mount_file_id": "1ra6pFbNRRoZKStZ4dxbfVo_EVGVZlQXx",
      "authorship_tag": "ABX9TyOZ0gVV9Gnf4xEHNX8OsVBK",
      "include_colab_link": true
    },
    "kernelspec": {
      "name": "python3",
      "display_name": "Python 3"
    },
    "language_info": {
      "name": "python"
    }
  },
  "cells": [
    {
      "cell_type": "markdown",
      "metadata": {
        "id": "view-in-github",
        "colab_type": "text"
      },
      "source": [
        "<a href=\"https://colab.research.google.com/github/Bishalroybd/Neural-net/blob/main/Diabetic_Retinopathy_csl_.ipynb\" target=\"_parent\"><img src=\"https://colab.research.google.com/assets/colab-badge.svg\" alt=\"Open In Colab\"/></a>"
      ]
    },
    {
      "cell_type": "code",
      "execution_count": null,
      "metadata": {
        "id": "B09D44dFpAgH"
      },
      "outputs": [],
      "source": [
        "import pandas as pd\n",
        "import numpy as np\n",
        "import matplotlib.pyplot as plt\n",
        "import os, shutil\n",
        "import cv2\n",
        "import matplotlib.image as mpimg\n",
        "import seaborn as sns\n",
        "%matplotlib inline\n",
        "plt.style.use('ggplot')"
      ]
    },
    {
      "cell_type": "code",
      "source": [
        "! pip install kaggle"
      ],
      "metadata": {
        "colab": {
          "base_uri": "https://localhost:8080/"
        },
        "id": "q_ih_afyp8IQ",
        "outputId": "f32b84e3-2777-409d-ce2a-eb398cc22cd2"
      },
      "execution_count": null,
      "outputs": [
        {
          "output_type": "stream",
          "name": "stdout",
          "text": [
            "Requirement already satisfied: kaggle in /usr/local/lib/python3.11/dist-packages (1.7.4.2)\n",
            "Requirement already satisfied: bleach in /usr/local/lib/python3.11/dist-packages (from kaggle) (6.2.0)\n",
            "Requirement already satisfied: certifi>=14.05.14 in /usr/local/lib/python3.11/dist-packages (from kaggle) (2025.1.31)\n",
            "Requirement already satisfied: charset-normalizer in /usr/local/lib/python3.11/dist-packages (from kaggle) (3.4.1)\n",
            "Requirement already satisfied: idna in /usr/local/lib/python3.11/dist-packages (from kaggle) (3.10)\n",
            "Requirement already satisfied: protobuf in /usr/local/lib/python3.11/dist-packages (from kaggle) (5.29.4)\n",
            "Requirement already satisfied: python-dateutil>=2.5.3 in /usr/local/lib/python3.11/dist-packages (from kaggle) (2.8.2)\n",
            "Requirement already satisfied: python-slugify in /usr/local/lib/python3.11/dist-packages (from kaggle) (8.0.4)\n",
            "Requirement already satisfied: requests in /usr/local/lib/python3.11/dist-packages (from kaggle) (2.32.3)\n",
            "Requirement already satisfied: setuptools>=21.0.0 in /usr/local/lib/python3.11/dist-packages (from kaggle) (75.1.0)\n",
            "Requirement already satisfied: six>=1.10 in /usr/local/lib/python3.11/dist-packages (from kaggle) (1.17.0)\n",
            "Requirement already satisfied: text-unidecode in /usr/local/lib/python3.11/dist-packages (from kaggle) (1.3)\n",
            "Requirement already satisfied: tqdm in /usr/local/lib/python3.11/dist-packages (from kaggle) (4.67.1)\n",
            "Requirement already satisfied: urllib3>=1.15.1 in /usr/local/lib/python3.11/dist-packages (from kaggle) (2.3.0)\n",
            "Requirement already satisfied: webencodings in /usr/local/lib/python3.11/dist-packages (from kaggle) (0.5.1)\n"
          ]
        }
      ]
    },
    {
      "cell_type": "code",
      "source": [
        "from google.colab import drive\n",
        "drive.mount('/content/drive')"
      ],
      "metadata": {
        "colab": {
          "base_uri": "https://localhost:8080/"
        },
        "id": "hMfo4f9jqAgZ",
        "outputId": "b7676330-0d87-44fe-e6aa-646b925cfbb6"
      },
      "execution_count": null,
      "outputs": [
        {
          "output_type": "stream",
          "name": "stdout",
          "text": [
            "Drive already mounted at /content/drive; to attempt to forcibly remount, call drive.mount(\"/content/drive\", force_remount=True).\n"
          ]
        }
      ]
    },
    {
      "cell_type": "code",
      "source": [
        "! mkdir ~/.kaggle"
      ],
      "metadata": {
        "id": "G4SwgbbjqIrB"
      },
      "execution_count": null,
      "outputs": []
    },
    {
      "cell_type": "code",
      "source": [
        "! cp /content/drive/MyDrive/kaggle.json ~/.kaggle/kaggle.json"
      ],
      "metadata": {
        "id": "voEiS07oqxbp"
      },
      "execution_count": null,
      "outputs": []
    },
    {
      "cell_type": "code",
      "source": [
        "! chmod 600 ~/.kaggle/kaggle.json"
      ],
      "metadata": {
        "id": "NlVAfD1rq1eR"
      },
      "execution_count": null,
      "outputs": []
    },
    {
      "cell_type": "markdown",
      "source": [
        "# APTOS DOWNLOAD\n"
      ],
      "metadata": {
        "id": "Cr5GvcLQgUd7"
      }
    },
    {
      "cell_type": "code",
      "source": [
        "! kaggle datasets download sovitrath/diabetic-retinopathy-224x224-gaussian-filtered"
      ],
      "metadata": {
        "colab": {
          "base_uri": "https://localhost:8080/"
        },
        "id": "6PvHhQ-cq6Lt",
        "outputId": "6e6a63c3-9953-4d8c-9fe8-ea7406518b53"
      },
      "execution_count": null,
      "outputs": [
        {
          "output_type": "stream",
          "name": "stdout",
          "text": [
            "Dataset URL: https://www.kaggle.com/datasets/sovitrath/diabetic-retinopathy-224x224-gaussian-filtered\n",
            "License(s): CC0-1.0\n"
          ]
        }
      ]
    },
    {
      "cell_type": "code",
      "source": [
        "import zipfile\n",
        "import os\n",
        "\n",
        "# 1. Create the 'APTOS' folder if it doesn't exist\n",
        "aptos_folder = '/content/APTOS'  # Define the path for the new folder\n",
        "os.makedirs(aptos_folder, exist_ok=True)  # Create the folder\n",
        "\n",
        "# 2. Define the path to the zip file\n",
        "zip_file_path = '/content/diabetic-retinopathy-224x224-gaussian-filtered.zip'\n",
        "\n",
        "# 3. Create a ZipFile object\n",
        "with zipfile.ZipFile(zip_file_path, 'r') as zip_ref:\n",
        "    # 4. Extract all contents to the 'APTOS' folder\n",
        "    zip_ref.extractall(aptos_folder)\n",
        "\n",
        "print(f\"Files extracted to: {aptos_folder}\")"
      ],
      "metadata": {
        "colab": {
          "base_uri": "https://localhost:8080/"
        },
        "id": "xzWm93jiOFyN",
        "outputId": "9a996709-b3aa-4b35-c95b-a0cb4eaced4e"
      },
      "execution_count": null,
      "outputs": [
        {
          "output_type": "stream",
          "name": "stdout",
          "text": [
            "Files extracted to: /content/APTOS\n"
          ]
        }
      ]
    },
    {
      "cell_type": "code",
      "source": [
        "import os\n",
        "\n",
        "def list_folders(path):\n",
        "  for root, dirs, files in os.walk(path):\n",
        "    for dir_name in dirs:\n",
        "      if not any(dir_name.lower().endswith(ext) for ext in ['.png', '.jpg']):\n",
        "        print(os.path.join(root, dir_name))\n",
        "\n",
        "list_folders('/content/APTOS')\n"
      ],
      "metadata": {
        "colab": {
          "base_uri": "https://localhost:8080/"
        },
        "id": "zskOVY5MWaf7",
        "outputId": "2eb16538-bc15-4f55-fb6a-4152c9611c50"
      },
      "execution_count": null,
      "outputs": [
        {
          "output_type": "stream",
          "name": "stdout",
          "text": [
            "/content/APTOS/gaussian_filtered_images\n",
            "/content/APTOS/gaussian_filtered_images/gaussian_filtered_images\n",
            "/content/APTOS/gaussian_filtered_images/gaussian_filtered_images/Proliferate_DR\n",
            "/content/APTOS/gaussian_filtered_images/gaussian_filtered_images/Severe\n",
            "/content/APTOS/gaussian_filtered_images/gaussian_filtered_images/Mild\n",
            "/content/APTOS/gaussian_filtered_images/gaussian_filtered_images/No_DR\n",
            "/content/APTOS/gaussian_filtered_images/gaussian_filtered_images/Moderate\n"
          ]
        }
      ]
    },
    {
      "cell_type": "code",
      "source": [
        "import os\n",
        "\n",
        "def count_images(directory):\n",
        "  \"\"\"Counts the number of image files in a given directory and its subdirectories.\n",
        "\n",
        "  Args:\n",
        "    directory: The path to the directory to search.\n",
        "\n",
        "  Returns:\n",
        "    The total number of image files found.\n",
        "  \"\"\"\n",
        "  image_extensions = ('.jpg', '.jpeg', '.png', '.gif', '.bmp')  # Add more if needed\n",
        "  image_count = 0\n",
        "  for root, _, files in os.walk(directory):\n",
        "    for file in files:\n",
        "      if file.lower().endswith(image_extensions):\n",
        "        image_count += 1\n",
        "  return image_count\n",
        "\n",
        "# Example usage (assuming your images are in /content/APTOS):\n",
        "aptos_image_count = count_images('/content/APTOS')\n",
        "print(f\"Total number of images found in /content/APTOS: {aptos_image_count}\")\n"
      ],
      "metadata": {
        "colab": {
          "base_uri": "https://localhost:8080/"
        },
        "id": "eTGICGWqH5ug",
        "outputId": "0f500561-ab69-49ca-cb9e-aad7b268cc30"
      },
      "execution_count": null,
      "outputs": [
        {
          "output_type": "stream",
          "name": "stdout",
          "text": [
            "Total number of images found in /content/APTOS: 3662\n"
          ]
        }
      ]
    },
    {
      "cell_type": "markdown",
      "source": [
        "# IDRID DOWNLOAD"
      ],
      "metadata": {
        "id": "vFdyMT0bgfMs"
      }
    },
    {
      "cell_type": "code",
      "source": [
        "! kaggle datasets download aaryapatel98/indian-diabetic-retinopathy-image-dataset"
      ],
      "metadata": {
        "colab": {
          "base_uri": "https://localhost:8080/"
        },
        "id": "3aLTbQj9uWJS",
        "outputId": "95f7c1ca-d3ee-4ec0-aa8a-25faa60ff1bf"
      },
      "execution_count": null,
      "outputs": [
        {
          "output_type": "stream",
          "name": "stdout",
          "text": [
            "Dataset URL: https://www.kaggle.com/datasets/aaryapatel98/indian-diabetic-retinopathy-image-dataset\n",
            "License(s): Attribution 4.0 International (CC BY 4.0)\n"
          ]
        }
      ]
    },
    {
      "cell_type": "code",
      "source": [
        "import zipfile\n",
        "import os\n",
        "\n",
        "# 1. Create the IDRID folder if it doesn't exist\n",
        "idrid_folder = '/content/IDRID'\n",
        "os.makedirs(idrid_folder, exist_ok=True)\n",
        "\n",
        "# 2. Define the path to the zip file\n",
        "zip_file_path = '/content/indian-diabetic-retinopathy-image-dataset.zip'\n",
        "\n",
        "# 3. Create a ZipFile object\n",
        "with zipfile.ZipFile(zip_file_path, 'r') as zip_ref:\n",
        "    # 4. Extract all contents to the IDRID folder\n",
        "    zip_ref.extractall(idrid_folder)\n",
        "\n",
        "print(f\"Files extracted to: {idrid_folder}\")"
      ],
      "metadata": {
        "colab": {
          "base_uri": "https://localhost:8080/"
        },
        "id": "cW2yFZcdTkU7",
        "outputId": "d71a37e2-77bd-43f6-85e8-b2f654bec95c"
      },
      "execution_count": null,
      "outputs": [
        {
          "output_type": "stream",
          "name": "stdout",
          "text": [
            "Files extracted to: /content/IDRID\n"
          ]
        }
      ]
    },
    {
      "cell_type": "code",
      "source": [
        "# IDRID\n",
        "import os\n",
        "\n",
        "IDRID_dir = \"/content/IDRID\"\n",
        "\n",
        "print(\"Files in IDRID directory:\", os.listdir(IDRID_dir))\n"
      ],
      "metadata": {
        "colab": {
          "base_uri": "https://localhost:8080/"
        },
        "id": "UIMjKTNBM7Sz",
        "outputId": "567f0897-88da-4d58-c9be-fd53240c63c3"
      },
      "execution_count": null,
      "outputs": [
        {
          "output_type": "stream",
          "name": "stdout",
          "text": [
            "Files in IDRID directory: ['A.%20Segmentation', 'B.%20Disease%20Grading', 'C.%20Localization']\n"
          ]
        }
      ]
    },
    {
      "cell_type": "code",
      "source": [
        "def list_folders(path):\n",
        "  for root, dirs, files in os.walk(path):\n",
        "    for dir_name in dirs:\n",
        "      if not any(dir_name.lower().endswith(ext) for ext in ['.png', '.jpg']):\n",
        "        print(os.path.join(root, dir_name))\n",
        "\n",
        "list_folders('/content/IDRID')\n"
      ],
      "metadata": {
        "colab": {
          "base_uri": "https://localhost:8080/"
        },
        "id": "ZNYX_MqrXiBD",
        "outputId": "1e8f5e86-7189-4f3c-8989-e57063b70a8f"
      },
      "execution_count": null,
      "outputs": [
        {
          "output_type": "stream",
          "name": "stdout",
          "text": [
            "/content/IDRID/A.%20Segmentation\n",
            "/content/IDRID/B.%20Disease%20Grading\n",
            "/content/IDRID/C.%20Localization\n",
            "/content/IDRID/A.%20Segmentation/A. Segmentation\n",
            "/content/IDRID/A.%20Segmentation/A. Segmentation/2. All Segmentation Groundtruths\n",
            "/content/IDRID/A.%20Segmentation/A. Segmentation/1. Original Images\n",
            "/content/IDRID/A.%20Segmentation/A. Segmentation/2. All Segmentation Groundtruths/a. Training Set\n",
            "/content/IDRID/A.%20Segmentation/A. Segmentation/2. All Segmentation Groundtruths/b. Testing Set\n",
            "/content/IDRID/A.%20Segmentation/A. Segmentation/2. All Segmentation Groundtruths/a. Training Set/2. Haemorrhages\n",
            "/content/IDRID/A.%20Segmentation/A. Segmentation/2. All Segmentation Groundtruths/a. Training Set/1. Microaneurysms\n",
            "/content/IDRID/A.%20Segmentation/A. Segmentation/2. All Segmentation Groundtruths/a. Training Set/3. Hard Exudates\n",
            "/content/IDRID/A.%20Segmentation/A. Segmentation/2. All Segmentation Groundtruths/a. Training Set/4. Soft Exudates\n",
            "/content/IDRID/A.%20Segmentation/A. Segmentation/2. All Segmentation Groundtruths/a. Training Set/5. Optic Disc\n",
            "/content/IDRID/A.%20Segmentation/A. Segmentation/2. All Segmentation Groundtruths/b. Testing Set/2. Haemorrhages\n",
            "/content/IDRID/A.%20Segmentation/A. Segmentation/2. All Segmentation Groundtruths/b. Testing Set/1. Microaneurysms\n",
            "/content/IDRID/A.%20Segmentation/A. Segmentation/2. All Segmentation Groundtruths/b. Testing Set/3. Hard Exudates\n",
            "/content/IDRID/A.%20Segmentation/A. Segmentation/2. All Segmentation Groundtruths/b. Testing Set/4. Soft Exudates\n",
            "/content/IDRID/A.%20Segmentation/A. Segmentation/2. All Segmentation Groundtruths/b. Testing Set/5. Optic Disc\n",
            "/content/IDRID/A.%20Segmentation/A. Segmentation/1. Original Images/a. Training Set\n",
            "/content/IDRID/A.%20Segmentation/A. Segmentation/1. Original Images/b. Testing Set\n",
            "/content/IDRID/B.%20Disease%20Grading/B. Disease Grading\n",
            "/content/IDRID/B.%20Disease%20Grading/B. Disease Grading/2. Groundtruths\n",
            "/content/IDRID/B.%20Disease%20Grading/B. Disease Grading/1. Original Images\n",
            "/content/IDRID/B.%20Disease%20Grading/B. Disease Grading/1. Original Images/a. Training Set\n",
            "/content/IDRID/B.%20Disease%20Grading/B. Disease Grading/1. Original Images/b. Testing Set\n",
            "/content/IDRID/C.%20Localization/C. Localization\n",
            "/content/IDRID/C.%20Localization/C. Localization/2. Groundtruths\n",
            "/content/IDRID/C.%20Localization/C. Localization/1. Original Images\n",
            "/content/IDRID/C.%20Localization/C. Localization/2. Groundtruths/1. Optic Disc Center Location\n",
            "/content/IDRID/C.%20Localization/C. Localization/2. Groundtruths/2. Fovea Center Location\n",
            "/content/IDRID/C.%20Localization/C. Localization/1. Original Images/a. Training Set\n",
            "/content/IDRID/C.%20Localization/C. Localization/1. Original Images/b. Testing Set\n"
          ]
        }
      ]
    },
    {
      "cell_type": "code",
      "source": [
        "import os\n",
        "\n",
        "def count_images_per_folder(root_dir):\n",
        "  \"\"\"Counts images in each subfolder and provides a total count.\n",
        "  \"\"\"\n",
        "  total_images = 0\n",
        "  for dirpath, dirnames, filenames in os.walk(root_dir):\n",
        "    image_count = sum(1 for f in filenames if f.lower().endswith(('.png', '.jpg', '.jpeg', '.gif', '.bmp')))\n",
        "    if image_count > 0:\n",
        "      print(f\"Folder: {dirpath}, Image Count: {image_count}\")\n",
        "      total_images += image_count\n",
        "  print(f\"\\nTotal images in {root_dir}: {total_images}\")\n",
        "\n",
        "# Example usage for APTOS dataset\n",
        "count_images_per_folder('/content/APTOS')\n",
        "\n",
        "# Example usage for IDRID dataset\n",
        "count_images_per_folder('/content/IDRID')\n"
      ],
      "metadata": {
        "colab": {
          "base_uri": "https://localhost:8080/"
        },
        "id": "FkybuFxqIBQy",
        "outputId": "f82b6352-b02d-4cae-ef9d-1946f1bbb7cb"
      },
      "execution_count": null,
      "outputs": [
        {
          "output_type": "stream",
          "name": "stdout",
          "text": [
            "Folder: /content/APTOS/gaussian_filtered_images/gaussian_filtered_images/Proliferate_DR, Image Count: 295\n",
            "Folder: /content/APTOS/gaussian_filtered_images/gaussian_filtered_images/Severe, Image Count: 193\n",
            "Folder: /content/APTOS/gaussian_filtered_images/gaussian_filtered_images/Mild, Image Count: 370\n",
            "Folder: /content/APTOS/gaussian_filtered_images/gaussian_filtered_images/No_DR, Image Count: 1805\n",
            "Folder: /content/APTOS/gaussian_filtered_images/gaussian_filtered_images/Moderate, Image Count: 999\n",
            "\n",
            "Total images in /content/APTOS: 3662\n",
            "Folder: /content/IDRID/A.%20Segmentation/A. Segmentation/1. Original Images/a. Training Set, Image Count: 54\n",
            "Folder: /content/IDRID/A.%20Segmentation/A. Segmentation/1. Original Images/b. Testing Set, Image Count: 27\n",
            "Folder: /content/IDRID/B.%20Disease%20Grading/B. Disease Grading/1. Original Images/a. Training Set, Image Count: 413\n",
            "Folder: /content/IDRID/B.%20Disease%20Grading/B. Disease Grading/1. Original Images/b. Testing Set, Image Count: 103\n",
            "Folder: /content/IDRID/C.%20Localization/C. Localization/1. Original Images/a. Training Set, Image Count: 413\n",
            "Folder: /content/IDRID/C.%20Localization/C. Localization/1. Original Images/b. Testing Set, Image Count: 103\n",
            "\n",
            "Total images in /content/IDRID: 1113\n"
          ]
        }
      ]
    },
    {
      "cell_type": "markdown",
      "source": [
        "# DRIVE DOWNLOAD"
      ],
      "metadata": {
        "id": "hU9--gFFguh4"
      }
    },
    {
      "cell_type": "code",
      "source": [
        "! kaggle datasets download andrewmvd/drive-digital-retinal-images-for-vessel-extraction"
      ],
      "metadata": {
        "colab": {
          "base_uri": "https://localhost:8080/"
        },
        "id": "NJHZfgDgsx7C",
        "outputId": "7e308893-26a5-4f66-bd2d-1a3ad3dcad3e"
      },
      "execution_count": null,
      "outputs": [
        {
          "output_type": "stream",
          "name": "stdout",
          "text": [
            "Dataset URL: https://www.kaggle.com/datasets/andrewmvd/drive-digital-retinal-images-for-vessel-extraction\n",
            "License(s): other\n"
          ]
        }
      ]
    },
    {
      "cell_type": "code",
      "source": [
        "# Dataset\n",
        "import zipfile\n",
        "\n",
        "z = zipfile.ZipFile('/content/drive-digital-retinal-images-for-vessel-extraction.zip')\n",
        "\n",
        "z.extractall()"
      ],
      "metadata": {
        "id": "9SekZdPbtPdR"
      },
      "execution_count": null,
      "outputs": []
    },
    {
      "cell_type": "code",
      "source": [
        "# DRIVE\n",
        "import os\n",
        "\n",
        "DRIVE_dir = \"/content/DRIVE\"\n",
        "\n",
        "print(\"Files in DRIVE:\", os.listdir(DRIVE_dir))"
      ],
      "metadata": {
        "colab": {
          "base_uri": "https://localhost:8080/"
        },
        "id": "RnP2vKDeO8kl",
        "outputId": "3f31c8a4-937a-4f38-946e-299f8079c11c"
      },
      "execution_count": null,
      "outputs": [
        {
          "output_type": "stream",
          "name": "stdout",
          "text": [
            "Files in DRIVE: ['training', 'test']\n"
          ]
        }
      ]
    },
    {
      "cell_type": "code",
      "source": [
        "def list_folders(path):\n",
        "  for root, dirs, files in os.walk(path):\n",
        "    for dir_name in dirs:\n",
        "      if not any(dir_name.lower().endswith(ext) for ext in ['.png', '.jpg']):\n",
        "        print(os.path.join(root, dir_name))\n",
        "\n",
        "list_folders('/content/DRIVE')\n"
      ],
      "metadata": {
        "colab": {
          "base_uri": "https://localhost:8080/"
        },
        "id": "xAdIR-C1XLnz",
        "outputId": "bd0c2b9a-5af3-44d6-9966-1a8fc6bc42ce"
      },
      "execution_count": null,
      "outputs": [
        {
          "output_type": "stream",
          "name": "stdout",
          "text": [
            "/content/DRIVE/training\n",
            "/content/DRIVE/test\n",
            "/content/DRIVE/training/1st_manual\n",
            "/content/DRIVE/training/mask\n",
            "/content/DRIVE/training/images\n",
            "/content/DRIVE/test/mask\n",
            "/content/DRIVE/test/images\n"
          ]
        }
      ]
    },
    {
      "cell_type": "markdown",
      "source": [
        "# STARE DOWNLOAD"
      ],
      "metadata": {
        "id": "JE3TEbXigzWp"
      }
    },
    {
      "cell_type": "code",
      "source": [
        "!mkdir -p /content/STARE\n"
      ],
      "metadata": {
        "id": "AIEGHvwHpwq5"
      },
      "execution_count": null,
      "outputs": []
    },
    {
      "cell_type": "code",
      "source": [
        "import os\n",
        "\n",
        "# Create subfolders\n",
        "os.makedirs(\"/content/STARE/images\", exist_ok=True)\n",
        "os.makedirs(\"/content/STARE/labels_ah\", exist_ok=True)\n",
        "os.makedirs(\"/content/STARE/labels_vk\", exist_ok=True)\n",
        "\n",
        "# Extract files into subfolders\n",
        "!tar -xvf \"/content/drive/MyDrive/Stare /stare-images.tar\" -C \"/content/STARE/images\"\n",
        "!tar -xvf \"/content/drive/MyDrive/Stare /labels-ah.tar\" -C \"/content/STARE/labels_ah\"\n",
        "!tar -xvf \"/content/drive/MyDrive/Stare /labels-vk.tar\" -C \"/content/STARE/labels_vk\""
      ],
      "metadata": {
        "colab": {
          "base_uri": "https://localhost:8080/"
        },
        "id": "JONDAK4CaXbb",
        "outputId": "6191a13f-9837-4fac-d68d-69c53796c523"
      },
      "execution_count": null,
      "outputs": [
        {
          "output_type": "stream",
          "name": "stdout",
          "text": [
            "im0001.ppm.gz\n",
            "im0002.ppm.gz\n",
            "im0003.ppm.gz\n",
            "im0004.ppm.gz\n",
            "im0005.ppm.gz\n",
            "im0044.ppm.gz\n",
            "im0077.ppm.gz\n",
            "im0081.ppm.gz\n",
            "im0082.ppm.gz\n",
            "im0139.ppm.gz\n",
            "im0162.ppm.gz\n",
            "im0163.ppm.gz\n",
            "im0235.ppm.gz\n",
            "im0236.ppm.gz\n",
            "im0239.ppm.gz\n",
            "im0240.ppm.gz\n",
            "im0255.ppm.gz\n",
            "im0291.ppm.gz\n",
            "im0319.ppm.gz\n",
            "im0324.ppm.gz\n",
            "im0001.ah.ppm.gz\n",
            "im0002.ah.ppm.gz\n",
            "im0003.ah.ppm.gz\n",
            "im0004.ah.ppm.gz\n",
            "im0005.ah.ppm.gz\n",
            "im0044.ah.ppm.gz\n",
            "im0077.ah.ppm.gz\n",
            "im0081.ah.ppm.gz\n",
            "im0082.ah.ppm.gz\n",
            "im0139.ah.ppm.gz\n",
            "im0162.ah.ppm.gz\n",
            "im0163.ah.ppm.gz\n",
            "im0235.ah.ppm.gz\n",
            "im0236.ah.ppm.gz\n",
            "im0239.ah.ppm.gz\n",
            "im0240.ah.ppm.gz\n",
            "im0255.ah.ppm.gz\n",
            "im0291.ah.ppm.gz\n",
            "im0319.ah.ppm.gz\n",
            "im0324.ah.ppm.gz\n",
            "im0001.vk.ppm.gz\n",
            "im0002.vk.ppm.gz\n",
            "im0003.vk.ppm.gz\n",
            "im0004.vk.ppm.gz\n",
            "im0005.vk.ppm.gz\n",
            "im0044.vk.ppm.gz\n",
            "im0077.vk.ppm.gz\n",
            "im0081.vk.ppm.gz\n",
            "im0082.vk.ppm.gz\n",
            "im0139.vk.ppm.gz\n",
            "im0162.vk.ppm.gz\n",
            "im0163.vk.ppm.gz\n",
            "im0235.vk.ppm.gz\n",
            "im0236.vk.ppm.gz\n",
            "im0239.vk.ppm.gz\n",
            "im0240.vk.ppm.gz\n",
            "im0255.vk.ppm.gz\n",
            "im0291.vk.ppm.gz\n",
            "im0319.vk.ppm.gz\n",
            "im0324.vk.ppm.gz\n"
          ]
        }
      ]
    },
    {
      "cell_type": "code",
      "source": [
        "import os\n",
        "print(\"Extracted Files in STARE Directory:\", os.listdir(\"/content/STARE\"))\n"
      ],
      "metadata": {
        "colab": {
          "base_uri": "https://localhost:8080/"
        },
        "id": "HbTpAOK0qN6H",
        "outputId": "cf2e63da-f8f0-4380-d085-82df93a25cbe"
      },
      "execution_count": null,
      "outputs": [
        {
          "output_type": "stream",
          "name": "stdout",
          "text": [
            "Extracted Files in STARE Directory: ['labels_vk', 'labels_ah', 'images']\n"
          ]
        }
      ]
    },
    {
      "cell_type": "code",
      "source": [
        "import os\n",
        "import gzip\n",
        "import shutil\n",
        "from glob import glob\n",
        "\n",
        "STARE_RAW_PATH = \"/content/STARE\"\n",
        "\n",
        "def extract_gz_files(input_dir):\n",
        "    \"\"\"Extracts all .ppm.gz files in a directory.\"\"\"\n",
        "    for file_path in glob(os.path.join(input_dir, \"*.gz\")):\n",
        "        output_path = file_path.replace(\".gz\", \"\")\n",
        "        with gzip.open(file_path, 'rb') as f_in, open(output_path, 'wb') as f_out:\n",
        "            shutil.copyfileobj(f_in, f_out)\n",
        "    print(f\"✅ Extracted all .ppm.gz files in {input_dir}\")\n",
        "\n",
        "# Extract for images & masks\n",
        "extract_gz_files(f\"{STARE_RAW_PATH}/images\")\n",
        "extract_gz_files(f\"{STARE_RAW_PATH}/labels_ah\")\n",
        "extract_gz_files(f\"{STARE_RAW_PATH}/labels_vk\")\n"
      ],
      "metadata": {
        "colab": {
          "base_uri": "https://localhost:8080/"
        },
        "id": "OQeu_5HiUefm",
        "outputId": "5a59f322-6526-4505-fff1-71267be50845"
      },
      "execution_count": null,
      "outputs": [
        {
          "output_type": "stream",
          "name": "stdout",
          "text": [
            "✅ Extracted all .ppm.gz files in /content/STARE/images\n",
            "✅ Extracted all .ppm.gz files in /content/STARE/labels_ah\n",
            "✅ Extracted all .ppm.gz files in /content/STARE/labels_vk\n"
          ]
        }
      ]
    },
    {
      "cell_type": "code",
      "source": [
        "import cv2\n",
        "import numpy as np\n",
        "from tqdm import tqdm\n",
        "\n",
        "# Define target directories for preprocessed data\n",
        "SAVE_PATH = \"/content/preprocessed_stare\"\n",
        "os.makedirs(f\"{SAVE_PATH}/images\", exist_ok=True)\n",
        "os.makedirs(f\"{SAVE_PATH}/labels-ah\", exist_ok=True)\n",
        "os.makedirs(f\"{SAVE_PATH}/labels-vk\", exist_ok=True)\n",
        "\n",
        "IMG_SIZE = (256, 256)  # Resize all images\n",
        "\n",
        "def convert_and_save_ppm_to_npy(input_dir, output_dir, is_mask=False):\n",
        "    \"\"\"Converts .ppm files to NumPy array, resizes, normalizes, and saves them.\"\"\"\n",
        "    for ppm_file in tqdm(glob(os.path.join(input_dir, \"*.ppm\")), desc=f\"Processing {input_dir}\"):\n",
        "        img = cv2.imread(ppm_file, cv2.IMREAD_UNCHANGED)\n",
        "        if img is None:\n",
        "            print(f\"⚠️ Skipping corrupt file: {ppm_file}\")\n",
        "            continue\n",
        "\n",
        "        img = cv2.resize(img, IMG_SIZE, interpolation=cv2.INTER_AREA)\n",
        "\n",
        "        # Convert masks to grayscale if they are not single-channel\n",
        "        if is_mask and len(img.shape) == 3:\n",
        "            img = cv2.cvtColor(img, cv2.COLOR_BGR2GRAY)\n",
        "\n",
        "        img = img.astype(np.float32) / 255.0  # Normalize\n",
        "\n",
        "        filename = os.path.basename(ppm_file).replace(\".ppm\", \".npy\")\n",
        "        np.save(os.path.join(output_dir, filename), img)\n",
        "\n",
        "# Convert and save images & masks\n",
        "convert_and_save_ppm_to_npy(f\"{STARE_RAW_PATH}/images\", f\"{SAVE_PATH}/images\", is_mask=False)\n",
        "convert_and_save_ppm_to_npy(f\"{STARE_RAW_PATH}/labels_ah\", f\"{SAVE_PATH}/labels-ah\", is_mask=True)\n",
        "convert_and_save_ppm_to_npy(f\"{STARE_RAW_PATH}/labels_vk\", f\"{SAVE_PATH}/labels-vk\", is_mask=True)\n",
        "\n",
        "print(f\"✅ STARE Preprocessing Complete! NumPy arrays saved in {SAVE_PATH}\")\n"
      ],
      "metadata": {
        "colab": {
          "base_uri": "https://localhost:8080/"
        },
        "id": "ELITmBjgUaDt",
        "outputId": "7989e8ba-d69c-4dc7-d524-ee8b71332e2b"
      },
      "execution_count": null,
      "outputs": [
        {
          "output_type": "stream",
          "name": "stderr",
          "text": [
            "Processing /content/STARE/images: 100%|██████████| 20/20 [00:00<00:00, 43.43it/s]\n",
            "Processing /content/STARE/labels_ah: 100%|██████████| 20/20 [00:00<00:00, 187.43it/s]\n",
            "Processing /content/STARE/labels_vk: 100%|██████████| 20/20 [00:00<00:00, 134.24it/s]"
          ]
        },
        {
          "output_type": "stream",
          "name": "stdout",
          "text": [
            "✅ STARE Preprocessing Complete! NumPy arrays saved in /content/preprocessed_stare\n"
          ]
        },
        {
          "output_type": "stream",
          "name": "stderr",
          "text": [
            "\n"
          ]
        }
      ]
    },
    {
      "cell_type": "markdown",
      "source": [
        "# APTOS PRE_PROCESSING"
      ],
      "metadata": {
        "id": "mfQ3r8Nqal8J"
      }
    },
    {
      "cell_type": "code",
      "source": [
        "import os\n",
        "import cv2\n",
        "import numpy as np\n",
        "from tqdm import tqdm\n",
        "\n",
        "# Define image size\n",
        "IMG_SIZE = (256, 256)\n",
        "\n",
        "def preprocess_image(image_path):\n",
        "    \"\"\"Reads an image, resizes it, normalizes pixel values, and applies CLAHE.\"\"\"\n",
        "    img = cv2.imread(image_path)\n",
        "    if img is None:\n",
        "        print(f\"⚠️ Skipping corrupt image: {image_path}\")\n",
        "        return None\n",
        "\n",
        "    img = cv2.cvtColor(img, cv2.COLOR_BGR2RGB)  # Convert to RGB\n",
        "    img = cv2.resize(img, IMG_SIZE)  # Resize to fixed dimensions\n",
        "    img = img / 255.0  # Normalize to [0,1]\n",
        "\n",
        "    # Apply CLAHE for contrast enhancement\n",
        "    lab = cv2.cvtColor((img * 255).astype(np.uint8), cv2.COLOR_RGB2LAB)\n",
        "    l, a, b = cv2.split(lab)\n",
        "    clahe = cv2.createCLAHE(clipLimit=2.0, tileGridSize=(8, 8))\n",
        "    l = clahe.apply(l)\n",
        "    lab = cv2.merge((l, a, b))\n",
        "    img = cv2.cvtColor(lab, cv2.COLOR_LAB2RGB) / 255.0  # Normalize again\n",
        "\n",
        "    return img\n"
      ],
      "metadata": {
        "id": "Scbe7m2fXRU_"
      },
      "execution_count": null,
      "outputs": []
    },
    {
      "cell_type": "code",
      "source": [
        "# Define APTOS dataset path\n",
        "APTOS_PATH = \"/content/APTOS/gaussian_filtered_images/gaussian_filtered_images\"\n",
        "SAVE_DIR = \"/content/preprocessed_aptos\"\n",
        "\n",
        "# Create save directory\n",
        "os.makedirs(SAVE_DIR, exist_ok=True)\n",
        "\n",
        "# Process images\n",
        "for category in os.listdir(APTOS_PATH):  # Categories: No_DR, Mild, etc.\n",
        "    category_path = os.path.join(APTOS_PATH, category)\n",
        "    if not os.path.isdir(category_path):\n",
        "        continue\n",
        "\n",
        "    save_category_path = os.path.join(SAVE_DIR, category)\n",
        "    os.makedirs(save_category_path, exist_ok=True)\n",
        "\n",
        "    for img_name in tqdm(os.listdir(category_path), desc=f\"Processing {category}\"):\n",
        "        img_path = os.path.join(category_path, img_name)\n",
        "        img = preprocess_image(img_path)\n",
        "        if img is not None:\n",
        "            np.save(os.path.join(save_category_path, img_name.replace('.jpg', '.npy')), img)\n",
        "\n",
        "print(f\"✅ Preprocessed APTOS images saved in {SAVE_DIR}\")\n"
      ],
      "metadata": {
        "colab": {
          "base_uri": "https://localhost:8080/"
        },
        "id": "Z0psRd4LXXre",
        "outputId": "4feebe5b-e8e4-44cc-be03-77cc0ff903ed"
      },
      "execution_count": null,
      "outputs": [
        {
          "output_type": "stream",
          "name": "stderr",
          "text": [
            "Processing Proliferate_DR: 100%|██████████| 295/295 [00:03<00:00, 95.13it/s] \n",
            "Processing Severe: 100%|██████████| 193/193 [00:04<00:00, 46.11it/s]\n",
            "Processing Mild: 100%|██████████| 370/370 [00:07<00:00, 52.65it/s] \n",
            "Processing No_DR: 100%|██████████| 1805/1805 [00:31<00:00, 57.31it/s]\n",
            "Processing Moderate: 100%|██████████| 999/999 [00:24<00:00, 41.27it/s]"
          ]
        },
        {
          "output_type": "stream",
          "name": "stdout",
          "text": [
            "✅ Preprocessed APTOS images saved in /content/preprocessed_aptos\n"
          ]
        },
        {
          "output_type": "stream",
          "name": "stderr",
          "text": [
            "\n"
          ]
        }
      ]
    },
    {
      "cell_type": "code",
      "source": [
        "import os\n",
        "\n",
        "# Count number of preprocessed images\n",
        "preprocessed_count = sum([len(files) for _, _, files in os.walk(SAVE_DIR)])\n",
        "print(f\"📂 Total Preprocessed APTOS Images: {preprocessed_count}\")\n",
        "\n",
        "# List a few sample files\n",
        "print(\"📌 Sample Files:\", os.listdir(SAVE_DIR + \"/No_DR\")[:5])\n"
      ],
      "metadata": {
        "colab": {
          "base_uri": "https://localhost:8080/"
        },
        "id": "FpkRKE9WXka4",
        "outputId": "d9d0caa3-e9ee-479e-f769-caf616d50adb"
      },
      "execution_count": null,
      "outputs": [
        {
          "output_type": "stream",
          "name": "stdout",
          "text": [
            "📂 Total Preprocessed APTOS Images: 3662\n",
            "📌 Sample Files: ['b5204c0decc7.png.npy', '87a9f4d20f07.png.npy', '51a078d6d43a.png.npy', 'a8aed92940fb.png.npy', '894a37fc3738.png.npy']\n"
          ]
        }
      ]
    },
    {
      "cell_type": "code",
      "source": [
        "import os\n",
        "import matplotlib.pyplot as plt\n",
        "\n",
        "# Define preprocessed dataset path\n",
        "PREPROCESSED_APTOS_PATH = \"/content/preprocessed_aptos\"\n",
        "\n",
        "# Count the number of images in each category\n",
        "category_counts = {}\n",
        "for category in os.listdir(PREPROCESSED_APTOS_PATH):\n",
        "    category_path = os.path.join(PREPROCESSED_APTOS_PATH, category)\n",
        "    if os.path.isdir(category_path):\n",
        "        category_counts[category] = len(os.listdir(category_path))\n",
        "\n",
        "# Print counts\n",
        "for category, count in category_counts.items():\n",
        "    print(f\"📂 {category}: {count} images\")\n"
      ],
      "metadata": {
        "colab": {
          "base_uri": "https://localhost:8080/"
        },
        "id": "xbPMwcpJZ7xy",
        "outputId": "9108b73c-556a-4bb3-8cc5-ede40cfbe94e"
      },
      "execution_count": null,
      "outputs": [
        {
          "output_type": "stream",
          "name": "stdout",
          "text": [
            "📂 Proliferate_DR: 295 images\n",
            "📂 Severe: 193 images\n",
            "📂 Mild: 370 images\n",
            "📂 No_DR: 1805 images\n",
            "📂 Moderate: 999 images\n"
          ]
        }
      ]
    },
    {
      "cell_type": "code",
      "source": [
        "# Plot bar chart\n",
        "plt.figure(figsize=(8, 5))\n",
        "plt.bar(category_counts.keys(), category_counts.values(), color=['blue', 'orange', 'green', 'red', 'purple'])\n",
        "plt.xlabel(\"DR Severity Categories\")\n",
        "plt.ylabel(\"Number of Images\")\n",
        "plt.title(\"APTOS Dataset Image Distribution\")\n",
        "plt.xticks(rotation=25)\n",
        "plt.grid(axis=\"y\", linestyle=\"--\", alpha=0.7)\n",
        "plt.show()\n"
      ],
      "metadata": {
        "colab": {
          "base_uri": "https://localhost:8080/"
        },
        "id": "wVIi9AMsZ_Gn",
        "outputId": "e6a5dd6d-6d9a-422c-f52c-507aff88bccd"
      },
      "execution_count": null,
      "outputs": [
        {
          "output_type": "display_data",
          "data": {
            "text/plain": [
              "<Figure size 800x500 with 1 Axes>"
            ],
            "image/png": "[encoded data removed]"
          },
          "metadata": {}
        }
      ]
    },
    {
      "cell_type": "markdown",
      "source": [
        "# IDRID PRE_PROCESSING"
      ],
      "metadata": {
        "id": "esd6HInCayb5"
      }
    },
    {
      "cell_type": "code",
      "source": [
        "# Preprocess IDRiD Fundus Images"
      ],
      "metadata": {
        "id": "NfWjXBwsdIJ8"
      },
      "execution_count": null,
      "outputs": []
    },
    {
      "cell_type": "code",
      "source": [
        "import os\n",
        "import cv2\n",
        "import numpy as np\n",
        "from tqdm import tqdm\n",
        "\n",
        "# Define image size\n",
        "IMG_SIZE = (256, 256)\n",
        "\n",
        "def preprocess_image(image_path):\n",
        "    \"\"\"Reads an image, resizes it, normalizes pixel values, and applies CLAHE.\"\"\"\n",
        "    img = cv2.imread(image_path)\n",
        "    if img is None:\n",
        "        print(f\"⚠️ Skipping corrupt image: {image_path}\")\n",
        "        return None\n",
        "\n",
        "    img = cv2.cvtColor(img, cv2.COLOR_BGR2RGB)\n",
        "    img = cv2.resize(img, IMG_SIZE)\n",
        "    img = img / 255.0\n",
        "\n",
        "    # Apply CLAHE for contrast enhancement\n",
        "    lab = cv2.cvtColor((img * 255).astype(np.uint8), cv2.COLOR_RGB2LAB)\n",
        "    l, a, b = cv2.split(lab)\n",
        "    clahe = cv2.createCLAHE(clipLimit=2.0, tileGridSize=(8, 8))\n",
        "    l = clahe.apply(l)\n",
        "    lab = cv2.merge((l, a, b))\n",
        "    img = cv2.cvtColor(lab, cv2.COLOR_LAB2RGB) / 255.0\n",
        "\n",
        "    return img\n"
      ],
      "metadata": {
        "id": "eiCY-HU4awlS"
      },
      "execution_count": null,
      "outputs": []
    },
    {
      "cell_type": "code",
      "source": [
        "# Define IDRiD dataset path\n",
        "IDRID_PATH = \"/content/IDRID/A.%20Segmentation/A. Segmentation/1. Original Images\"\n",
        "SAVE_DIR = \"/content/preprocessed_idrid\"\n",
        "\n",
        "# Create save directory\n",
        "os.makedirs(SAVE_DIR, exist_ok=True)\n",
        "\n",
        "# Process images\n",
        "for category in os.listdir(IDRID_PATH):  # Training & Testing folders\n",
        "    category_path = os.path.join(IDRID_PATH, category)\n",
        "    if not os.path.isdir(category_path):\n",
        "        continue\n",
        "\n",
        "    save_category_path = os.path.join(SAVE_DIR, category)\n",
        "    os.makedirs(save_category_path, exist_ok=True)\n",
        "\n",
        "    for img_name in tqdm(os.listdir(category_path), desc=f\"Processing {category}\"):\n",
        "        img_path = os.path.join(category_path, img_name)\n",
        "        img = preprocess_image(img_path)\n",
        "        if img is not None:\n",
        "            np.save(os.path.join(save_category_path, img_name.replace('.jpg', '.npy')), img)\n",
        "\n",
        "print(f\"✅ Preprocessed IDRiD images saved in {SAVE_DIR}\")\n"
      ],
      "metadata": {
        "colab": {
          "base_uri": "https://localhost:8080/"
        },
        "id": "2LqPOuKDblW_",
        "outputId": "77bed9c8-bafc-4e24-8e3e-3c27293e4329"
      },
      "execution_count": null,
      "outputs": [
        {
          "output_type": "stream",
          "name": "stderr",
          "text": [
            "Processing a. Training Set: 100%|██████████| 54/54 [00:05<00:00,  9.55it/s]\n",
            "Processing b. Testing Set: 100%|██████████| 27/27 [00:03<00:00,  8.63it/s]"
          ]
        },
        {
          "output_type": "stream",
          "name": "stdout",
          "text": [
            "✅ Preprocessed IDRiD images saved in /content/preprocessed_idrid\n"
          ]
        },
        {
          "output_type": "stream",
          "name": "stderr",
          "text": [
            "\n"
          ]
        }
      ]
    },
    {
      "cell_type": "code",
      "source": [
        "# Preprocess IDRiD Lesion Segmentation Masks"
      ],
      "metadata": {
        "id": "RFRNnBXPdDG0"
      },
      "execution_count": null,
      "outputs": []
    },
    {
      "cell_type": "code",
      "source": [
        "def preprocess_mask(mask_path):\n",
        "    \"\"\"Reads a mask, resizes, converts to grayscale, and normalizes.\"\"\"\n",
        "    mask = cv2.imread(mask_path, cv2.IMREAD_UNCHANGED)\n",
        "    if mask is None:\n",
        "        print(f\"⚠️ Skipping corrupt mask: {mask_path}\")\n",
        "        return None\n",
        "\n",
        "    mask = cv2.resize(mask, IMG_SIZE)\n",
        "\n",
        "    # Convert to grayscale if not already\n",
        "    if len(mask.shape) == 3:\n",
        "        mask = cv2.cvtColor(mask, cv2.COLOR_BGR2GRAY)\n",
        "\n",
        "    mask = mask / 255.0\n",
        "    return mask\n"
      ],
      "metadata": {
        "id": "nXccrGogc1SU"
      },
      "execution_count": null,
      "outputs": []
    },
    {
      "cell_type": "code",
      "source": [
        "# Define IDRiD mask dataset path\n",
        "IDRID_MASK_PATH = \"/content/IDRID/A.%20Segmentation/A. Segmentation/2. All Segmentation Groundtruths/a. Training Set\"\n",
        "SAVE_MASK_DIR = \"/content/preprocessed_idrid_masks\"\n",
        "\n",
        "# Create save directory\n",
        "os.makedirs(SAVE_MASK_DIR, exist_ok=True)\n",
        "\n",
        "# Process masks\n",
        "for lesion_type in os.listdir(IDRID_MASK_PATH):  # Lesion folders (Microaneurysms, etc.)\n",
        "    lesion_path = os.path.join(IDRID_MASK_PATH, lesion_type)\n",
        "    if not os.path.isdir(lesion_path):\n",
        "        continue\n",
        "\n",
        "    save_lesion_path = os.path.join(SAVE_MASK_DIR, lesion_type)\n",
        "    os.makedirs(save_lesion_path, exist_ok=True)\n",
        "\n",
        "    for mask_name in tqdm(os.listdir(lesion_path), desc=f\"Processing {lesion_type}\"):\n",
        "        mask_path = os.path.join(lesion_path, mask_name)\n",
        "        mask = preprocess_mask(mask_path)\n",
        "        if mask is not None:\n",
        "            np.save(os.path.join(save_lesion_path, mask_name.replace('.tif', '.npy')), mask)\n",
        "\n",
        "print(f\"✅ Preprocessed IDRiD lesion masks saved in {SAVE_MASK_DIR}\")\n"
      ],
      "metadata": {
        "colab": {
          "base_uri": "https://localhost:8080/"
        },
        "id": "EJk7LNojdOPM",
        "outputId": "dd036e95-25db-4761-f239-500cb63a80ad"
      },
      "execution_count": null,
      "outputs": [
        {
          "output_type": "stream",
          "name": "stderr",
          "text": [
            "Processing 2. Haemorrhages: 100%|██████████| 53/53 [00:03<00:00, 17.39it/s]\n",
            "Processing 1. Microaneurysms: 100%|██████████| 54/54 [00:02<00:00, 24.17it/s]\n",
            "Processing 3. Hard Exudates: 100%|██████████| 54/54 [00:02<00:00, 24.97it/s]\n",
            "Processing 4. Soft Exudates: 100%|██████████| 26/26 [00:01<00:00, 25.39it/s]\n",
            "Processing 5. Optic Disc: 100%|██████████| 54/54 [00:02<00:00, 23.56it/s]"
          ]
        },
        {
          "output_type": "stream",
          "name": "stdout",
          "text": [
            "✅ Preprocessed IDRiD lesion masks saved in /content/preprocessed_idrid_masks\n"
          ]
        },
        {
          "output_type": "stream",
          "name": "stderr",
          "text": [
            "\n"
          ]
        }
      ]
    },
    {
      "cell_type": "code",
      "source": [
        "import os\n",
        "\n",
        "# Count number of preprocessed images\n",
        "idrid_img_count = sum([len(files) for _, _, files in os.walk(SAVE_DIR)])\n",
        "idrid_mask_count = sum([len(files) for _, _, files in os.walk(SAVE_MASK_DIR)])\n",
        "\n",
        "print(f\"📂 Total Preprocessed IDRiD Fundus Images: {idrid_img_count}\")\n",
        "print(f\"📂 Total Preprocessed IDRiD Lesion Masks: {idrid_mask_count}\")\n"
      ],
      "metadata": {
        "colab": {
          "base_uri": "https://localhost:8080/"
        },
        "id": "nIvZ4o8YelpA",
        "outputId": "a9606a3b-8d32-4a5b-b31e-f5820a6e7365"
      },
      "execution_count": null,
      "outputs": [
        {
          "output_type": "stream",
          "name": "stdout",
          "text": [
            "📂 Total Preprocessed IDRiD Fundus Images: 81\n",
            "📂 Total Preprocessed IDRiD Lesion Masks: 241\n"
          ]
        }
      ]
    },
    {
      "cell_type": "markdown",
      "source": [
        "# STARE PRE_PROCESSING"
      ],
      "metadata": {
        "id": "jJcLKpYVfx3_"
      }
    },
    {
      "cell_type": "code",
      "source": [
        "import os\n",
        "import gzip\n",
        "import shutil\n",
        "from glob import glob\n",
        "\n",
        "STARE_RAW_PATH = \"/content/STARE\"\n",
        "\n",
        "def extract_gz_files(input_dir):\n",
        "    \"\"\"Extracts all .ppm.gz files in a directory.\"\"\"\n",
        "    for file_path in glob(os.path.join(input_dir, \"*.gz\")):\n",
        "        output_path = file_path.replace(\".gz\", \"\")\n",
        "        with gzip.open(file_path, 'rb') as f_in, open(output_path, 'wb') as f_out:\n",
        "            shutil.copyfileobj(f_in, f_out)\n",
        "    print(f\"✅ Extracted all .ppm.gz files in {input_dir}\")\n",
        "\n",
        "# Extract for images & masks\n",
        "extract_gz_files(f\"{STARE_RAW_PATH}/images\")\n",
        "extract_gz_files(f\"{STARE_RAW_PATH}/labels_ah\")\n",
        "extract_gz_files(f\"{STARE_RAW_PATH}/labels_vk\")\n"
      ],
      "metadata": {
        "colab": {
          "base_uri": "https://localhost:8080/"
        },
        "id": "ixD0yEURfxli",
        "outputId": "6970af05-3b17-4b95-96a7-da715ef63e80"
      },
      "execution_count": null,
      "outputs": [
        {
          "output_type": "stream",
          "name": "stdout",
          "text": [
            "✅ Extracted all .ppm.gz files in /content/STARE/images\n",
            "✅ Extracted all .ppm.gz files in /content/STARE/labels_ah\n",
            "✅ Extracted all .ppm.gz files in /content/STARE/labels_vk\n"
          ]
        }
      ]
    },
    {
      "cell_type": "code",
      "source": [
        "import cv2\n",
        "import numpy as np\n",
        "from tqdm import tqdm\n",
        "\n",
        "# Define save paths\n",
        "SAVE_PATH = \"/content/preprocessed_stare\"\n",
        "os.makedirs(f\"{SAVE_PATH}/images\", exist_ok=True)\n",
        "os.makedirs(f\"{SAVE_PATH}/labels-ah\", exist_ok=True)\n",
        "os.makedirs(f\"{SAVE_PATH}/labels-vk\", exist_ok=True)\n",
        "\n",
        "IMG_SIZE = (256, 256)  # Resize all images\n",
        "\n",
        "def convert_and_save_ppm_to_npy(input_dir, output_dir, is_mask=False):\n",
        "    \"\"\"Converts .ppm files to NumPy array, resizes, normalizes, and saves them.\"\"\"\n",
        "    for ppm_file in tqdm(glob(os.path.join(input_dir, \"*.ppm\")), desc=f\"Processing {input_dir}\"):\n",
        "        img = cv2.imread(ppm_file, cv2.IMREAD_UNCHANGED)\n",
        "        if img is None:\n",
        "            print(f\"⚠️ Skipping corrupt file: {ppm_file}\")\n",
        "            continue\n",
        "\n",
        "        img = cv2.resize(img, IMG_SIZE, interpolation=cv2.INTER_AREA)\n",
        "\n",
        "        # Convert masks to grayscale if they are not single-channel\n",
        "        if is_mask and len(img.shape) == 3:\n",
        "            img = cv2.cvtColor(img, cv2.COLOR_BGR2GRAY)\n",
        "\n",
        "        img = img.astype(np.float32) / 255.0  # Normalize\n",
        "\n",
        "        filename = os.path.basename(ppm_file).replace(\".ppm\", \".npy\")\n",
        "        np.save(os.path.join(output_dir, filename), img)\n",
        "\n",
        "# Convert and save fundus images & masks\n",
        "convert_and_save_ppm_to_npy(f\"{STARE_RAW_PATH}/images\", f\"{SAVE_PATH}/images\", is_mask=False)\n",
        "convert_and_save_ppm_to_npy(f\"{STARE_RAW_PATH}/labels_ah\", f\"{SAVE_PATH}/labels-ah\", is_mask=True)\n",
        "convert_and_save_ppm_to_npy(f\"{STARE_RAW_PATH}/labels_vk\", f\"{SAVE_PATH}/labels-vk\", is_mask=True)\n",
        "\n",
        "print(f\"✅ STARE Preprocessing Complete! NumPy arrays saved in {SAVE_PATH}\")\n"
      ],
      "metadata": {
        "colab": {
          "base_uri": "https://localhost:8080/"
        },
        "id": "5zrSY0yQf_wR",
        "outputId": "e5d501cc-16df-4743-e071-15d10241048a"
      },
      "execution_count": null,
      "outputs": [
        {
          "output_type": "stream",
          "name": "stderr",
          "text": [
            "Processing /content/STARE/images: 100%|██████████| 20/20 [00:00<00:00, 145.45it/s]\n",
            "Processing /content/STARE/labels_ah: 100%|██████████| 20/20 [00:00<00:00, 382.21it/s]\n",
            "Processing /content/STARE/labels_vk: 100%|██████████| 20/20 [00:00<00:00, 362.39it/s]"
          ]
        },
        {
          "output_type": "stream",
          "name": "stdout",
          "text": [
            "✅ STARE Preprocessing Complete! NumPy arrays saved in /content/preprocessed_stare\n"
          ]
        },
        {
          "output_type": "stream",
          "name": "stderr",
          "text": [
            "\n"
          ]
        }
      ]
    },
    {
      "cell_type": "code",
      "source": [
        "import os\n",
        "\n",
        "# Check the number of processed images & masks\n",
        "stare_image_count = len(os.listdir(f\"{SAVE_PATH}/images\"))\n",
        "stare_ah_mask_count = len(os.listdir(f\"{SAVE_PATH}/labels-ah\"))\n",
        "stare_vk_mask_count = len(os.listdir(f\"{SAVE_PATH}/labels-vk\"))\n",
        "\n",
        "print(f\"📂 STARE Preprocessed Images: {stare_image_count}\")\n",
        "print(f\"📂 STARE Preprocessed AH Masks: {stare_ah_mask_count}\")\n",
        "print(f\"📂 STARE Preprocessed VK Masks: {stare_vk_mask_count}\")\n"
      ],
      "metadata": {
        "colab": {
          "base_uri": "https://localhost:8080/"
        },
        "id": "YIs-CZC0gLp8",
        "outputId": "9a2d64ff-8d4f-40a7-f0d5-72d480b82522"
      },
      "execution_count": null,
      "outputs": [
        {
          "output_type": "stream",
          "name": "stdout",
          "text": [
            "📂 STARE Preprocessed Images: 20\n",
            "📂 STARE Preprocessed AH Masks: 20\n",
            "📂 STARE Preprocessed VK Masks: 20\n"
          ]
        }
      ]
    },
    {
      "cell_type": "markdown",
      "source": [
        "# DRIVE PRE_PROCESSING\n"
      ],
      "metadata": {
        "id": "4BMPkUrG5Xq8"
      }
    },
    {
      "cell_type": "code",
      "source": [
        "import os\n",
        "import cv2\n",
        "import numpy as np\n",
        "from tqdm import tqdm\n",
        "from glob import glob\n",
        "from imageio import imread\n",
        "\n",
        "# Define image size\n",
        "IMG_SIZE = (256, 256)\n",
        "\n",
        "def preprocess_fundus_image(image_path):\n",
        "    \"\"\"Reads, resizes, normalizes, and enhances fundus images.\"\"\"\n",
        "    img = cv2.imread(image_path, cv2.IMREAD_UNCHANGED)\n",
        "    if img is None:\n",
        "        print(f\"⚠️ Skipping corrupt image: {image_path}\")\n",
        "        return None\n",
        "\n",
        "    img = cv2.cvtColor(img, cv2.COLOR_BGR2RGB)\n",
        "    img = cv2.resize(img, IMG_SIZE)\n",
        "    img = img / 255.0  # Normalize to [0,1]\n",
        "\n",
        "    return img\n",
        "\n",
        "def preprocess_vessel_mask(mask_path):\n",
        "    \"\"\"Reads, resizes, converts to grayscale, and normalizes vessel masks.\"\"\"\n",
        "    mask = imread(mask_path)  # Reads .gif files\n",
        "    if mask is None:\n",
        "        print(f\"⚠️ Skipping corrupt mask: {mask_path}\")\n",
        "        return None\n",
        "\n",
        "    mask = cv2.resize(mask, IMG_SIZE, interpolation=cv2.INTER_NEAREST)\n",
        "    if len(mask.shape) == 3:  # Ensure grayscale\n",
        "        mask = cv2.cvtColor(mask, cv2.COLOR_RGB2GRAY)\n",
        "\n",
        "    mask = mask.astype(np.float32) / 255.0  # Normalize to [0,1]\n",
        "    return mask\n"
      ],
      "metadata": {
        "id": "uJkosDdX7-9_"
      },
      "execution_count": null,
      "outputs": []
    },
    {
      "cell_type": "code",
      "source": [
        "# Define dataset paths\n",
        "DRIVE_PATH = \"/content/DRIVE\"\n",
        "SAVE_DIR = \"/content/preprocessed_drive\"\n",
        "\n",
        "# Create directories for preprocessed data\n",
        "os.makedirs(f\"{SAVE_DIR}/training/images\", exist_ok=True)\n",
        "os.makedirs(f\"{SAVE_DIR}/training/1st_manual\", exist_ok=True)\n",
        "os.makedirs(f\"{SAVE_DIR}/training/mask\", exist_ok=True)\n",
        "os.makedirs(f\"{SAVE_DIR}/test/images\", exist_ok=True)\n",
        "os.makedirs(f\"{SAVE_DIR}/test/mask\", exist_ok=True)\n",
        "\n",
        "# Preprocess fundus images\n",
        "for dataset_type in [\"training\", \"test\"]:\n",
        "    img_dir = os.path.join(DRIVE_PATH, dataset_type, \"images\")\n",
        "    save_img_dir = os.path.join(SAVE_DIR, dataset_type, \"images\")\n",
        "\n",
        "    for img_name in tqdm(os.listdir(img_dir), desc=f\"Processing {dataset_type} fundus images\"):\n",
        "        img_path = os.path.join(img_dir, img_name)\n",
        "        img = preprocess_fundus_image(img_path)\n",
        "        if img is not None:\n",
        "            np.save(os.path.join(save_img_dir, img_name.replace('.tif', '.npy')), img)\n",
        "\n",
        "# Preprocess vessel masks\n",
        "for dataset_type in [\"training\", \"test\"]:\n",
        "    mask_dir = os.path.join(DRIVE_PATH, dataset_type, \"mask\")\n",
        "    save_mask_dir = os.path.join(SAVE_DIR, dataset_type, \"mask\")\n",
        "\n",
        "    for mask_name in tqdm(os.listdir(mask_dir), desc=f\"Processing {dataset_type} masks\"):\n",
        "        mask_path = os.path.join(mask_dir, mask_name)\n",
        "        mask = preprocess_vessel_mask(mask_path)\n",
        "        if mask is not None:\n",
        "            np.save(os.path.join(save_mask_dir, mask_name.replace('.gif', '.npy')), mask)\n",
        "\n",
        "# Preprocess training manual segmentation masks\n",
        "train_manual_dir = os.path.join(DRIVE_PATH, \"training\", \"1st_manual\")\n",
        "save_train_manual_dir = os.path.join(SAVE_DIR, \"training\", \"1st_manual\")\n",
        "\n",
        "for mask_name in tqdm(os.listdir(train_manual_dir), desc=\"Processing training manual segmentation masks\"):\n",
        "    mask_path = os.path.join(train_manual_dir, mask_name)\n",
        "    mask = preprocess_vessel_mask(mask_path)\n",
        "    if mask is not None:\n",
        "        np.save(os.path.join(save_train_manual_dir, mask_name.replace('.gif', '.npy')), mask)\n",
        "\n",
        "print(f\"✅ Preprocessed DRIVE dataset saved in {SAVE_DIR}\")\n"
      ],
      "metadata": {
        "colab": {
          "base_uri": "https://localhost:8080/"
        },
        "id": "wGCZCZZj8AzB",
        "outputId": "ff32324a-70cd-4030-faca-09a7423ac9bd"
      },
      "execution_count": null,
      "outputs": [
        {
          "output_type": "stream",
          "name": "stderr",
          "text": [
            "Processing training fundus images: 100%|██████████| 20/20 [00:00<00:00, 55.68it/s]\n",
            "Processing test fundus images: 100%|██████████| 20/20 [00:00<00:00, 44.08it/s]\n",
            "Processing training masks:   0%|          | 0/20 [00:00<?, ?it/s]<ipython-input-41-e6295577626c>:26: DeprecationWarning: Starting with ImageIO v3 the behavior of this function will switch to that of iio.v3.imread. To keep the current behavior (and make this warning disappear) use `import imageio.v2 as imageio` or call `imageio.v2.imread` directly.\n",
            "  mask = imread(mask_path)  # Reads .gif files\n",
            "Processing training masks: 100%|██████████| 20/20 [00:00<00:00, 207.01it/s]\n",
            "Processing test masks: 100%|██████████| 20/20 [00:00<00:00, 242.95it/s]\n",
            "Processing training manual segmentation masks: 100%|██████████| 20/20 [00:00<00:00, 255.46it/s]"
          ]
        },
        {
          "output_type": "stream",
          "name": "stdout",
          "text": [
            "✅ Preprocessed DRIVE dataset saved in /content/preprocessed_drive\n"
          ]
        },
        {
          "output_type": "stream",
          "name": "stderr",
          "text": [
            "\n"
          ]
        }
      ]
    },
    {
      "cell_type": "code",
      "source": [
        "# Count the number of preprocessed images & masks\n",
        "train_img_count = len(os.listdir(f\"{SAVE_DIR}/training/images\"))\n",
        "train_mask_count = len(os.listdir(f\"{SAVE_DIR}/training/mask\"))\n",
        "train_manual_count = len(os.listdir(f\"{SAVE_DIR}/training/1st_manual\"))\n",
        "test_img_count = len(os.listdir(f\"{SAVE_DIR}/test/images\"))\n",
        "test_mask_count = len(os.listdir(f\"{SAVE_DIR}/test/mask\"))\n",
        "\n",
        "print(f\"📂 Preprocessed Training Fundus Images: {train_img_count}\")\n",
        "print(f\"📂 Preprocessed Training Vessel Masks: {train_mask_count}\")\n",
        "print(f\"📂 Preprocessed Training Manual Segmentation: {train_manual_count}\")\n",
        "print(f\"📂 Preprocessed Test Fundus Images: {test_img_count}\")\n",
        "print(f\"📂 Preprocessed Test Vessel Masks: {test_mask_count}\")\n"
      ],
      "metadata": {
        "colab": {
          "base_uri": "https://localhost:8080/"
        },
        "id": "NOhhPOqf8Idd",
        "outputId": "2a31f7fa-2531-48c1-95b4-a820ee6a526d"
      },
      "execution_count": null,
      "outputs": [
        {
          "output_type": "stream",
          "name": "stdout",
          "text": [
            "📂 Preprocessed Training Fundus Images: 20\n",
            "📂 Preprocessed Training Vessel Masks: 20\n",
            "📂 Preprocessed Training Manual Segmentation: 20\n",
            "📂 Preprocessed Test Fundus Images: 20\n",
            "📂 Preprocessed Test Vessel Masks: 20\n"
          ]
        }
      ]
    },
    {
      "cell_type": "markdown",
      "source": [],
      "metadata": {
        "id": "zh1jRKJC9Xlz"
      }
    },
    {
      "cell_type": "markdown",
      "source": [
        "# APTOS Augmentation"
      ],
      "metadata": {
        "id": "qsbv4CuX9bGS"
      }
    },
    {
      "cell_type": "code",
      "source": [
        "import albumentations as A\n",
        "import cv2\n",
        "import numpy as np\n",
        "import os\n",
        "from tqdm import tqdm\n",
        "\n",
        "# APTOS Augmentation Pipeline\n",
        "aptos_augment = A.Compose([\n",
        "    A.HorizontalFlip(p=0.5),\n",
        "    A.Rotate(limit=30, p=0.5),\n",
        "    A.RandomBrightnessContrast(p=0.3),\n",
        "    A.GaussianBlur(p=0.2),\n",
        "])\n",
        "\n",
        "# Define paths\n",
        "APTOS_PATH = \"/content/preprocessed_aptos\"\n",
        "AUGMENTED_APTOS_PATH = \"/content/augmented_aptos\"\n",
        "\n",
        "# Create augmented save directory if it doesn't exist\n",
        "os.makedirs(AUGMENTED_APTOS_PATH, exist_ok=True)\n",
        "\n",
        "def augment_fundus_images_with_original(input_dir, save_dir, augmentations_per_image=3):\n",
        "    \"\"\"For each category, saves the original image (converted to jpg) plus 3 augmented copies.\"\"\"\n",
        "    for category in os.listdir(input_dir):\n",
        "        category_path = os.path.join(input_dir, category)\n",
        "        save_category_path = os.path.join(save_dir, category)\n",
        "        os.makedirs(save_category_path, exist_ok=True)\n",
        "\n",
        "        for img_name in tqdm(os.listdir(category_path), desc=f\"Augmenting {category}\"):\n",
        "            if not img_name.endswith('.npy'):\n",
        "                continue\n",
        "            img_path = os.path.join(category_path, img_name)\n",
        "            img = np.load(img_path)\n",
        "            img_uint8 = (img * 255).astype(np.uint8)\n",
        "\n",
        "            # Save the original image\n",
        "            original_save_path = os.path.join(save_category_path, img_name.replace('.npy', '.jpg'))\n",
        "            cv2.imwrite(original_save_path, img_uint8)\n",
        "\n",
        "            # Create augmented versions\n",
        "            for i in range(augmentations_per_image):\n",
        "                augmented = aptos_augment(image=img_uint8)[\"image\"]\n",
        "                aug_save_path = os.path.join(save_category_path, f\"aug_{i}_{img_name.replace('.npy', '.jpg')}\")\n",
        "                cv2.imwrite(aug_save_path, augmented)\n",
        "\n",
        "augment_fundus_images_with_original(APTOS_PATH, AUGMENTED_APTOS_PATH, augmentations_per_image=3)\n",
        "print(\"✅ APTOS Augmentation Complete!\")\n"
      ],
      "metadata": {
        "colab": {
          "base_uri": "https://localhost:8080/"
        },
        "id": "38uEdhrK9gP8",
        "outputId": "8a55ac2e-58a4-4cd4-ab5f-7a84d2e93c31"
      },
      "execution_count": null,
      "outputs": [
        {
          "output_type": "stream",
          "name": "stderr",
          "text": [
            "Augmenting Proliferate_DR: 100%|██████████| 295/295 [00:05<00:00, 53.26it/s]\n",
            "Augmenting Severe: 100%|██████████| 193/193 [00:04<00:00, 45.73it/s]\n",
            "Augmenting Mild: 100%|██████████| 370/370 [00:06<00:00, 52.98it/s]\n",
            "Augmenting No_DR: 100%|██████████| 1805/1805 [00:55<00:00, 32.80it/s]\n",
            "Augmenting Moderate: 100%|██████████| 999/999 [00:20<00:00, 49.22it/s]"
          ]
        },
        {
          "output_type": "stream",
          "name": "stdout",
          "text": [
            "✅ APTOS Augmentation Complete!\n"
          ]
        },
        {
          "output_type": "stream",
          "name": "stderr",
          "text": [
            "\n"
          ]
        }
      ]
    },
    {
      "cell_type": "markdown",
      "source": [
        "# IDRiD Augmentation"
      ],
      "metadata": {
        "id": "RiIJmDoh-f2w"
      }
    },
    {
      "cell_type": "code",
      "source": [
        "import albumentations as A\n",
        "import cv2\n",
        "import numpy as np\n",
        "import os\n",
        "from tqdm import tqdm\n",
        "\n",
        "idrid_augment = A.Compose([\n",
        "    A.HorizontalFlip(p=0.5),\n",
        "    A.Rotate(limit=20, p=0.5),\n",
        "    A.ElasticTransform(p=0.2),\n",
        "])\n",
        "\n",
        "IDRID_PATH = \"/content/preprocessed_idrid\"  # Fundus images\n",
        "AUGMENTED_IDRID_PATH = \"/content/augmented_idrid\"\n",
        "\n",
        "os.makedirs(AUGMENTED_IDRID_PATH, exist_ok=True)\n",
        "\n",
        "def augment_idrid_images_with_original(input_dir, save_dir, augmentations_per_image=3):\n",
        "    \"\"\"Saves original IDRiD fundus images (as jpg) plus 3 augmented versions.\"\"\"\n",
        "    for category in os.listdir(input_dir):\n",
        "        category_path = os.path.join(input_dir, category)\n",
        "        save_category_path = os.path.join(save_dir, category)\n",
        "        os.makedirs(save_category_path, exist_ok=True)\n",
        "\n",
        "        for img_name in tqdm(os.listdir(category_path), desc=f\"Augmenting {category} Images\"):\n",
        "            if not img_name.endswith('.npy'):\n",
        "                continue\n",
        "            img_path = os.path.join(category_path, img_name)\n",
        "            img = np.load(img_path)\n",
        "            img_uint8 = (img * 255).astype(np.uint8)\n",
        "\n",
        "            # Save original\n",
        "            original_save_path = os.path.join(save_category_path, img_name.replace('.npy', '.jpg'))\n",
        "            cv2.imwrite(original_save_path, img_uint8)\n",
        "\n",
        "            for i in range(augmentations_per_image):\n",
        "                augmented = idrid_augment(image=img_uint8)[\"image\"]\n",
        "                aug_save_path = os.path.join(save_category_path, f\"aug_{i}_{img_name.replace('.npy', '.jpg')}\")\n",
        "                cv2.imwrite(aug_save_path, augmented)\n",
        "\n",
        "augment_idrid_images_with_original(IDRID_PATH, AUGMENTED_IDRID_PATH, augmentations_per_image=3)\n",
        "print(\"✅ IDRiD Fundus Images Augmentation Complete!\")\n"
      ],
      "metadata": {
        "colab": {
          "base_uri": "https://localhost:8080/"
        },
        "id": "vf8VJ89U-kCd",
        "outputId": "33120232-47d1-45d8-c951-05126ea8d925"
      },
      "execution_count": null,
      "outputs": [
        {
          "output_type": "stream",
          "name": "stderr",
          "text": [
            "Augmenting a. Training Set Images: 100%|██████████| 54/54 [00:01<00:00, 45.94it/s]\n",
            "Augmenting b. Testing Set Images: 100%|██████████| 27/27 [00:00<00:00, 44.00it/s]"
          ]
        },
        {
          "output_type": "stream",
          "name": "stdout",
          "text": [
            "✅ IDRiD Fundus Images Augmentation Complete!\n"
          ]
        },
        {
          "output_type": "stream",
          "name": "stderr",
          "text": [
            "\n"
          ]
        }
      ]
    },
    {
      "cell_type": "code",
      "source": [
        "IDRID_MASK_PATH = \"/content/preprocessed_idrid_masks\"  # Lesion masks (subfolders for each lesion type)\n",
        "AUGMENTED_IDRID_MASKS = \"/content/augmented_idrid_masks\"\n",
        "\n",
        "os.makedirs(AUGMENTED_IDRID_MASKS, exist_ok=True)\n",
        "\n",
        "def augment_idrid_masks_with_original(mask_dir, save_dir, augmentations_per_image=3):\n",
        "    \"\"\"Saves original lesion masks plus 3 augmented versions, for each lesion type.\"\"\"\n",
        "    for lesion_type in os.listdir(mask_dir):\n",
        "        lesion_path = os.path.join(mask_dir, lesion_type)\n",
        "        save_lesion_path = os.path.join(save_dir, lesion_type)\n",
        "        os.makedirs(save_lesion_path, exist_ok=True)\n",
        "\n",
        "        for mask_name in tqdm(os.listdir(lesion_path), desc=f\"Augmenting {lesion_type} Masks\"):\n",
        "            if not mask_name.endswith('.npy'):\n",
        "                continue\n",
        "            mask_path = os.path.join(lesion_path, mask_name)\n",
        "            mask = np.load(mask_path)\n",
        "            mask_uint8 = (mask * 255).astype(np.uint8)\n",
        "\n",
        "            # Save original mask\n",
        "            original_save_path = os.path.join(save_lesion_path, mask_name.replace('.npy', '.jpg'))\n",
        "            cv2.imwrite(original_save_path, mask_uint8)\n",
        "\n",
        "            for i in range(augmentations_per_image):\n",
        "                augmented_mask = idrid_augment(image=mask_uint8)[\"image\"]\n",
        "                aug_save_path = os.path.join(save_lesion_path, f\"aug_{i}_{mask_name.replace('.npy', '.jpg')}\")\n",
        "                cv2.imwrite(aug_save_path, augmented_mask)\n",
        "\n",
        "augment_idrid_masks_with_original(IDRID_MASK_PATH, AUGMENTED_IDRID_MASKS, augmentations_per_image=3)\n",
        "print(\"✅ IDRiD Lesion Masks Augmentation Complete!\")\n"
      ],
      "metadata": {
        "colab": {
          "base_uri": "https://localhost:8080/"
        },
        "id": "oO9fKseM-r4N",
        "outputId": "85d1b506-8a96-4179-c96a-80a363efd8ed"
      },
      "execution_count": null,
      "outputs": [
        {
          "output_type": "stream",
          "name": "stderr",
          "text": [
            "Augmenting 2. Haemorrhages Masks: 100%|██████████| 53/53 [00:00<00:00, 92.05it/s]\n",
            "Augmenting 1. Microaneurysms Masks: 100%|██████████| 54/54 [00:00<00:00, 86.94it/s]\n",
            "Augmenting 3. Hard Exudates Masks: 100%|██████████| 54/54 [00:00<00:00, 66.56it/s]\n",
            "Augmenting 4. Soft Exudates Masks: 100%|██████████| 26/26 [00:00<00:00, 71.43it/s]\n",
            "Augmenting 5. Optic Disc Masks: 100%|██████████| 54/54 [00:00<00:00, 76.53it/s]"
          ]
        },
        {
          "output_type": "stream",
          "name": "stdout",
          "text": [
            "✅ IDRiD Lesion Masks Augmentation Complete!\n"
          ]
        },
        {
          "output_type": "stream",
          "name": "stderr",
          "text": [
            "\n"
          ]
        }
      ]
    },
    {
      "cell_type": "markdown",
      "source": [
        "# STARE Augmentation"
      ],
      "metadata": {
        "id": "FMmnTWlO_RXK"
      }
    },
    {
      "cell_type": "code",
      "source": [
        "import albumentations as A\n",
        "import cv2\n",
        "import numpy as np\n",
        "import os\n",
        "from tqdm import tqdm\n",
        "\n",
        "stare_augment = A.Compose([\n",
        "    A.HorizontalFlip(p=0.5),\n",
        "    A.Rotate(limit=30, p=0.5),\n",
        "    A.GaussianBlur(p=0.3),\n",
        "    A.ElasticTransform(p=0.2),\n",
        "], additional_targets={\"mask_ah\": \"image\", \"mask_vk\": \"image\"})\n",
        "\n",
        "STARE_IMAGE_PATH = \"/content/preprocessed_stare/images\"\n",
        "STARE_AH_MASK_PATH = \"/content/preprocessed_stare/labels-ah\"\n",
        "STARE_VK_MASK_PATH = \"/content/preprocessed_stare/labels-vk\"\n",
        "\n",
        "AUG_STARE_IMAGE_PATH = \"/content/augmented_stare/images\"\n",
        "AUG_STARE_AH_PATH = \"/content/augmented_stare/labels-ah\"\n",
        "AUG_STARE_VK_PATH = \"/content/augmented_stare/labels-vk\"\n",
        "\n",
        "os.makedirs(AUG_STARE_IMAGE_PATH, exist_ok=True)\n",
        "os.makedirs(AUG_STARE_AH_PATH, exist_ok=True)\n",
        "os.makedirs(AUG_STARE_VK_PATH, exist_ok=True)\n",
        "\n",
        "def augment_stare_images_and_masks_with_original(image_dir, ah_mask_dir, vk_mask_dir, save_image_dir, save_ah_dir, save_vk_dir, augmentations_per_image=3):\n",
        "    \"\"\"Augments STARE fundus images & corresponding masks, saving original + augmentations.\"\"\"\n",
        "    for img_name in tqdm(os.listdir(image_dir), desc=\"Augmenting STARE Images & Masks\"):\n",
        "        if not img_name.endswith('.npy'):\n",
        "            continue\n",
        "        img_path = os.path.join(image_dir, img_name)\n",
        "        ah_mask_name = img_name.replace('.npy', '.ah.npy')\n",
        "        vk_mask_name = img_name.replace('.npy', '.vk.npy')\n",
        "\n",
        "        ah_mask_path = os.path.join(ah_mask_dir, ah_mask_name)\n",
        "        vk_mask_path = os.path.join(vk_mask_dir, vk_mask_name)\n",
        "\n",
        "        if not (os.path.exists(ah_mask_path) and os.path.exists(vk_mask_path)):\n",
        "            print(f\"⚠️ Skipping {img_name} (Missing Mask)\")\n",
        "            continue\n",
        "\n",
        "        img = np.load(img_path)\n",
        "        ah_mask = np.load(ah_mask_path)\n",
        "        vk_mask = np.load(vk_mask_path)\n",
        "\n",
        "        img_uint8 = (img * 255).astype(np.uint8)\n",
        "        ah_mask_uint8 = (ah_mask * 255).astype(np.uint8)\n",
        "        vk_mask_uint8 = (vk_mask * 255).astype(np.uint8)\n",
        "\n",
        "        # Save original image & masks\n",
        "        orig_img_save = os.path.join(save_image_dir, img_name.replace('.npy', '.jpg'))\n",
        "        orig_ah_save = os.path.join(save_ah_dir, ah_mask_name.replace('.npy', '.jpg'))\n",
        "        orig_vk_save = os.path.join(save_vk_dir, vk_mask_name.replace('.npy', '.jpg'))\n",
        "        cv2.imwrite(orig_img_save, img_uint8)\n",
        "        cv2.imwrite(orig_ah_save, ah_mask_uint8)\n",
        "        cv2.imwrite(orig_vk_save, vk_mask_uint8)\n",
        "\n",
        "        for i in range(augmentations_per_image):\n",
        "            augmented = stare_augment(image=img_uint8, mask_ah=ah_mask_uint8, mask_vk=vk_mask_uint8)\n",
        "            aug_img_save = os.path.join(save_image_dir, f\"aug_{i}_{img_name.replace('.npy', '.jpg')}\")\n",
        "            aug_ah_save = os.path.join(save_ah_dir, f\"aug_{i}_{ah_mask_name.replace('.npy', '.jpg')}\")\n",
        "            aug_vk_save = os.path.join(save_vk_dir, f\"aug_{i}_{vk_mask_name.replace('.npy', '.jpg')}\")\n",
        "\n",
        "            cv2.imwrite(aug_img_save, augmented[\"image\"])\n",
        "            cv2.imwrite(aug_ah_save, augmented[\"mask_ah\"])\n",
        "            cv2.imwrite(aug_vk_save, augmented[\"mask_vk\"])\n",
        "\n",
        "augment_stare_images_and_masks_with_original(STARE_IMAGE_PATH, STARE_AH_MASK_PATH, STARE_VK_MASK_PATH, AUG_STARE_IMAGE_PATH, AUG_STARE_AH_PATH, AUG_STARE_VK_PATH, augmentations_per_image=3)\n",
        "print(\"✅ STARE Augmentation Complete!\")\n"
      ],
      "metadata": {
        "colab": {
          "base_uri": "https://localhost:8080/"
        },
        "id": "lthJQbd2_XyQ",
        "outputId": "129037d3-f7ed-419a-d727-cabf115fc1a3"
      },
      "execution_count": null,
      "outputs": [
        {
          "output_type": "stream",
          "name": "stderr",
          "text": [
            "Augmenting STARE Images & Masks: 100%|██████████| 20/20 [00:00<00:00, 24.28it/s]"
          ]
        },
        {
          "output_type": "stream",
          "name": "stdout",
          "text": [
            "✅ STARE Augmentation Complete!\n"
          ]
        },
        {
          "output_type": "stream",
          "name": "stderr",
          "text": [
            "\n"
          ]
        }
      ]
    },
    {
      "cell_type": "markdown",
      "source": [
        "# DRIVE Augmentation"
      ],
      "metadata": {
        "id": "4QLu-62I_fYj"
      }
    },
    {
      "cell_type": "code",
      "source": [
        "import albumentations as A\n",
        "import cv2\n",
        "import numpy as np\n",
        "import os\n",
        "from tqdm import tqdm\n",
        "\n",
        "drive_augment = A.Compose([\n",
        "    A.HorizontalFlip(p=0.5),\n",
        "    A.Rotate(limit=30, p=0.5),\n",
        "    A.GaussianBlur(p=0.3),\n",
        "    A.ElasticTransform(p=0.2),\n",
        "], additional_targets={\"mask_vessel\": \"image\", \"mask_manual\": \"image\"})\n",
        "\n",
        "DRIVE_IMAGE_TRAIN_PATH = \"/content/preprocessed_drive/training/images\"\n",
        "DRIVE_MASK_TRAIN_PATH = \"/content/preprocessed_drive/training/mask\"\n",
        "DRIVE_MANUAL_TRAIN_PATH = \"/content/preprocessed_drive/training/1st_manual\"\n",
        "\n",
        "AUG_IMAGE_TRAIN_PATH = \"/content/augmented_drive/training/images\"\n",
        "AUG_MASK_TRAIN_PATH = \"/content/augmented_drive/training/mask\"\n",
        "AUG_MANUAL_TRAIN_PATH = \"/content/augmented_drive/training/1st_manual\"\n",
        "\n",
        "os.makedirs(AUG_IMAGE_TRAIN_PATH, exist_ok=True)\n",
        "os.makedirs(AUG_MASK_TRAIN_PATH, exist_ok=True)\n",
        "os.makedirs(AUG_MANUAL_TRAIN_PATH, exist_ok=True)\n",
        "\n",
        "def augment_drive_train_set_with_original(image_dir, mask_dir, manual_dir, save_image_dir, save_mask_dir, save_manual_dir, augmentations_per_image=3):\n",
        "    \"\"\"Augments DRIVE training images & corresponding vessel and manual masks, saving original + augmentations.\"\"\"\n",
        "    for img_name in tqdm(os.listdir(image_dir), desc=\"Augmenting DRIVE Training Set\"):\n",
        "        if not img_name.endswith('.npy'):\n",
        "            continue\n",
        "        img_path = os.path.join(image_dir, img_name)\n",
        "        # Generate correct mask filenames based on given example:\n",
        "        # For an image named \"21_training.npy\", the vessel mask is \"21_training_mask.npy\" and manual mask is \"21_manual1.npy\"\n",
        "        mask_name = img_name.replace(\"_training.npy\", \"_training_mask.npy\")\n",
        "        manual_name = img_name.replace(\"_training.npy\", \"_manual1.npy\")\n",
        "\n",
        "        mask_path = os.path.join(mask_dir, mask_name)\n",
        "        manual_path = os.path.join(manual_dir, manual_name)\n",
        "\n",
        "        if not (os.path.exists(mask_path) and os.path.exists(manual_path)):\n",
        "            print(f\"⚠️ Skipping {img_name} (Missing Mask)\")\n",
        "            continue\n",
        "\n",
        "        img = np.load(img_path)\n",
        "        mask = np.load(mask_path)\n",
        "        manual = np.load(manual_path)\n",
        "\n",
        "        img_uint8 = (img * 255).astype(np.uint8)\n",
        "        mask_uint8 = (mask * 255).astype(np.uint8)\n",
        "        manual_uint8 = (manual * 255).astype(np.uint8)\n",
        "\n",
        "        # Save original files (as .jpg)\n",
        "        orig_img_save = os.path.join(save_image_dir, img_name.replace('.npy', '.jpg'))\n",
        "        orig_mask_save = os.path.join(save_mask_dir, mask_name.replace('.npy', '.jpg'))\n",
        "        orig_manual_save = os.path.join(save_manual_dir, manual_name.replace('.npy', '.jpg'))\n",
        "        cv2.imwrite(orig_img_save, img_uint8)\n",
        "        cv2.imwrite(orig_mask_save, mask_uint8)\n",
        "        cv2.imwrite(orig_manual_save, manual_uint8)\n",
        "\n",
        "        for i in range(augmentations_per_image):\n",
        "            augmented = drive_augment(image=img_uint8, mask_vessel=mask_uint8, mask_manual=manual_uint8)\n",
        "\n",
        "            aug_img_save = os.path.join(save_image_dir, f\"aug_{i}_{img_name.replace('.npy', '.jpg')}\")\n",
        "            aug_mask_save = os.path.join(save_mask_dir, f\"aug_{i}_{mask_name.replace('.npy', '.jpg')}\")\n",
        "            aug_manual_save = os.path.join(save_manual_dir, f\"aug_{i}_{manual_name.replace('.npy', '.jpg')}\")\n",
        "\n",
        "            cv2.imwrite(aug_img_save, augmented[\"image\"])\n",
        "            cv2.imwrite(aug_mask_save, augmented[\"mask_vessel\"])\n",
        "            cv2.imwrite(aug_manual_save, augmented[\"mask_manual\"])\n",
        "\n",
        "augment_drive_train_set_with_original(DRIVE_IMAGE_TRAIN_PATH, DRIVE_MASK_TRAIN_PATH, DRIVE_MANUAL_TRAIN_PATH,\n",
        "                                        AUG_IMAGE_TRAIN_PATH, AUG_MASK_TRAIN_PATH, AUG_MANUAL_TRAIN_PATH, augmentations_per_image=3)\n",
        "print(\"✅ DRIVE Training Set Augmentation Complete!\")\n"
      ],
      "metadata": {
        "colab": {
          "base_uri": "https://localhost:8080/"
        },
        "id": "GUfgq7wW_i3T",
        "outputId": "aec64259-f0bf-4e5d-cce2-53f45ef27364"
      },
      "execution_count": null,
      "outputs": [
        {
          "output_type": "stream",
          "name": "stderr",
          "text": [
            "Augmenting DRIVE Training Set: 100%|██████████| 20/20 [00:00<00:00, 20.66it/s]"
          ]
        },
        {
          "output_type": "stream",
          "name": "stdout",
          "text": [
            "✅ DRIVE Training Set Augmentation Complete!\n"
          ]
        },
        {
          "output_type": "stream",
          "name": "stderr",
          "text": [
            "\n"
          ]
        }
      ]
    },
    {
      "cell_type": "code",
      "source": [
        "DRIVE_IMAGE_TEST_PATH = \"/content/preprocessed_drive/test/images\"\n",
        "DRIVE_MASK_TEST_PATH = \"/content/preprocessed_drive/test/mask\"\n",
        "\n",
        "AUG_IMAGE_TEST_PATH = \"/content/augmented_drive/test/images\"\n",
        "AUG_MASK_TEST_PATH = \"/content/augmented_drive/test/mask\"\n",
        "\n",
        "os.makedirs(AUG_IMAGE_TEST_PATH, exist_ok=True)\n",
        "os.makedirs(AUG_MASK_TEST_PATH, exist_ok=True)\n",
        "\n",
        "def augment_drive_test_set_with_original(image_dir, mask_dir, save_image_dir, save_mask_dir, augmentations_per_image=3):\n",
        "    \"\"\"Augments DRIVE test images & corresponding vessel masks, saving original + augmentations.\"\"\"\n",
        "    for img_name in tqdm(os.listdir(image_dir), desc=\"Augmenting DRIVE Test Set\"):\n",
        "        if not img_name.endswith('.npy'):\n",
        "            continue\n",
        "        img_path = os.path.join(image_dir, img_name)\n",
        "        mask_name = img_name.replace(\"_test.npy\", \"_test_mask.npy\")\n",
        "        mask_path = os.path.join(mask_dir, mask_name)\n",
        "\n",
        "        if not os.path.exists(mask_path):\n",
        "            print(f\"⚠️ Skipping {img_name} (Missing Test Mask)\")\n",
        "            continue\n",
        "\n",
        "        img = np.load(img_path)\n",
        "        mask = np.load(mask_path)\n",
        "\n",
        "        img_uint8 = (img * 255).astype(np.uint8)\n",
        "        mask_uint8 = (mask * 255).astype(np.uint8)\n",
        "\n",
        "        # Save original files\n",
        "        orig_img_save = os.path.join(save_image_dir, img_name.replace('.npy', '.jpg'))\n",
        "        orig_mask_save = os.path.join(save_mask_dir, mask_name.replace('.npy', '.jpg'))\n",
        "        cv2.imwrite(orig_img_save, img_uint8)\n",
        "        cv2.imwrite(orig_mask_save, mask_uint8)\n",
        "\n",
        "        for i in range(augmentations_per_image):\n",
        "            augmented = drive_augment(image=img_uint8, mask_vessel=mask_uint8)\n",
        "\n",
        "            aug_img_save = os.path.join(save_image_dir, f\"aug_{i}_{img_name.replace('.npy', '.jpg')}\")\n",
        "            aug_mask_save = os.path.join(save_mask_dir, f\"aug_{i}_{mask_name.replace('.npy', '.jpg')}\")\n",
        "\n",
        "            cv2.imwrite(aug_img_save, augmented[\"image\"])\n",
        "            cv2.imwrite(aug_mask_save, augmented[\"mask_vessel\"])\n",
        "\n",
        "augment_drive_test_set_with_original(DRIVE_IMAGE_TEST_PATH, DRIVE_MASK_TEST_PATH, AUG_IMAGE_TEST_PATH, AUG_MASK_TEST_PATH, augmentations_per_image=3)\n",
        "print(\"✅ DRIVE Test Set Augmentation Complete!\")\n"
      ],
      "metadata": {
        "colab": {
          "base_uri": "https://localhost:8080/"
        },
        "id": "GlCGvbWq_1Qt",
        "outputId": "0142ed37-7b13-43e2-8212-774fa53f22c9"
      },
      "execution_count": null,
      "outputs": [
        {
          "output_type": "stream",
          "name": "stderr",
          "text": [
            "Augmenting DRIVE Test Set: 100%|██████████| 20/20 [00:00<00:00, 33.45it/s]"
          ]
        },
        {
          "output_type": "stream",
          "name": "stdout",
          "text": [
            "✅ DRIVE Test Set Augmentation Complete!\n"
          ]
        },
        {
          "output_type": "stream",
          "name": "stderr",
          "text": [
            "\n"
          ]
        }
      ]
    },
    {
      "cell_type": "code",
      "source": [
        "def count_files_recursive(directory):\n",
        "    total = 0\n",
        "    for root, _, files in os.walk(directory):\n",
        "        total += len([f for f in files if f.endswith('.jpg')])\n",
        "    return total\n",
        "\n",
        "print(\"APTOS Augmented Total Files:\", count_files_recursive(\"/content/augmented_aptos\"))\n",
        "print(\"IDRiD Fundus Augmented Total Files:\", count_files_recursive(\"/content/augmented_idrid\"))\n",
        "print(\"IDRiD Masks Augmented Total Files:\", count_files_recursive(\"/content/augmented_idrid_masks\"))\n",
        "print(\"STARE Augmented Fundus Images:\", count_files_recursive(\"/content/augmented_stare/images\"))\n",
        "print(\"STARE AH Masks:\", count_files_recursive(\"/content/augmented_stare/labels-ah\"))\n",
        "print(\"STARE VK Masks:\", count_files_recursive(\"/content/augmented_stare/labels-vk\"))\n",
        "print(\"DRIVE Train Augmented Fundus Images:\", count_files_recursive(\"/content/augmented_drive/training/images\"))\n",
        "print(\"DRIVE Train Augmented Vessel Masks:\", count_files_recursive(\"/content/augmented_drive/training/mask\"))\n",
        "print(\"DRIVE Train Augmented Manual Masks:\", count_files_recursive(\"/content/augmented_drive/training/1st_manual\"))\n",
        "print(\"DRIVE Test Augmented Fundus Images:\", count_files_recursive(\"/content/augmented_drive/test/images\"))\n",
        "print(\"DRIVE Test Augmented Vessel Masks:\", count_files_recursive(\"/content/augmented_drive/test/mask\"))\n"
      ],
      "metadata": {
        "colab": {
          "base_uri": "https://localhost:8080/"
        },
        "id": "IUTm3g5u_7rE",
        "outputId": "234b2390-f288-4eba-b0f9-cb345d1f47ba"
      },
      "execution_count": null,
      "outputs": [
        {
          "output_type": "stream",
          "name": "stdout",
          "text": [
            "APTOS Augmented Total Files: 14648\n",
            "IDRiD Fundus Augmented Total Files: 324\n",
            "IDRiD Masks Augmented Total Files: 964\n",
            "STARE Augmented Fundus Images: 80\n",
            "STARE AH Masks: 80\n",
            "STARE VK Masks: 80\n",
            "DRIVE Train Augmented Fundus Images: 80\n",
            "DRIVE Train Augmented Vessel Masks: 80\n",
            "DRIVE Train Augmented Manual Masks: 80\n",
            "DRIVE Test Augmented Fundus Images: 80\n",
            "DRIVE Test Augmented Vessel Masks: 80\n"
          ]
        }
      ]
    },
    {
      "cell_type": "markdown",
      "source": [
        "# U_NET"
      ],
      "metadata": {
        "id": "QL_hfU3hezXO"
      }
    },
    {
      "cell_type": "code",
      "source": [
        "import os\n",
        "import numpy as np\n",
        "import cv2\n",
        "import tensorflow as tf\n",
        "from tensorflow.keras import layers, models\n",
        "from tqdm import tqdm\n",
        "from sklearn.model_selection import train_test_split\n",
        "import matplotlib.pyplot as plt\n",
        "\n",
        "# Define Image Size & Paths\n",
        "IMG_SIZE = (256, 256)\n",
        "BATCH_SIZE = 8\n",
        "\n",
        "# Function to load images & masks from folders\n",
        "def load_images_and_masks(img_dir, mask_dir):\n",
        "    img_paths = sorted([os.path.join(img_dir, f) for f in os.listdir(img_dir) if f.endswith('.jpg')])\n",
        "    mask_paths = sorted([os.path.join(mask_dir, f) for f in os.listdir(mask_dir) if f.endswith('.jpg')])\n",
        "\n",
        "    images, masks = [], []\n",
        "    for img_path, mask_path in tqdm(zip(img_paths, mask_paths), total=len(img_paths), desc=\"Loading Data\"):\n",
        "        img = cv2.imread(img_path, cv2.IMREAD_COLOR)\n",
        "        img = cv2.resize(img, IMG_SIZE) / 255.0  # Normalize\n",
        "        mask = cv2.imread(mask_path, cv2.IMREAD_GRAYSCALE)\n",
        "        mask = cv2.resize(mask, IMG_SIZE) / 255.0  # Normalize\n",
        "        mask = np.expand_dims(mask, axis=-1)  # Add channel dimension\n",
        "\n",
        "        images.append(img)\n",
        "        masks.append(mask)\n",
        "\n",
        "    return np.array(images), np.array(masks)\n",
        "\n",
        "# Load IDRiD Data (Lesion Segmentation)\n",
        "IDRID_IMG_DIR = \"/content/augmented_idrid/a. Training Set\"\n",
        "IDRID_MASK_DIR = \"/content/augmented_idrid_masks/1. Microaneurysms\"  # Change lesion type if needed\n",
        "\n",
        "X_idrid, Y_idrid = load_images_and_masks(IDRID_IMG_DIR, IDRID_MASK_DIR)\n",
        "\n",
        "# Load DRIVE Data (Vessel Segmentation)\n",
        "DRIVE_IMG_DIR = \"/content/augmented_drive/training/images\"\n",
        "DRIVE_MASK_DIR = \"/content/augmented_drive/training/1st_manual\"\n",
        "\n",
        "X_drive, Y_drive = load_images_and_masks(DRIVE_IMG_DIR, DRIVE_MASK_DIR)\n",
        "\n",
        "# Load STARE Data (Vessel Segmentation)\n",
        "STARE_IMG_DIR = \"/content/augmented_stare/images\"\n",
        "STARE_MASK_DIR = \"/content/augmented_stare/labels-ah\"\n",
        "\n",
        "X_stare, Y_stare = load_images_and_masks(STARE_IMG_DIR, STARE_MASK_DIR)\n",
        "\n",
        "# Print dataset sizes\n",
        "print(f\"✅ IDRiD: {X_idrid.shape}, {Y_idrid.shape}\")\n",
        "print(f\"✅ DRIVE: {X_drive.shape}, {Y_drive.shape}\")\n",
        "print(f\"✅ STARE: {X_stare.shape}, {Y_stare.shape}\")\n"
      ],
      "metadata": {
        "colab": {
          "base_uri": "https://localhost:8080/"
        },
        "id": "3slGbxOxEyFS",
        "outputId": "69c769c5-f4ad-4ea6-c687-89e159851263"
      },
      "execution_count": null,
      "outputs": [
        {
          "output_type": "stream",
          "name": "stderr",
          "text": [
            "Loading Data: 100%|██████████| 216/216 [00:00<00:00, 308.47it/s]\n",
            "Loading Data: 100%|██████████| 80/80 [00:00<00:00, 342.55it/s]\n",
            "Loading Data: 100%|██████████| 80/80 [00:00<00:00, 366.38it/s]\n"
          ]
        },
        {
          "output_type": "stream",
          "name": "stdout",
          "text": [
            "✅ IDRiD: (216, 256, 256, 3), (216, 256, 256, 1)\n",
            "✅ DRIVE: (80, 256, 256, 3), (80, 256, 256, 1)\n",
            "✅ STARE: (80, 256, 256, 3), (80, 256, 256, 1)\n"
          ]
        }
      ]
    },
    {
      "cell_type": "code",
      "source": [
        "# Split data into train and validation (80-20 split)\n",
        "X_train_idrid, X_val_idrid, Y_train_idrid, Y_val_idrid = train_test_split(X_idrid, Y_idrid, test_size=0.2, random_state=42)\n",
        "X_train_drive, X_val_drive, Y_train_drive, Y_val_drive = train_test_split(X_drive, Y_drive, test_size=0.2, random_state=42)\n",
        "X_train_stare, X_val_stare, Y_train_stare, Y_val_stare = train_test_split(X_stare, Y_stare, test_size=0.2, random_state=42)\n",
        "\n",
        "print(f\"✅ Training Set (IDRiD): {X_train_idrid.shape}, {Y_train_idrid.shape}\")\n",
        "print(f\"✅ Validation Set (IDRiD): {X_val_idrid.shape}, {Y_val_idrid.shape}\")\n",
        "\n",
        "print(f\"✅ Training Set (DRIVE): {X_train_drive.shape}, {Y_train_drive.shape}\")\n",
        "print(f\"✅ Validation Set (DRIVE): {X_val_drive.shape}, {Y_val_drive.shape}\")\n",
        "\n",
        "print(f\"✅ Training Set (STARE): {X_train_stare.shape}, {Y_train_stare.shape}\")\n",
        "print(f\"✅ Validation Set (STARE): {X_val_stare.shape}, {Y_val_stare.shape}\")\n"
      ],
      "metadata": {
        "colab": {
          "base_uri": "https://localhost:8080/"
        },
        "id": "oTYqu6c4FBqv",
        "outputId": "e9655302-1178-4f4e-c8b6-64f3e56181c2"
      },
      "execution_count": null,
      "outputs": [
        {
          "output_type": "stream",
          "name": "stdout",
          "text": [
            "✅ Training Set (IDRiD): (172, 256, 256, 3), (172, 256, 256, 1)\n",
            "✅ Validation Set (IDRiD): (44, 256, 256, 3), (44, 256, 256, 1)\n",
            "✅ Training Set (DRIVE): (64, 256, 256, 3), (64, 256, 256, 1)\n",
            "✅ Validation Set (DRIVE): (16, 256, 256, 3), (16, 256, 256, 1)\n",
            "✅ Training Set (STARE): (64, 256, 256, 3), (64, 256, 256, 1)\n",
            "✅ Validation Set (STARE): (16, 256, 256, 3), (16, 256, 256, 1)\n"
          ]
        }
      ]
    },
    {
      "cell_type": "code",
      "source": [
        "def build_unet(input_size=(256, 256, 3)):\n",
        "    inputs = layers.Input(input_size)\n",
        "\n",
        "    # Encoder\n",
        "    c1 = layers.Conv2D(64, (3, 3), activation=\"relu\", padding=\"same\")(inputs)\n",
        "    c1 = layers.Conv2D(64, (3, 3), activation=\"relu\", padding=\"same\")(c1)\n",
        "    p1 = layers.MaxPooling2D((2, 2))(c1)\n",
        "\n",
        "    c2 = layers.Conv2D(128, (3, 3), activation=\"relu\", padding=\"same\")(p1)\n",
        "    c2 = layers.Conv2D(128, (3, 3), activation=\"relu\", padding=\"same\")(c2)\n",
        "    p2 = layers.MaxPooling2D((2, 2))(c2)\n",
        "\n",
        "    c3 = layers.Conv2D(256, (3, 3), activation=\"relu\", padding=\"same\")(p2)\n",
        "    c3 = layers.Conv2D(256, (3, 3), activation=\"relu\", padding=\"same\")(c3)\n",
        "    p3 = layers.MaxPooling2D((2, 2))(c3)\n",
        "\n",
        "    # Bottleneck\n",
        "    c4 = layers.Conv2D(512, (3, 3), activation=\"relu\", padding=\"same\")(p3)\n",
        "    c4 = layers.Conv2D(512, (3, 3), activation=\"relu\", padding=\"same\")(c4)\n",
        "\n",
        "    # Decoder\n",
        "    u5 = layers.Conv2DTranspose(256, (2, 2), strides=(2, 2), padding=\"same\")(c4)\n",
        "    u5 = layers.concatenate([u5, c3])\n",
        "    c5 = layers.Conv2D(256, (3, 3), activation=\"relu\", padding=\"same\")(u5)\n",
        "\n",
        "    u6 = layers.Conv2DTranspose(128, (2, 2), strides=(2, 2), padding=\"same\")(c5)\n",
        "    u6 = layers.concatenate([u6, c2])\n",
        "    c6 = layers.Conv2D(128, (3, 3), activation=\"relu\", padding=\"same\")(u6)\n",
        "\n",
        "    u7 = layers.Conv2DTranspose(64, (2, 2), strides=(2, 2), padding=\"same\")(c6)\n",
        "    u7 = layers.concatenate([u7, c1])\n",
        "    c7 = layers.Conv2D(64, (3, 3), activation=\"relu\", padding=\"same\")(u7)\n",
        "\n",
        "    outputs = layers.Conv2D(1, (1, 1), activation=\"sigmoid\")(c7)\n",
        "\n",
        "    model = models.Model(inputs=[inputs], outputs=[outputs])\n",
        "    return model\n"
      ],
      "metadata": {
        "id": "De5QkeUIFEi6"
      },
      "execution_count": null,
      "outputs": []
    },
    {
      "cell_type": "code",
      "source": [
        "# Compile and Train U-Net\n",
        "model = build_unet()\n",
        "model.compile(optimizer=\"adam\", loss=\"binary_crossentropy\", metrics=[\"accuracy\"])\n",
        "\n",
        "EPOCHS = 25\n",
        "history = model.fit(X_train_drive, Y_train_drive, validation_data=(X_val_drive, Y_val_drive), epochs=EPOCHS, batch_size=8)\n",
        "\n",
        "# Save Model\n",
        "model.save(\"/content/unet_drive.h5\")\n",
        "print(\"✅ U-Net Model Saved!\")\n"
      ],
      "metadata": {
        "colab": {
          "base_uri": "https://localhost:8080/"
        },
        "id": "2lem03YnFJHo",
        "outputId": "48babe38-cfa3-4631-9f5d-0b017ae999ad"
      },
      "execution_count": null,
      "outputs": [
        {
          "metadata": {
            "tags": null
          },
          "name": "stdout",
          "output_type": "stream",
          "text": [
            "Epoch 1/25\n"
          ]
        },
        {
          "metadata": {
            "tags": null
          },
          "name": "stderr",
          "output_type": "stream",
          "text": [
            "/usr/local/lib/python3.11/dist-packages/keras/src/models/functional.py:237: UserWarning: The structure of `inputs` doesn't match the expected structure.\n",
            "Expected: ['keras_tensor']\n",
            "Received: inputs=Tensor(shape=(8, 256, 256, 3))\n",
            "  warnings.warn(msg)\n"
          ]
        },
        {
          "metadata": {
            "tags": null
          },
          "name": "stdout",
          "output_type": "stream",
          "text": [
            "\u001b[1m8/8\u001b[0m \u001b[32m━━━━━━━━━━━━━━━━━━━━\u001b[0m\u001b[37m\u001b[0m \u001b[1m315s\u001b[0m 39s/step - accuracy: 0.4970 - loss: 0.6094 - val_accuracy: 0.6939 - val_loss: 0.4152\n",
            "Epoch 2/25\n",
            "\u001b[1m8/8\u001b[0m \u001b[32m━━━━━━━━━━━━━━━━━━━━\u001b[0m\u001b[37m\u001b[0m \u001b[1m341s\u001b[0m 42s/step - accuracy: 0.6718 - loss: 0.4144 - val_accuracy: 0.6939 - val_loss: 0.3172\n",
            "Epoch 3/25\n",
            "\u001b[1m8/8\u001b[0m \u001b[32m━━━━━━━━━━━━━━━━━━━━\u001b[0m\u001b[37m\u001b[0m \u001b[1m350s\u001b[0m 39s/step - accuracy: 0.6966 - loss: 0.3071 - val_accuracy: 0.6939 - val_loss: 0.2587\n",
            "Epoch 4/25\n",
            "\u001b[1m8/8\u001b[0m \u001b[32m━━━━━━━━━━━━━━━━━━━━\u001b[0m\u001b[37m\u001b[0m \u001b[1m335s\u001b[0m 41s/step - accuracy: 0.6565 - loss: 0.2720 - val_accuracy: 0.6939 - val_loss: 0.2548\n",
            "Epoch 5/25\n",
            "\u001b[1m8/8\u001b[0m \u001b[32m━━━━━━━━━━━━━━━━━━━━\u001b[0m\u001b[37m\u001b[0m \u001b[1m307s\u001b[0m 39s/step - accuracy: 0.6868 - loss: 0.2672 - val_accuracy: 0.6939 - val_loss: 0.2523\n",
            "Epoch 6/25\n",
            "\u001b[1m8/8\u001b[0m \u001b[32m━━━━━━━━━━━━━━━━━━━━\u001b[0m\u001b[37m\u001b[0m \u001b[1m346s\u001b[0m 42s/step - accuracy: 0.6891 - loss: 0.2599 - val_accuracy: 0.6939 - val_loss: 0.2537\n",
            "Epoch 7/25\n",
            "\u001b[1m8/8\u001b[0m \u001b[32m━━━━━━━━━━━━━━━━━━━━\u001b[0m\u001b[37m\u001b[0m \u001b[1m377s\u001b[0m 41s/step - accuracy: 0.6807 - loss: 0.2645 - val_accuracy: 0.6939 - val_loss: 0.2516\n",
            "Epoch 8/25\n",
            "\u001b[1m8/8\u001b[0m \u001b[32m━━━━━━━━━━━━━━━━━━━━\u001b[0m\u001b[37m\u001b[0m \u001b[1m359s\u001b[0m 38s/step - accuracy: 0.6710 - loss: 0.2616 - val_accuracy: 0.6939 - val_loss: 0.2498\n",
            "Epoch 9/25\n",
            "\u001b[1m8/8\u001b[0m \u001b[32m━━━━━━━━━━━━━━━━━━━━\u001b[0m\u001b[37m\u001b[0m \u001b[1m341s\u001b[0m 41s/step - accuracy: 0.6878 - loss: 0.2619 - val_accuracy: 0.6939 - val_loss: 0.2495\n",
            "Epoch 10/25\n",
            "\u001b[1m8/8\u001b[0m \u001b[32m━━━━━━━━━━━━━━━━━━━━\u001b[0m\u001b[37m\u001b[0m \u001b[1m363s\u001b[0m 38s/step - accuracy: 0.6872 - loss: 0.2611 - val_accuracy: 0.6939 - val_loss: 0.2489\n",
            "Epoch 11/25\n",
            "\u001b[1m8/8\u001b[0m \u001b[32m━━━━━━━━━━━━━━━━━━━━\u001b[0m\u001b[37m\u001b[0m \u001b[1m325s\u001b[0m 41s/step - accuracy: 0.6668 - loss: 0.2600 - val_accuracy: 0.6939 - val_loss: 0.2487\n",
            "Epoch 12/25\n",
            "\u001b[1m8/8\u001b[0m \u001b[32m━━━━━━━━━━━━━━━━━━━━\u001b[0m\u001b[37m\u001b[0m \u001b[1m361s\u001b[0m 38s/step - accuracy: 0.6693 - loss: 0.2610 - val_accuracy: 0.6939 - val_loss: 0.2518\n",
            "Epoch 13/25\n",
            "\u001b[1m8/8\u001b[0m \u001b[32m━━━━━━━━━━━━━━━━━━━━\u001b[0m\u001b[37m\u001b[0m \u001b[1m318s\u001b[0m 38s/step - accuracy: 0.6753 - loss: 0.2601 - val_accuracy: 0.6939 - val_loss: 0.2487\n",
            "Epoch 14/25\n",
            "\u001b[1m8/8\u001b[0m \u001b[32m━━━━━━━━━━━━━━━━━━━━\u001b[0m\u001b[37m\u001b[0m \u001b[1m324s\u001b[0m 38s/step - accuracy: 0.6495 - loss: 0.2605 - val_accuracy: 0.6939 - val_loss: 0.2480\n",
            "Epoch 15/25\n",
            "\u001b[1m8/8\u001b[0m \u001b[32m━━━━━━━━━━━━━━━━━━━━\u001b[0m\u001b[37m\u001b[0m \u001b[1m321s\u001b[0m 38s/step - accuracy: 0.6712 - loss: 0.2621 - val_accuracy: 0.6939 - val_loss: 0.2474\n",
            "Epoch 16/25\n",
            "\u001b[1m8/8\u001b[0m \u001b[32m━━━━━━━━━━━━━━━━━━━━\u001b[0m\u001b[37m\u001b[0m \u001b[1m302s\u001b[0m 38s/step - accuracy: 0.6763 - loss: 0.2582 - val_accuracy: 0.6939 - val_loss: 0.2469\n",
            "Epoch 17/25\n",
            "\u001b[1m8/8\u001b[0m \u001b[32m━━━━━━━━━━━━━━━━━━━━\u001b[0m\u001b[37m\u001b[0m \u001b[1m342s\u001b[0m 41s/step - accuracy: 0.6843 - loss: 0.2603 - val_accuracy: 0.6939 - val_loss: 0.2469\n",
            "Epoch 18/25\n",
            "\u001b[1m8/8\u001b[0m \u001b[32m━━━━━━━━━━━━━━━━━━━━\u001b[0m\u001b[37m\u001b[0m \u001b[1m304s\u001b[0m 38s/step - accuracy: 0.6715 - loss: 0.2555 - val_accuracy: 0.6939 - val_loss: 0.2444\n",
            "Epoch 19/25\n",
            "\u001b[1m8/8\u001b[0m \u001b[32m━━━━━━━━━━━━━━━━━━━━\u001b[0m\u001b[37m\u001b[0m \u001b[1m319s\u001b[0m 38s/step - accuracy: 0.6740 - loss: 0.2548 - val_accuracy: 0.6939 - val_loss: 0.2484\n",
            "Epoch 20/25\n"
          ]
        }
      ]
    },
    {
      "cell_type": "code",
      "source": [
        "# Compile and Train U-Net\n",
        "model = build_unet()\n",
        "model.compile(optimizer=\"adam\", loss=\"binary_crossentropy\", metrics=[\"accuracy\"])\n",
        "\n",
        "EPOCHS = 25\n",
        "history = model.fit(X_train_stare, Y_train_stare, validation_data=(X_val_stare, Y_val_stare), epochs=EPOCHS, batch_size=8)\n",
        "\n",
        "# Save Model\n",
        "model.save(\"/content/unet_stare.h5\")\n",
        "print(\"✅ U-Net Model Saved!\")"
      ],
      "metadata": {
        "id": "KeD6Jbio6cIn"
      },
      "execution_count": null,
      "outputs": []
    },
    {
      "cell_type": "code",
      "source": [
        "# Compile and Train U-Net\n",
        "model = build_unet()\n",
        "model.compile(optimizer=\"adam\", loss=\"binary_crossentropy\", metrics=[\"accuracy\"])\n",
        "\n",
        "EPOCHS = 25\n",
        "history = model.fit(X_train_idrid, Y_train_idrid, validation_data=(X_val_idrid, Y_val_idrid), epochs=EPOCHS, batch_size=8)\n",
        "\n",
        "# Save Model\n",
        "model.save(\"/content/unet_idrid.h5\")\n",
        "print(\"✅ U-Net Model Saved!\")"
      ],
      "metadata": {
        "id": "YJqpDzMA4nTY"
      },
      "execution_count": null,
      "outputs": []
    }
  ]
}